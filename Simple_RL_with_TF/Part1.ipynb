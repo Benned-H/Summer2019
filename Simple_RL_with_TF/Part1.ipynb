{
  "nbformat": 4,
  "nbformat_minor": 0,
  "metadata": {
    "colab": {
      "name": "Part1",
      "version": "0.3.2",
      "provenance": [],
      "collapsed_sections": [],
      "include_colab_link": true
    },
    "kernelspec": {
      "name": "python3",
      "display_name": "Python 3"
    }
  },
  "cells": [
    {
      "cell_type": "markdown",
      "metadata": {
        "id": "view-in-github",
        "colab_type": "text"
      },
      "source": [
        "<a href=\"https://colab.research.google.com/github/Benned-H/Summer2019/blob/master/Simple_RL_with_TF/Part1.ipynb\" target=\"_parent\"><img src=\"https://colab.research.google.com/assets/colab-badge.svg\" alt=\"Open In Colab\"/></a>"
      ]
    },
    {
      "cell_type": "markdown",
      "metadata": {
        "id": "6f8jPAE1Pz03",
        "colab_type": "text"
      },
      "source": [
        "# Part 1: Two-armed Bandit [[Link]](https://medium.com/@awjuliani/super-simple-reinforcement-learning-tutorial-part-1-fd544fab149)"
      ]
    },
    {
      "cell_type": "markdown",
      "metadata": {
        "id": "5nl592I4P7yM",
        "colab_type": "text"
      },
      "source": [
        "Reinforcement learning needs a different mindset than typical supervised learning; the 'answer' space is much broader. There's no one 'correct' action for an agent to take, but we'll still find ways to learn nonetheless."
      ]
    },
    {
      "cell_type": "markdown",
      "metadata": {
        "id": "d71P3H0nQY6u",
        "colab_type": "text"
      },
      "source": [
        "The **two-armed bandit**, or more broadly $ n$-armed bandit, is one of the simplest RL problems. We have $n$ slot machines, each with some payout probability, so we have to find the best machine and then maximize our reward by always choosing it. In the case of two machines, we have quite a simple problem, but aspects found in many other RL problems include:\n",
        "* Different actions yield different rewards.\n",
        "* Rewards are delayed over time, so we won't immediately know the value of our actions.\n",
        "* The reward for an action depends on the current state of the environment."
      ]
    },
    {
      "cell_type": "markdown",
      "metadata": {
        "id": "UT0AliWcRha5",
        "colab_type": "text"
      },
      "source": [
        "The goal of learning which actions are best and ensuring we choose such actions is called learning a **policy**. In this section, we'll be using a method called **policy gradients**, where a simple neural network uses gradient descent to learn which actions to pick. An alternative to this would be learning **value functions**, where our agent learns to predict how good a given state or action will be (predicting the value of the state/action)."
      ]
    },
    {
      "cell_type": "markdown",
      "metadata": {
        "id": "GcJZGgpNSO5U",
        "colab_type": "text"
      },
      "source": [
        "**Policy Gradient**\n",
        "\n",
        "In the simplest case, suppose our network produces explicit outputs. We can ask the network for an output weight for each possible arm to pull, and we'll pick the arm with the highest given weight. To update the network, we'll try arms using an $\\epsilon$-greedy policy. See Part 0 for my notes on this algorithm, but it's quite simple (pick a random arm with probability $\\epsilon$, else pick highest weight arm)."
      ]
    },
    {
      "cell_type": "markdown",
      "metadata": {
        "id": "Disb6viHUBae",
        "colab_type": "text"
      },
      "source": [
        "We'll give our agent a reward of either -1 or 1, and then update the network with equation:\n",
        "\n",
        "$\\text{Loss}=-\\log(\\pi)*A$, where $A$ is the **advantage**. This is an essential part of all RL algorithms which corresponds to how much better an action was than some baseline. For now we assume the baseline is 0, so the advantage will just be the reward we recieve. $\\pi$ is our policy, which here means the weight of the chosen action."
      ]
    },
    {
      "cell_type": "markdown",
      "metadata": {
        "id": "jE-iQpycUClB",
        "colab_type": "text"
      },
      "source": [
        "Consider this loss function. Say we chose a good action with high confidence: reward 1, weight 0.8. Thus $A=1,\\pi=0.8\\implies\\text{Loss}=-\\log(0.8)*1=0.22$.\n",
        "\n",
        "As for high confidence, bad reward: $A=-1,\\pi=0.8\\implies\\text{Loss}=-\\log(0.8)*-1=-0.22$.\n",
        "\n",
        "For low confidence, good reward: $A=1,\\pi=0.1\\implies\\text{Loss}=-\\log(0.1)*1=2.3$.\n",
        "\n",
        "We see that the agent will increase the weight for actions with positive reward, choosing those actions more frequently in the future."
      ]
    },
    {
      "cell_type": "markdown",
      "metadata": {
        "id": "MHzHmgsw5TNT",
        "colab_type": "text"
      },
      "source": [
        "# Learning Some TensorFlow"
      ]
    },
    {
      "cell_type": "markdown",
      "metadata": {
        "id": "1rgYtr-s5WaV",
        "colab_type": "text"
      },
      "source": [
        "It's at this point that the reinforcement learning tutorial throws some code below the article and calls it a day. I have no idea how to use TensorFlow placeholders or optimizers; my TensorFlow experience is minimal. I'll go through a few sources on TensorFlow basics here before tackling the problem at hand again."
      ]
    },
    {
      "cell_type": "markdown",
      "metadata": {
        "id": "7z-oSqEB1cmx",
        "colab_type": "text"
      },
      "source": [
        "## 1. TensorFlow Tutorial - Deep Learning Using TF [[Link]](https://www.edureka.co/blog/tensorflow-tutorial/)"
      ]
    },
    {
      "cell_type": "markdown",
      "metadata": {
        "id": "b20ukbLN2Qvd",
        "colab_type": "text"
      },
      "source": [
        "TensorFlow (TF) is an open source deep learning library based on the concept of data flow graphs. This post will discuss what TF is, its code basics, and a use case."
      ]
    },
    {
      "cell_type": "markdown",
      "metadata": {
        "id": "sNv8XI6W2i_N",
        "colab_type": "text"
      },
      "source": [
        "**What are Tensors?**   \n",
        "Tensors are the de facto representation of data in deep learning. Tensors are multidimensional arrays, so in fact a vector is a 1D tensor, matrix 2D tensor, and a 3D array of data is just a 3D tensor. It's that simple. Thus TensorFlow is just a series of operations on a flow of tensors."
      ]
    },
    {
      "cell_type": "markdown",
      "metadata": {
        "id": "H_Ar410L3G69",
        "colab_type": "text"
      },
      "source": [
        "**What is TensorFlow?**   \n",
        "TensorFlow is a Python library that provides various functionalities for implementing deep learning models. The process of writing a TensorFlow program is composed of two steps:\n",
        "1. Build a computational graph.\n",
        "2. Run the computational graph."
      ]
    },
    {
      "cell_type": "markdown",
      "metadata": {
        "id": "enMkqp_G4FXP",
        "colab_type": "text"
      },
      "source": [
        "**1. Building a Computational Graph**   \n",
        "A computational graph is a series of TensorFlow operations arranged as nodes in a graph. Each node takes 0 or more tensors as input and produces some tensor output. Here's a simple example:"
      ]
    },
    {
      "cell_type": "code",
      "metadata": {
        "id": "zh55zgLb4bdW",
        "colab_type": "code",
        "colab": {}
      },
      "source": [
        "import tensorflow as tf\n",
        "\n",
        "a = tf.constant(8.0)\n",
        "b = tf.constant(2.0)\n",
        "\n",
        "c = a*b"
      ],
      "execution_count": 0,
      "outputs": []
    },
    {
      "cell_type": "markdown",
      "metadata": {
        "id": "tjDrLzLr4tYq",
        "colab_type": "text"
      },
      "source": [
        "**Constant nodes** store constant values that take no input, but produce their stored values as output. Above, ```a``` and ```b``` each store the constants ```8.0``` and ```2.0```, respectively. The ```c``` node multiplies ```a``` with ```b```, so executing ```c``` will produce that result. So far we haven't actually computed anything, only described the computation. The computational graph of TensorFlow is just an alternative way to conceptualize mathematical calculations, but this format allows parallelization."
      ]
    },
    {
      "cell_type": "markdown",
      "metadata": {
        "id": "v8b5_v-650nf",
        "colab_type": "text"
      },
      "source": [
        "**2. Running a Computational Graph**   \n",
        "In order to get the output of node ```c```, we need to run the graph within a **session**, which places the graph onto a CPU or GPU and executes the calculations. A session controls the entire TensorFlow runtime, storing the order in which the operations will be performed and passing results to the next nodes in the pipeline. Here's the code to do this for our example:"
      ]
    },
    {
      "cell_type": "code",
      "metadata": {
        "id": "ClHMnAfM6nPA",
        "colab_type": "code",
        "colab": {
          "base_uri": "https://localhost:8080/",
          "height": 34
        },
        "outputId": "73bd1863-ff62-42d5-9f47-90e1e922fae4"
      },
      "source": [
        "sess = tf.Session() # Create the session object\n",
        "output_c = sess.run(c) # Run the graph for c, store the result.\n",
        "print(output_c) # Print the output we got from c.\n",
        "sess.close() # Close session to free resources."
      ],
      "execution_count": 20,
      "outputs": [
        {
          "output_type": "stream",
          "text": [
            "16.0\n"
          ],
          "name": "stdout"
        }
      ]
    },
    {
      "cell_type": "markdown",
      "metadata": {
        "id": "FFEZESq3566K",
        "colab_type": "text"
      },
      "source": [
        "**Constants, Placeholder and Variables**   \n",
        "In TensorFlow, constants, placeholders and variables each represent different parameters of a deep learning model.   \n",
        "* **Placeholders** allow your graph to take external inputs as parameters. They contain no data and must be fed inputs at runtime. If given no input, they'll generate an error.\n",
        "* **Variables** allow the graph to give a different output w.r.t. some same input. These are the trainable parameters in the graph, which can change over time. They're defined with an initial value and data type (if no type provided, will be inferred from the input)."
      ]
    },
    {
      "cell_type": "code",
      "metadata": {
        "id": "N1DG5vKo7taX",
        "colab_type": "code",
        "colab": {
          "base_uri": "https://localhost:8080/",
          "height": 34
        },
        "outputId": "b9d87a71-4549-4c76-b20e-46b66c4536ab"
      },
      "source": [
        "# Placeholder Example\n",
        "a = tf.placeholder(tf.float32) # Create 2 placeholders.\n",
        "b = tf.placeholder(tf.float32)\n",
        "\n",
        "mul = a*b\n",
        "sess = tf.Session()\n",
        "output = sess.run(mul, {a: 5, b: 6})\n",
        "print(\"Multiplying a and b:\", output)"
      ],
      "execution_count": 21,
      "outputs": [
        {
          "output_type": "stream",
          "text": [
            "Multiplying a and b: 30.0\n"
          ],
          "name": "stdout"
        }
      ]
    },
    {
      "cell_type": "code",
      "metadata": {
        "id": "nlGx6cp38ZMI",
        "colab_type": "code",
        "colab": {
          "base_uri": "https://localhost:8080/",
          "height": 34
        },
        "outputId": "e8723d51-0d40-427e-f770-52beb5c28c32"
      },
      "source": [
        "# We didn't specify a shape for a and b, so we can do:\n",
        "output = sess.run(mul, {a: [5,6,7], b: [6,7,8]})\n",
        "print(\"Multiplying a and b:\", output)\n",
        "\n",
        "sess.close()"
      ],
      "execution_count": 22,
      "outputs": [
        {
          "output_type": "stream",
          "text": [
            "Multiplying a and b: [30. 42. 56.]\n"
          ],
          "name": "stdout"
        }
      ]
    },
    {
      "cell_type": "code",
      "metadata": {
        "id": "Ba03CzGW9cKk",
        "colab_type": "code",
        "colab": {}
      },
      "source": [
        "# Variable Example\n",
        "var = tf.Variable([9.0], dtype = tf.float32)\n",
        "\n",
        "sess = tf.Session()"
      ],
      "execution_count": 0,
      "outputs": []
    },
    {
      "cell_type": "markdown",
      "metadata": {
        "id": "AyTZrKy4-U_5",
        "colab_type": "text"
      },
      "source": [
        "Variables are *not initialized when you call* ```tf.Variable``` but rather you must use:"
      ]
    },
    {
      "cell_type": "code",
      "metadata": {
        "id": "IQzXRJ2r-fDM",
        "colab_type": "code",
        "colab": {}
      },
      "source": [
        "init = tf.global_variables_initializer()\n",
        "sess.run(init) # Initialize before using the graph.\n",
        "\n",
        "sess.close()"
      ],
      "execution_count": 0,
      "outputs": []
    },
    {
      "cell_type": "markdown",
      "metadata": {
        "id": "vvQvMoVj8nXl",
        "colab_type": "text"
      },
      "source": [
        "Variables are in-memory buffers that contain tensors, and they'll survive across multiple executions of a graph. Normal tensors are instantiated and then immediately deleted after the execution of their graph."
      ]
    },
    {
      "cell_type": "markdown",
      "metadata": {
        "id": "HS_WpRlN_WR3",
        "colab_type": "text"
      },
      "source": [
        "**Example: Linear Regression using TF**   \n",
        "Recall the classic, iconic formula $y=mx+b$. Let's code an algorithm to find a line of best fit for some given points. We'll need:\n",
        "* Dependent/output variable ($y$)\n",
        "* Slope variable ($m$)\n",
        "* y-intercept or bias ($b$)\n",
        "* Independent/input variable ($x$)"
      ]
    },
    {
      "cell_type": "code",
      "metadata": {
        "id": "u9rWc6cpBCdT",
        "colab_type": "code",
        "colab": {
          "base_uri": "https://localhost:8080/",
          "height": 34
        },
        "outputId": "26305a62-d7dd-4c38-9c09-812eb2e5d7b7"
      },
      "source": [
        "# Model parameters, initialize values to +-0.4\n",
        "m = tf.Variable([0.4], dtype = tf.float32) # Slope var\n",
        "b = tf.Variable([-0.4], dtype = tf.float32) # Bias var\n",
        "\n",
        "# Model input\n",
        "x = tf.placeholder(tf.float32) # Independent input\n",
        "\n",
        "# Equation for our predicted output\n",
        "y_hat = m*x + b\n",
        "\n",
        "# Init everything\n",
        "sess = tf.Session()\n",
        "init = tf.global_variables_initializer()\n",
        "sess.run(init)\n",
        "\n",
        "# Print our current results.\n",
        "print(sess.run(y_hat, {x: [-3,-2,1,2.5]}))"
      ],
      "execution_count": 57,
      "outputs": [
        {
          "output_type": "stream",
          "text": [
            "[-1.6 -1.2  0.   0.6]\n"
          ],
          "name": "stdout"
        }
      ]
    },
    {
      "cell_type": "markdown",
      "metadata": {
        "id": "2PT9Sv0qDJN-",
        "colab_type": "text"
      },
      "source": [
        "To complete this model, we need to add two things:\n",
        "1. Provide a mechanism for the model to train itself given a set of inputs and outputs.\n",
        "2. Validate our trained model by comparing its output with desired outputs."
      ]
    },
    {
      "cell_type": "markdown",
      "metadata": {
        "id": "U-tKdjviEMyt",
        "colab_type": "text"
      },
      "source": [
        "**Loss Function - Model Validation**   \n",
        "A loss function measures how far apart the current output of the model is from some target output. We'll use a common loss function, Sum of Squared Error (SSE).   \n",
        "This is calculated as:\n",
        "$\\text{Loss}=\\frac{1}{2}(y-\\hat y)^2$, where $y$ is the target and $\\hat y$ is our output."
      ]
    },
    {
      "cell_type": "code",
      "metadata": {
        "id": "jqoKVLzyFW7p",
        "colab_type": "code",
        "colab": {
          "base_uri": "https://localhost:8080/",
          "height": 34
        },
        "outputId": "e25b5a9d-e642-4a6f-8b0a-88cc4ff70c25"
      },
      "source": [
        "y = tf.placeholder(tf.float32) # Placeholder for target input.\n",
        "\n",
        "# Calculate SSE\n",
        "error = y - y_hat\n",
        "squared = tf.square(error)\n",
        "loss = tf.reduce_sum(squared) # Reduces dimension to 1 element.\n",
        "\n",
        "# Print loss\n",
        "print(sess.run(loss, {x: [1,2,3,4], y: [2,4,6,8]}))"
      ],
      "execution_count": 58,
      "outputs": [
        {
          "output_type": "stream",
          "text": [
            "90.24\n"
          ],
          "name": "stdout"
        }
      ]
    },
    {
      "cell_type": "markdown",
      "metadata": {
        "id": "-71QvMKHGxgH",
        "colab_type": "text"
      },
      "source": [
        "So we have quite a high loss, and we want to reduce that. We can use the ```tf.train``` module to optimize our model. The simplest optimizer is **gradient descent**, which uses the derivative of the loss w.r.t. each variable."
      ]
    },
    {
      "cell_type": "code",
      "metadata": {
        "id": "NsCBMvmPHJLJ",
        "colab_type": "code",
        "colab": {
          "base_uri": "https://localhost:8080/",
          "height": 34
        },
        "outputId": "78dc5c08-757c-4451-f60a-1cbb67813efa"
      },
      "source": [
        "# Initialize our optimizer with a 0.01 learning rate.\n",
        "optimizer = tf.train.GradientDescentOptimizer(0.01)\n",
        "\n",
        "train = optimizer.minimize(loss)\n",
        "\n",
        "records = [] # Record our loss over time.\n",
        "iterations = 20 # Train for this many iterations.\n",
        "\n",
        "for i in range(iterations):\n",
        "  sess.run(train, {x: [1,2,3,4], y: [2,4,6,8]})\n",
        "  records.append(sess.run(loss, {x: [1,2,3,4], y: [2,4,6,8]}))\n",
        "  \n",
        "print(sess.run([m,b]))"
      ],
      "execution_count": 59,
      "outputs": [
        {
          "output_type": "stream",
          "text": [
            "[array([1.9654541], dtype=float32), array([0.10156948], dtype=float32)]\n"
          ],
          "name": "stdout"
        }
      ]
    },
    {
      "cell_type": "code",
      "metadata": {
        "id": "RGg7CApOH1vN",
        "colab_type": "code",
        "colab": {
          "base_uri": "https://localhost:8080/",
          "height": 269
        },
        "outputId": "af28d8c6-487f-40ac-87de-f48f99e5d216"
      },
      "source": [
        "import matplotlib.pyplot as plt\n",
        "plt.plot(range(iterations), records, 'bo')\n",
        "plt.show()"
      ],
      "execution_count": 60,
      "outputs": [
        {
          "output_type": "display_data",
          "data": {
            "image/png": "[encoded data removed]",
            "text/plain": [
              "<Figure size 432x288 with 1 Axes>"
            ]
          },
          "metadata": {
            "tags": []
          }
        }
      ]
    },
    {
      "cell_type": "markdown",
      "metadata": {
        "id": "bvsbxM2bIkt-",
        "colab_type": "text"
      },
      "source": [
        "So there we go, our loss decreases over time and our model learns. On to the next tutorial.   \n",
        "*--Done 6/15/2019--*"
      ]
    },
    {
      "cell_type": "markdown",
      "metadata": {
        "id": "SRMrKMf68jW_",
        "colab_type": "text"
      },
      "source": [
        "## 2. TensorFlow Variables and Placeholders Tutorial With Example [[Link]](https://appdividend.com/2019/02/06/tensorflow-variables-and-placeholders-tutorial-with-example/)"
      ]
    },
    {
      "cell_type": "markdown",
      "metadata": {
        "id": "uWeDQEdt8v7p",
        "colab_type": "text"
      },
      "source": [
        "As we've seen, tensors are the central unit of data in TensorFlow. The number of dimensions a tensor has is its **rank**, and a rank 0 tensor is a **scalar**. A 1D array is a rank one tensor, a 2D array is a rank two tensor, etc."
      ]
    },
    {
      "cell_type": "markdown",
      "metadata": {
        "id": "GdMPMejk9Y9s",
        "colab_type": "text"
      },
      "source": [
        "TensorFlow **variables** are again the parameters of our model that can change over time. Variables need to be initialized before being used in our graph. **Placeholders** are initially empty and are used to feed in training examples. Their syntax is as follows:   \n",
        "```placeholder(dtype, shape=None, name=None)```. Thus the ```dtype``` parameter is mandatory yet the shape parameter is optional."
      ]
    },
    {
      "cell_type": "markdown",
      "metadata": {
        "id": "OYXU4tyz-OtD",
        "colab_type": "text"
      },
      "source": [
        "The difference between a **Session** and an **InteractiveSession** is that the InteractiveSession installs itself as the default. The tutorial doesn't elaborate on why this is helpful or useful."
      ]
    },
    {
      "cell_type": "code",
      "metadata": {
        "id": "MYOHtTkH-GLv",
        "colab_type": "code",
        "colab": {
          "base_uri": "https://localhost:8080/",
          "height": 34
        },
        "outputId": "9870efdf-1ed9-4301-b4da-a8750fcd2f93"
      },
      "source": [
        "# Example code\n",
        "sess = tf.Session()\n",
        "\n",
        "tensorA = tf.random_uniform((5,5), 0, 1)\n",
        "tensorA"
      ],
      "execution_count": 8,
      "outputs": [
        {
          "output_type": "execute_result",
          "data": {
            "text/plain": [
              "<tf.Tensor 'random_uniform_3:0' shape=(5, 5) dtype=float32>"
            ]
          },
          "metadata": {
            "tags": []
          },
          "execution_count": 8
        }
      ]
    },
    {
      "cell_type": "code",
      "metadata": {
        "id": "57MhFKVk-wrK",
        "colab_type": "code",
        "colab": {
          "base_uri": "https://localhost:8080/",
          "height": 34
        },
        "outputId": "7a3a93ee-2e20-4914-e850-22c2fed798e4"
      },
      "source": [
        "tensorA_var = tf.Variable(tensorA, dtype = tf.float32)\n",
        "tensorA_var"
      ],
      "execution_count": 9,
      "outputs": [
        {
          "output_type": "execute_result",
          "data": {
            "text/plain": [
              "<tf.Variable 'Variable_1:0' shape=(5, 5) dtype=float32_ref>"
            ]
          },
          "metadata": {
            "tags": []
          },
          "execution_count": 9
        }
      ]
    },
    {
      "cell_type": "code",
      "metadata": {
        "id": "mjEm_fXQ_H5C",
        "colab_type": "code",
        "colab": {
          "base_uri": "https://localhost:8080/",
          "height": 119
        },
        "outputId": "fd23824d-5686-42e2-96e6-be14e2edfef4"
      },
      "source": [
        "# Initialize first for this to work\n",
        "init = tf.global_variables_initializer()\n",
        "sess.run(init)\n",
        "sess.run(tensorA_var)"
      ],
      "execution_count": 11,
      "outputs": [
        {
          "output_type": "execute_result",
          "data": {
            "text/plain": [
              "array([[0.4063511 , 0.21767557, 0.513608  , 0.02681029, 0.4082502 ],\n",
              "       [0.8479209 , 0.39415383, 0.62513876, 0.0793041 , 0.31539226],\n",
              "       [0.17344928, 0.77191603, 0.50140953, 0.11737692, 0.9645939 ],\n",
              "       [0.9354888 , 0.07927823, 0.81812584, 0.13351262, 0.12187696],\n",
              "       [0.4385302 , 0.776016  , 0.2143656 , 0.07108331, 0.9097295 ]],\n",
              "      dtype=float32)"
            ]
          },
          "metadata": {
            "tags": []
          },
          "execution_count": 11
        }
      ]
    },
    {
      "cell_type": "code",
      "metadata": {
        "id": "8-wWvpWx_hA8",
        "colab_type": "code",
        "colab": {
          "base_uri": "https://localhost:8080/",
          "height": 68
        },
        "outputId": "0df0c6fb-e089-4d7e-f5ab-3472d45b742a"
      },
      "source": [
        "# Redoing earlier example using feed_dict.\n",
        "a = tf.placeholder(tf.float32) # Create 2 placeholders.\n",
        "b = tf.placeholder(tf.float32)\n",
        "\n",
        "mul = tf.multiply(a, b)\n",
        "\n",
        "a_in = input(\"Please input a value for a:\")\n",
        "b_in = input(\"Please input a value for b:\")\n",
        "\n",
        "sess = tf.Session()\n",
        "output = sess.run(mul, feed_dict={a: a_in, b: b_in})\n",
        "print(\"Multiplying a and b:\", output)\n",
        "\n",
        "sess.close()"
      ],
      "execution_count": 20,
      "outputs": [
        {
          "output_type": "stream",
          "text": [
            "Please input a value for a:1.100001\n",
            "Please input a value for b:0.999999191\n",
            "Multiplying a and b: 1.1\n"
          ],
          "name": "stdout"
        }
      ]
    },
    {
      "cell_type": "markdown",
      "metadata": {
        "id": "QfyNa1xeAeRU",
        "colab_type": "text"
      },
      "source": [
        "That's basically it for this tutorial. Not very helpful.   \n",
        "*--Done 6/16/2019--*"
      ]
    },
    {
      "cell_type": "markdown",
      "metadata": {
        "id": "sm2Q-Uus5XiD",
        "colab_type": "text"
      },
      "source": [
        "# Back to the RL Tutorial"
      ]
    },
    {
      "cell_type": "markdown",
      "metadata": {
        "id": "W_57jhi3V0U4",
        "colab_type": "text"
      },
      "source": [
        "Now let's write the code for this problem:"
      ]
    },
    {
      "cell_type": "code",
      "metadata": {
        "id": "Gdl6Vwf8VzRs",
        "colab_type": "code",
        "colab": {}
      },
      "source": [
        "import random\n",
        "from random import randint\n",
        "import tensorflow as tf\n",
        "import numpy as np\n",
        "import matplotlib.pyplot as plt\n",
        "\n",
        "bandits = [0.01,0.3,0.8,0.99]\n",
        "num_bandits = len(bandits)\n",
        "\n",
        "def pullBandit(bandit):\n",
        "  # Returns a good reward with odds of the given bandit.\n",
        "  r = random.random()\n",
        "  if r < bandit:\n",
        "    return 1\n",
        "  else:\n",
        "    return -1"
      ],
      "execution_count": 0,
      "outputs": []
    },
    {
      "cell_type": "code",
      "metadata": {
        "id": "JrchZMXXBB7p",
        "colab_type": "code",
        "colab": {
          "base_uri": "https://localhost:8080/",
          "height": 34
        },
        "outputId": "1d7b38c1-c99f-42ba-ccff-646c85ddd6f5"
      },
      "source": [
        "pullBandit(0.9)"
      ],
      "execution_count": 175,
      "outputs": [
        {
          "output_type": "execute_result",
          "data": {
            "text/plain": [
              "1"
            ]
          },
          "metadata": {
            "tags": []
          },
          "execution_count": 175
        }
      ]
    },
    {
      "cell_type": "markdown",
      "metadata": {
        "id": "58v9qtOoHpi_",
        "colab_type": "text"
      },
      "source": [
        "$\\text{Loss}=-\\log(\\pi)*A$"
      ]
    },
    {
      "cell_type": "code",
      "metadata": {
        "id": "G1FockqnXp31",
        "colab_type": "code",
        "colab": {}
      },
      "source": [
        "class PolicyGradient_ep:\n",
        "  \"\"\"A policy gradient agent that chooses epsilon-greedy actions.\"\"\"\n",
        "  \n",
        "  def __init__(self, num_bandits, ep):\n",
        "    self.epsilon = ep\n",
        "    self.num_bandits = num_bandits\n",
        "    \n",
        "    self.weights = tf.Variable(initial_value=tf.ones([num_bandits])) # Weights start as 1s.\n",
        "    self.choice = tf.argmax(self.weights, 0) # Returns index of max weight.\n",
        "    self.action_holder = tf.placeholder(shape=[1], dtype=tf.int32) # Space to store action, discrete int.\n",
        "    self.reward_holder = tf.placeholder(shape=[1], dtype=tf.float32) # Space to receive reward.\n",
        "    \n",
        "    self.loss = -tf.log(tf.slice(self.weights,self.action_holder,[1]))*self.reward_holder # Considers how much we wanted to take our chosen action.\n",
        "    \n",
        "    self.optimizer = tf.train.GradientDescentOptimizer(0.01)\n",
        "    self.train = self.optimizer.minimize(self.loss)\n",
        "    \n",
        "  def act(self):\n",
        "    r = random.random()\n",
        "    if r < self.epsilon: # Choose randomly.\n",
        "      return randint(0,self.num_bandits-1)\n",
        "    else: # Choose maximum weight.\n",
        "      return sess.run(self.choice)\n",
        "      \n",
        "    return sess.run(action)\n",
        "      \n",
        "  def learn(self, action, reward):\n",
        "    \"\"\"Learns from a given reward and action.\"\"\"\n",
        "    \n",
        "    # These brackets [] give the scalars a tensor dimension.\n",
        "    sess.run(self.train, feed_dict={self.action_holder: [action], self.reward_holder: [reward]})"
      ],
      "execution_count": 0,
      "outputs": []
    },
    {
      "cell_type": "code",
      "metadata": {
        "id": "gG0_5Ks3Fazr",
        "colab_type": "code",
        "colab": {}
      },
      "source": [
        "agent = PolicyGradient_ep(num_bandits, 0.05)\n",
        "\n",
        "sess = tf.Session()\n",
        "init = tf.global_variables_initializer()\n",
        "sess.run(init)\n",
        "\n",
        "records = [] # Record our loss over time.\n",
        "weights = []\n",
        "episodes = 1000 # Train for this many episodes.\n",
        "\n",
        "for ep in range(episodes):\n",
        "  action = agent.act()\n",
        "  reward = pullBandit(action)\n",
        "  agent.learn(action, reward)\n",
        "  \n",
        "  records.append(reward)\n",
        "  weights.append(sess.run(agent.weights))"
      ],
      "execution_count": 0,
      "outputs": []
    },
    {
      "cell_type": "code",
      "metadata": {
        "id": "jYof_G3zNlwB",
        "colab_type": "code",
        "colab": {
          "base_uri": "https://localhost:8080/",
          "height": 269
        },
        "outputId": "6300e9d1-e5e0-4b73-e908-d1876f59b061"
      },
      "source": [
        "plt.plot(range(episodes), records, 'bo')\n",
        "plt.show()"
      ],
      "execution_count": 178,
      "outputs": [
        {
          "output_type": "display_data",
          "data": {
            "image/png": "[encoded data removed]",
            "text/plain": [
              "<Figure size 432x288 with 1 Axes>"
            ]
          },
          "metadata": {
            "tags": []
          }
        }
      ]
    },
    {
      "cell_type": "code",
      "metadata": {
        "id": "qudgZryoNvDt",
        "colab_type": "code",
        "colab": {
          "base_uri": "https://localhost:8080/",
          "height": 283
        },
        "outputId": "cca0f538-8aab-4d75-cdf1-9fa5ccfaf127"
      },
      "source": [
        "# Plotting how the weights changed over time.\n",
        "colors = ['b','r','g','y','m','k']\n",
        "\n",
        "for b in range(num_bandits):\n",
        "  curr_weights = []\n",
        "  for w in weights:\n",
        "    curr_weights.append(w[b])\n",
        "\n",
        "  line_name = \"Bandit \" + str(b+1)\n",
        "  curr_color = colors[b] + str(\"--\")\n",
        "  plt.plot(range(len(curr_weights)), curr_weights, curr_color, label=line_name)\n",
        "\n",
        "plt.legend()\n",
        "plt.xlabel(\"Episode Number\")\n",
        "plt.ylabel(\"Bandit Weight\")\n",
        "plt.show()"
      ],
      "execution_count": 179,
      "outputs": [
        {
          "output_type": "display_data",
          "data": {
            "image/png": "[encoded data removed]",
            "text/plain": [
              "<Figure size 432x288 with 1 Axes>"
            ]
          },
          "metadata": {
            "tags": []
          }
        }
      ]
    },
    {
      "cell_type": "code",
      "metadata": {
        "id": "ygBam-IKDK5u",
        "colab_type": "code",
        "colab": {}
      },
      "source": [
        "sess.close()"
      ],
      "execution_count": 0,
      "outputs": []
    },
    {
      "cell_type": "markdown",
      "metadata": {
        "id": "bwum8PTA56NS",
        "colab_type": "text"
      },
      "source": [
        "Part 1 seems complete.   \n",
        "*--Last revised 6/16/2019--*\n",
        "\n"
      ]
    }
  ]
}