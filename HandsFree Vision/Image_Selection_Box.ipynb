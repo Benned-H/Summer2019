{
  "nbformat": 4,
  "nbformat_minor": 0,
  "metadata": {
    "colab": {
      "name": "Experimenting for HandsFree Pi Code",
      "version": "0.3.2",
      "provenance": [],
      "collapsed_sections": [],
      "include_colab_link": true
    },
    "kernelspec": {
      "name": "python3",
      "display_name": "Python 3"
    }
  },
  "cells": [
    {
      "cell_type": "markdown",
      "metadata": {
        "id": "view-in-github",
        "colab_type": "text"
      },
      "source": [
        "<a href=\"https://colab.research.google.com/github/Benned-H/Summer2019/blob/master/%22HandsFree%20Vision%22/Image_Selection_Box.ipynb\" target=\"_parent\"><img src=\"https://colab.research.google.com/assets/colab-badge.svg\" alt=\"Open In Colab\"/></a>"
      ]
    },
    {
      "cell_type": "code",
      "metadata": {
        "id": "QiFYsMdEExkB",
        "colab_type": "code",
        "colab": {}
      },
      "source": [
        "import numpy as np\n",
        "import scipy as sp\n",
        "import matplotlib.pyplot as plt"
      ],
      "execution_count": 0,
      "outputs": []
    },
    {
      "cell_type": "code",
      "metadata": {
        "id": "hlA9BA8ZFQHZ",
        "colab_type": "code",
        "outputId": "35dd4ecc-c323-4d83-9943-c99c07b2b1af",
        "colab": {
          "base_uri": "https://localhost:8080/",
          "height": 286
        }
      },
      "source": [
        "a = np.array([[0,1,2],[3,4,5],[6,7,8]])\n",
        "plt.imshow(a)"
      ],
      "execution_count": 2,
      "outputs": [
        {
          "output_type": "execute_result",
          "data": {
            "text/plain": [
              "<matplotlib.image.AxesImage at 0x7fb80776d898>"
            ]
          },
          "metadata": {
            "tags": []
          },
          "execution_count": 2
        },
        {
          "output_type": "display_data",
          "data": {
            "image/png": "[encoded data removed]",
            "text/plain": [
              "<Figure size 432x288 with 1 Axes>"
            ]
          },
          "metadata": {
            "tags": []
          }
        }
      ]
    },
    {
      "cell_type": "code",
      "metadata": {
        "id": "VS4lNuexFVud",
        "colab_type": "code",
        "outputId": "0b14df3a-6f50-4425-c973-3b6a7cb27eb2",
        "colab": {
          "base_uri": "https://localhost:8080/",
          "height": 164
        }
      },
      "source": [
        "sp.misc.imsave('outfile.jpg', a)"
      ],
      "execution_count": 3,
      "outputs": [
        {
          "output_type": "error",
          "ename": "AttributeError",
          "evalue": "ignored",
          "traceback": [
            "\u001b[0;31m---------------------------------------------------------------------------\u001b[0m",
            "\u001b[0;31mAttributeError\u001b[0m                            Traceback (most recent call last)",
            "\u001b[0;32m<ipython-input-3-44c3e93f1637>\u001b[0m in \u001b[0;36m<module>\u001b[0;34m()\u001b[0m\n\u001b[0;32m----> 1\u001b[0;31m \u001b[0msp\u001b[0m\u001b[0;34m.\u001b[0m\u001b[0mmisc\u001b[0m\u001b[0;34m.\u001b[0m\u001b[0mimsave\u001b[0m\u001b[0;34m(\u001b[0m\u001b[0;34m'outfile.jpg'\u001b[0m\u001b[0;34m,\u001b[0m \u001b[0ma\u001b[0m\u001b[0;34m)\u001b[0m\u001b[0;34m\u001b[0m\u001b[0;34m\u001b[0m\u001b[0m\n\u001b[0m",
            "\u001b[0;31mAttributeError\u001b[0m: module 'scipy' has no attribute 'misc'"
          ]
        }
      ]
    },
    {
      "cell_type": "markdown",
      "metadata": {
        "id": "BCNNVbk5GbX1",
        "colab_type": "text"
      },
      "source": [
        "It looks like SciPy deprecated their image I/O before I ever used it. Thus I'll try a few different options for speed:"
      ]
    },
    {
      "cell_type": "code",
      "metadata": {
        "id": "-8c5GBLdGO90",
        "colab_type": "code",
        "colab": {}
      },
      "source": [
        "import imageio\n",
        "import matplotlib"
      ],
      "execution_count": 0,
      "outputs": []
    },
    {
      "cell_type": "code",
      "metadata": {
        "id": "lTAO8T9HIIvN",
        "colab_type": "code",
        "colab": {}
      },
      "source": [
        "matplotlib.image.imsave('mat.png', a)"
      ],
      "execution_count": 0,
      "outputs": []
    },
    {
      "cell_type": "code",
      "metadata": {
        "id": "R-DgKnqAINSq",
        "colab_type": "code",
        "outputId": "afa14f4b-2c8b-46ea-d083-16a72a7e5cdd",
        "colab": {
          "base_uri": "https://localhost:8080/",
          "height": 34
        }
      },
      "source": [
        "!ls"
      ],
      "execution_count": 6,
      "outputs": [
        {
          "output_type": "stream",
          "text": [
            "mat.png  sample_data\n"
          ],
          "name": "stdout"
        }
      ]
    },
    {
      "cell_type": "code",
      "metadata": {
        "id": "_oKBukc6IZnp",
        "colab_type": "code",
        "outputId": "3890e199-6276-4fc8-cdfb-88d5f762fe61",
        "colab": {
          "base_uri": "https://localhost:8080/",
          "height": 217
        }
      },
      "source": [
        "import IPython.display\n",
        "IPython.display.Image(\"mat.png\", width=200, height=200)"
      ],
      "execution_count": 24,
      "outputs": [
        {
          "output_type": "execute_result",
          "data": {
            "image/png": "[encoded data removed]",
            "text/plain": [
              "<IPython.core.display.Image object>"
            ]
          },
          "metadata": {
            "tags": [],
            "image/png": {
              "width": 200,
              "height": 200
            }
          },
          "execution_count": 24
        }
      ]
    },
    {
      "cell_type": "code",
      "metadata": {
        "id": "207jAVGX1kho",
        "colab_type": "code",
        "colab": {}
      },
      "source": [
        "# We'll want a 3D array for images in RGB or RGBA: 2D pixels, each pixel a vector.\n",
        "height = 22\n",
        "width = 52\n",
        "\n",
        "RGB_image = np.zeros([height,width,3], dtype=np.uint8) # Datatype is 0 to 255.\n",
        "RGBA_image = np.zeros([height,width,4], dtype=np.uint8)"
      ],
      "execution_count": 0,
      "outputs": []
    },
    {
      "cell_type": "code",
      "metadata": {
        "id": "JRun0irA2YtG",
        "colab_type": "code",
        "colab": {}
      },
      "source": [
        "# Goal: Make a red outline on the RGBA image.\n",
        "transparency = 255\n",
        "RGBA_image[0,:] = [255,0,0,transparency]\n",
        "RGBA_image[height-1,:] = [255,0,0,transparency]\n",
        "RGBA_image[:,0] = [255,0,0,transparency]\n",
        "RGBA_image[:,width-1] = [255,0,0,transparency]"
      ],
      "execution_count": 0,
      "outputs": []
    },
    {
      "cell_type": "code",
      "metadata": {
        "id": "17u04KPx26V6",
        "colab_type": "code",
        "colab": {}
      },
      "source": [
        "import PIL.Image\n",
        "img = PIL.Image.fromarray(RGBA_image)\n",
        "img.save(\"RGBA_box.png\")"
      ],
      "execution_count": 0,
      "outputs": []
    },
    {
      "cell_type": "code",
      "metadata": {
        "id": "_rqJaCvd3Cxt",
        "colab_type": "code",
        "colab": {
          "base_uri": "https://localhost:8080/",
          "height": 286
        },
        "outputId": "a49cf1f9-6d6b-487a-e969-f6010dcdb392"
      },
      "source": [
        "plt.imshow(img)"
      ],
      "execution_count": 30,
      "outputs": [
        {
          "output_type": "execute_result",
          "data": {
            "text/plain": [
              "<matplotlib.image.AxesImage at 0x7fb8047bfc50>"
            ]
          },
          "metadata": {
            "tags": []
          },
          "execution_count": 30
        },
        {
          "output_type": "display_data",
          "data": {
            "image/png": "[encoded data removed]",
            "text/plain": [
              "<Figure size 432x288 with 1 Axes>"
            ]
          },
          "metadata": {
            "tags": []
          }
        }
      ]
    },
    {
      "cell_type": "code",
      "metadata": {
        "id": "NNw8Oll-3wnV",
        "colab_type": "code",
        "colab": {
          "base_uri": "https://localhost:8080/",
          "height": 34
        },
        "outputId": "48194a95-927e-4249-e48a-1908f251835f"
      },
      "source": [
        "IPython.display.Image(\"RGBA_box.png\")"
      ],
      "execution_count": 27,
      "outputs": [
        {
          "output_type": "execute_result",
          "data": {
            "image/png": "[encoded data removed]",
            "text/plain": [
              "<IPython.core.display.Image object>"
            ]
          },
          "metadata": {
            "tags": []
          },
          "execution_count": 27
        }
      ]
    },
    {
      "cell_type": "markdown",
      "metadata": {
        "id": "d1Wsd0V434f6",
        "colab_type": "text"
      },
      "source": [
        "## Testing Options"
      ]
    },
    {
      "cell_type": "code",
      "metadata": {
        "id": "-MQnfswB38B7",
        "colab_type": "code",
        "colab": {}
      },
      "source": [
        "# Create our image\n",
        "height = 22\n",
        "width = 52\n",
        "transparency = 255\n",
        "\n",
        "RGBA_image = np.zeros([height,width,4], dtype=np.uint8)\n",
        "\n",
        "# Fill in red outline\n",
        "RGBA_image[0,:] = [255,0,0,transparency]\n",
        "RGBA_image[height-1,:] = [255,0,0,transparency]\n",
        "RGBA_image[:,0] = [255,0,0,transparency]\n",
        "RGBA_image[:,width-1] = [255,0,0,transparency]"
      ],
      "execution_count": 0,
      "outputs": []
    },
    {
      "cell_type": "code",
      "metadata": {
        "id": "DrvPeu7l4Jbp",
        "colab_type": "code",
        "colab": {}
      },
      "source": [
        "# Saving the image options:\n",
        "\n",
        "img = PIL.Image.fromarray(RGBA_image)\n",
        "img.save(\"RGBA_PIL.png\")\n",
        "\n",
        "matplotlib.image.imsave(\"RGBA_MAT.png\", RGBA_image)"
      ],
      "execution_count": 0,
      "outputs": []
    },
    {
      "cell_type": "code",
      "metadata": {
        "id": "GCK5DSzk4jPU",
        "colab_type": "code",
        "colab": {
          "base_uri": "https://localhost:8080/",
          "height": 39
        },
        "outputId": "0d4cdfb0-05a8-40ff-ac8d-e0d3290bf1aa"
      },
      "source": [
        "IPython.display.Image(\"RGBA_PIL.png\")"
      ],
      "execution_count": 44,
      "outputs": [
        {
          "output_type": "execute_result",
          "data": {
            "image/png": "[encoded data removed]",
            "text/plain": [
              "<IPython.core.display.Image object>"
            ]
          },
          "metadata": {
            "tags": []
          },
          "execution_count": 44
        }
      ]
    },
    {
      "cell_type": "code",
      "metadata": {
        "id": "J71_5vO54o24",
        "colab_type": "code",
        "colab": {
          "base_uri": "https://localhost:8080/",
          "height": 39
        },
        "outputId": "58cfb522-db38-4ff5-ac3e-954556ca89cb"
      },
      "source": [
        "IPython.display.Image(\"RGBA_MAT.png\")"
      ],
      "execution_count": 45,
      "outputs": [
        {
          "output_type": "execute_result",
          "data": {
            "image/png": "[encoded data removed]",
            "text/plain": [
              "<IPython.core.display.Image object>"
            ]
          },
          "metadata": {
            "tags": []
          },
          "execution_count": 45
        }
      ]
    },
    {
      "cell_type": "code",
      "metadata": {
        "id": "-D5NxRA15Kpz",
        "colab_type": "code",
        "colab": {}
      },
      "source": [
        "import time\n",
        "\n",
        "# Framework for below testing:\n",
        "start = time.time()\n",
        "end = time.time()\n",
        "diff = end - start"
      ],
      "execution_count": 0,
      "outputs": []
    },
    {
      "cell_type": "code",
      "metadata": {
        "id": "quNdBnhv5Kzo",
        "colab_type": "code",
        "colab": {}
      },
      "source": [
        "def create_Box(dim):\n",
        "  rgba = np.zeros([dim,dim,4], dtype=np.uint8)\n",
        "\n",
        "  # Fill in red outline\n",
        "  rgba[0,:] = [255,0,0,255]\n",
        "  rgba[dim-1,:] = [255,0,0,255]\n",
        "  rgba[:,0] = [255,0,0,255]\n",
        "  rgba[:,dim-1] = [255,0,0,255]\n",
        "  \n",
        "  return rgba"
      ],
      "execution_count": 0,
      "outputs": []
    },
    {
      "cell_type": "code",
      "metadata": {
        "id": "ObWr8HSD55tJ",
        "colab_type": "code",
        "colab": {
          "base_uri": "https://localhost:8080/",
          "height": 102
        },
        "outputId": "3d146315-5b20-4a5b-d084-ccbfbd5b069c"
      },
      "source": [
        "dimensions = range(1,600)\n",
        "pil = []\n",
        "mat = []\n",
        "\n",
        "for dim in dimensions:\n",
        "  if dim % 100 == 0:\n",
        "    print(dim)\n",
        "  box0 = create_Box(dim)\n",
        "  start = time.time()\n",
        "  img = PIL.Image.fromarray(box0)\n",
        "  img.save(\"RGBA_PIL.png\")\n",
        "  end = time.time()\n",
        "  diff = end - start\n",
        "  pil.append(diff)\n",
        "  \n",
        "  box1 = create_Box(dim)\n",
        "  start = time.time()\n",
        "  matplotlib.image.imsave(\"RGBA_MAT.png\", box1)\n",
        "  end = time.time()\n",
        "  diff = end - start\n",
        "  mat.append(diff)"
      ],
      "execution_count": 67,
      "outputs": [
        {
          "output_type": "stream",
          "text": [
            "100\n",
            "200\n",
            "300\n",
            "400\n",
            "500\n"
          ],
          "name": "stdout"
        }
      ]
    },
    {
      "cell_type": "code",
      "metadata": {
        "id": "mNaVTLjh7fOr",
        "colab_type": "code",
        "colab": {
          "base_uri": "https://localhost:8080/",
          "height": 283
        },
        "outputId": "5605620d-36da-41d5-b988-06c83cee7b1a"
      },
      "source": [
        "plt.plot(dimensions, pil, \"bo\") # PIL is blue.\n",
        "plt.plot(dimensions, mat, \"ro\") # Matplotlib is red.\n",
        "plt.xlabel(\"Image dimension (pixels)\")\n",
        "plt.ylabel(\"Time (seconds)\")\n",
        "plt.show()"
      ],
      "execution_count": 71,
      "outputs": [
        {
          "output_type": "display_data",
          "data": {
            "image/png": "[encoded data removed]",
            "text/plain": [
              "<Figure size 432x288 with 1 Axes>"
            ]
          },
          "metadata": {
            "tags": []
          }
        }
      ]
    },
    {
      "cell_type": "markdown",
      "metadata": {
        "id": "9m3h3KXT8tpI",
        "colab_type": "text"
      },
      "source": [
        "So there we have it, *we should use the above format of PIL image export for our code*. Great to know. Full code:"
      ]
    },
    {
      "cell_type": "code",
      "metadata": {
        "id": "tk5rjMjt9FiP",
        "colab_type": "code",
        "colab": {
          "base_uri": "https://localhost:8080/",
          "height": 317
        },
        "outputId": "f296b0c4-3eb9-4da5-ad1a-7d51bfdb7b7a"
      },
      "source": [
        "import PIL.Image\n",
        "import IPython.display\n",
        "\n",
        "def createBox(h,w,border=1):\n",
        "  rgba = np.zeros([h,w,4], dtype=np.uint8)\n",
        "\n",
        "  # Fill in red outline\n",
        "  rgba[0:border,:] = [255,0,0,255]\n",
        "  rgba[h-border-1:h-1,:] = [255,0,0,255]\n",
        "  rgba[:,0:border] = [255,0,0,255]\n",
        "  rgba[:,w-border-1:w-1] = [255,0,0,255]\n",
        "  \n",
        "  return rgba\n",
        "\n",
        "rgba_final = createBox(300,400)\n",
        "img = PIL.Image.fromarray(rgba_final)\n",
        "img.save(\"final.png\")\n",
        "\n",
        "IPython.display.Image(\"final.png\")"
      ],
      "execution_count": 87,
      "outputs": [
        {
          "output_type": "execute_result",
          "data": {
            "image/png": "[encoded data removed]",
            "text/plain": [
              "<IPython.core.display.Image object>"
            ]
          },
          "metadata": {
            "tags": []
          },
          "execution_count": 87
        }
      ]
    }
  ]
}
