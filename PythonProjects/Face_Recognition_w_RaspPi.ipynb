{
  "nbformat": 4,
  "nbformat_minor": 0,
  "metadata": {
    "colab": {
      "name": "Face Recognition w/ RaspPi",
      "version": "0.3.2",
      "provenance": [],
      "include_colab_link": true
    },
    "kernelspec": {
      "name": "python3",
      "display_name": "Python 3"
    }
  },
  "cells": [
    {
      "cell_type": "markdown",
      "metadata": {
        "id": "view-in-github",
        "colab_type": "text"
      },
      "source": [
        "<a href=\"https://colab.research.google.com/github/Benned-H/Summer2019/blob/master/PythonProjects/Face_Recognition_w_RaspPi.ipynb\" target=\"_parent\"><img src=\"https://colab.research.google.com/assets/colab-badge.svg\" alt=\"Open In Colab\"/></a>"
      ]
    },
    {
      "cell_type": "markdown",
      "metadata": {
        "id": "LoW5NXxoKGUC",
        "colab_type": "text"
      },
      "source": [
        "# 1. Face Recognition with OpenCV and DL [[Article]](https://www.pyimagesearch.com/2018/06/18/face-recognition-with-opencv-python-and-deep-learning/)"
      ]
    },
    {
      "cell_type": "markdown",
      "metadata": {
        "id": "CtYvdjOqKRzn",
        "colab_type": "text"
      },
      "source": [
        "We'll be using OpenCV, Python, and deep learning to implement accurate and real-time face recognition using facial embeddings. The tutorial will discuss how this method works, guide the installation of the necessary libraries, and then implement recognition for still images and video streams (we'll be able to run the implementation in real-time)."
      ]
    },
    {
      "cell_type": "markdown",
      "metadata": {
        "id": "Q8wP6bJuK4IT",
        "colab_type": "text"
      },
      "source": [
        "## a. Understanding Deep Learning Facial Embeddings"
      ]
    },
    {
      "cell_type": "markdown",
      "metadata": {
        "id": "83WDxX6fK9Em",
        "colab_type": "text"
      },
      "source": [
        "The secret here will be a technique called *deep metric learning*. In deep learning, we typically train a network to accept a single input and output some label, but we're instead now *outputting a real-valued feature vector*. The dlib facial recognition network outputs a 128-d vector to quantify each face. The network was training using triplets of faces: two images of the same person and one of some other random person from our dataset. Each training step, the network outputs vectors for all three faces. We then tweak its weights so that two same-person faces have similar vectors and those are both different from the other person. The architecture is based on ResNet-34 with fewer layers and half the number of filters. Trained by Davis King on some 3 million images, the network compares with SOTA on the [Labeled Faces in the Wild](http://vis-www.cs.umass.edu/lfw/) dataset."
      ]
    },
    {
      "cell_type": "markdown",
      "metadata": {
        "id": "X39uHiGDOE5f",
        "colab_type": "text"
      },
      "source": [
        "## b. Install Libraries"
      ]
    },
    {
      "cell_type": "markdown",
      "metadata": {
        "id": "rs_LU3H0OIhM",
        "colab_type": "text"
      },
      "source": [
        "Having to spend time checking that Homebrew is updated to then install Python3 and OpenCV into a virtual environment. Tutorial is [here](https://www.pyimagesearch.com/2016/12/05/macos-install-opencv-3-and-python-3-5/). In this process, I installed a non-system version of Python 3 in the Homebrew path. Virtualenv was also installed; I'll begin using this more often in the future. Here's the code to do so:    \n",
        "* ```mkvirtualenv cv -p python3``` created an environment (ran once)   \n",
        "* Use ```workon cv``` to access the virtual environment"
      ]
    },
    {
      "cell_type": "markdown",
      "metadata": {
        "id": "G_Fo0k5aTGQx",
        "colab_type": "text"
      },
      "source": [
        "Once in the environment, I ```brew install```'d a bunch of OpenCV prerequisites."
      ]
    },
    {
      "cell_type": "markdown",
      "metadata": {
        "id": "KBQnQWNvUUyB",
        "colab_type": "text"
      },
      "source": [
        "To be continued...   \n",
        "*-Last revised 7/3/2019-*"
      ]
    },
    {
      "cell_type": "markdown",
      "metadata": {
        "id": "W_SCQgwqvJxI",
        "colab_type": "text"
      },
      "source": [
        "# 2. Raspberry Pi Face Recognition [[Article]](https://www.pyimagesearch.com/2018/06/25/raspberry-pi-face-recognition/)"
      ]
    },
    {
      "cell_type": "markdown",
      "metadata": {
        "id": "-Tvl-Fnsu-D0",
        "colab_type": "text"
      },
      "source": [
        "This is the text counterpart to the Python code I'm writing based on Adrian Rosebrock's tutorial. In order to perform face recognition on a Raspberry Pi, we need to consider:\n",
        "* Which machine will be **computing our face embeddings** for our training set?\n",
        "* What method will we use for **face detection**? (Haar cascades, HOG + Linear SVM, or CNNs)\n",
        "* How are we **polling for frames** from our camera? (threaded or non-threaded)"
      ]
    },
    {
      "cell_type": "markdown",
      "metadata": {
        "id": "zejuhyQFvqGM",
        "colab_type": "text"
      },
      "source": [
        "## a. Configuring the Pi for face recognition"
      ]
    },
    {
      "cell_type": "markdown",
      "metadata": {
        "id": "TrMVqZyiv5DD",
        "colab_type": "text"
      },
      "source": [
        "Install OpenCV, the dlib toolkit, and Adam Geitgey's face_recognition module."
      ]
    }
  ]
}