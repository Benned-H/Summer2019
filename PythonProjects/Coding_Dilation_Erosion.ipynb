{
  "nbformat": 4,
  "nbformat_minor": 0,
  "metadata": {
    "colab": {
      "name": "Coding Dilation/Erosion",
      "version": "0.3.2",
      "provenance": [],
      "collapsed_sections": [],
      "include_colab_link": true
    },
    "kernelspec": {
      "name": "python3",
      "display_name": "Python 3"
    }
  },
  "cells": [
    {
      "cell_type": "markdown",
      "metadata": {
        "id": "view-in-github",
        "colab_type": "text"
      },
      "source": [
        "<a href=\"https://colab.research.google.com/github/Benned-H/Summer2019/blob/master/PythonProjects/Coding_Dilation_Erosion.ipynb\" target=\"_parent\"><img src=\"https://colab.research.google.com/assets/colab-badge.svg\" alt=\"Open In Colab\"/></a>"
      ]
    },
    {
      "cell_type": "code",
      "metadata": {
        "id": "cG5MisLQ2Z94",
        "colab_type": "code",
        "colab": {
          "base_uri": "https://localhost:8080/",
          "height": 269
        },
        "outputId": "3af2bdaf-1911-4a27-95e9-eae7379b11ed"
      },
      "source": [
        "#  Let's say our image is the following 10x10 pattern:\n",
        "import numpy as np\n",
        "from matplotlib import pyplot as plt\n",
        "\n",
        "image = np.array([\n",
        "    [1,0,0,0,0,0,0,0,0,0],\n",
        "    [0,1,0,0,0,0,0,0,0,0],\n",
        "    [0,0,1,0,0,0,0,0,0,0],\n",
        "    [0,0,0,1,0,0,0,0,0,0],\n",
        "    [0,0,0,0,1,0,0,0,0,0],\n",
        "    [0,0,0,0,0,1,0,0,0,0],\n",
        "    [0,0,0,0,0,0,1,0,0,0],\n",
        "    [0,0,0,0,0,0,0,1,0,0],\n",
        "    [0,0,0,0,0,0,0,0,1,0],\n",
        "    [0,0,0,0,0,0,0,0,0,1]\n",
        "               ])\n",
        "plt.imshow(image, cmap = 'Greys')\n",
        "plt.show()"
      ],
      "execution_count": 118,
      "outputs": [
        {
          "output_type": "display_data",
          "data": {
            "image/png": "[encoded data removed]",
            "text/plain": [
              "<Figure size 432x288 with 1 Axes>"
            ]
          },
          "metadata": {
            "tags": []
          }
        }
      ]
    },
    {
      "cell_type": "code",
      "metadata": {
        "id": "Z10J5d7NcdC8",
        "colab_type": "code",
        "colab": {}
      },
      "source": [
        "def plotKernel(kernel):  \n",
        "  fig = plt.figure()\n",
        "  ax = fig.add_subplot(1,1,1)\n",
        "  x_ticks = [x + 0.5 for x in range(kernel.shape[1])]\n",
        "  y_ticks = [y + 0.5 for y in range(kernel.shape[1])]\n",
        "  ax.set_xticks([])\n",
        "  ax.set_yticks([])\n",
        "  ax.set_xticks(x_ticks, minor=True)\n",
        "  ax.set_yticks(y_ticks, minor=True)\n",
        "  ax.grid(b=True, which='minor', color='b', linestyle='-')\n",
        "  ax.imshow(kernel, cmap = 'Greys')\n",
        "  \n",
        "  plt.show()"
      ],
      "execution_count": 0,
      "outputs": []
    },
    {
      "cell_type": "code",
      "metadata": {
        "id": "SIGM7lMJ2e-0",
        "colab_type": "code",
        "colab": {
          "base_uri": "https://localhost:8080/",
          "height": 255
        },
        "outputId": "8ff998d7-6793-4c8a-c88c-572ec8cfda80"
      },
      "source": [
        "# Our kernels:\n",
        "kernel_1x1 = np.array([[1]])\n",
        "kernel_3x3 = np.array([[1,1,1],[1,1,1],[1,1,1]])\n",
        "kernel_5x3 = np.array([[0,1,0],[1,1,1],[1,1,1],[1,1,1],[0,0,0]])\n",
        "\n",
        "plotKernel(kernel_3x3)"
      ],
      "execution_count": 120,
      "outputs": [
        {
          "output_type": "display_data",
          "data": {
            "image/png": "[encoded data removed]",
            "text/plain": [
              "<Figure size 432x288 with 1 Axes>"
            ]
          },
          "metadata": {
            "tags": []
          }
        }
      ]
    },
    {
      "cell_type": "code",
      "metadata": {
        "id": "QXs6YScoeawj",
        "colab_type": "code",
        "colab": {
          "base_uri": "https://localhost:8080/",
          "height": 255
        },
        "outputId": "01a6a3fc-79c7-4171-db42-f1d18e4364be"
      },
      "source": [
        "plotKernel(kernel_5x3)"
      ],
      "execution_count": 121,
      "outputs": [
        {
          "output_type": "display_data",
          "data": {
            "image/png": "[encoded data removed]",
            "text/plain": [
              "<Figure size 432x288 with 1 Axes>"
            ]
          },
          "metadata": {
            "tags": []
          }
        }
      ]
    },
    {
      "cell_type": "code",
      "metadata": {
        "id": "3Hf4Uekj2jNb",
        "colab_type": "code",
        "colab": {}
      },
      "source": [
        "def splitKernel(kernel):\n",
        "  \"\"\"Splits given kernel into individual offsets from its center.\n",
        "  Also gives maximum offsets in order left right up down.\"\"\"\n",
        "    \n",
        "  if not isinstance(kernel, np.ndarray):\n",
        "    print(\"Error: Invalid kernel. Need numpy array\")\n",
        "    return None\n",
        "  \n",
        "  # Require 2D array.\n",
        "  if len(kernel.shape) != 2:\n",
        "    print(\"Error: Invalid kernel. Need 2D array\")\n",
        "    return None\n",
        "  \n",
        "  height = kernel.shape[0]\n",
        "  width = kernel.shape[1]\n",
        "  \n",
        "  # Require odd dimensions on kernel. Input pixel at center.\n",
        "  if (height % 2 != 1) or (width % 2 != 1):\n",
        "    print(\"Error: Invalid kernel. Need odd dimensions\")\n",
        "    return None\n",
        "  \n",
        "  center_r = int(height) // 2\n",
        "  center_c = int(width) // 2\n",
        "  outputs = []\n",
        "  \n",
        "  # Loop over all pixels\n",
        "  for r in range(height):\n",
        "    for c in range(width):\n",
        "      if kernel[r][c] == 1:\n",
        "        outputs.append((r - center_r, c - center_c))\n",
        "        \n",
        "  return outputs"
      ],
      "execution_count": 0,
      "outputs": []
    },
    {
      "cell_type": "code",
      "metadata": {
        "id": "jQMuwSQF2lFg",
        "colab_type": "code",
        "colab": {
          "base_uri": "https://localhost:8080/",
          "height": 88
        },
        "outputId": "3e80797e-6f69-4b15-edf9-87226bbea16f"
      },
      "source": [
        "print(splitKernel(kernel_1x1))\n",
        "print(splitKernel(kernel_3x3))\n",
        "print(splitKernel(kernel_5x3))"
      ],
      "execution_count": 123,
      "outputs": [
        {
          "output_type": "stream",
          "text": [
            "[(0, 0)]\n",
            "[(-1, -1), (-1, 0), (-1, 1), (0, -1), (0, 0), (0, 1), (1, -1), (1, 0), (1, 1)]\n",
            "[(-2, 0), (-1, -1), (-1, 0), (-1, 1), (0, -1), (0, 0), (0, 1), (1, -1), (1, 0), (1, 1)]\n"
          ],
          "name": "stdout"
        }
      ]
    },
    {
      "cell_type": "code",
      "metadata": {
        "colab_type": "code",
        "id": "6wmo0ZCj6U0X",
        "colab": {}
      },
      "source": [
        "def maxOffsets(offsets):\n",
        "  # Do this to avoid if statements on all input pixels.\n",
        "  left = 0\n",
        "  right = 0\n",
        "  up = 0\n",
        "  down = 0\n",
        "  \n",
        "  # Find max offset in each direction.\n",
        "  for o in offsets:\n",
        "    left = max(left, -o[1])\n",
        "    right = max(right, o[1])\n",
        "    up = max(up, -o[0])\n",
        "    down = max(down, o[0])\n",
        "    \n",
        "  return left,right,up,down"
      ],
      "execution_count": 0,
      "outputs": []
    },
    {
      "cell_type": "code",
      "metadata": {
        "id": "zxqAPEjr7Fkh",
        "colab_type": "code",
        "colab": {}
      },
      "source": [
        "kernel_7x5 = np.array([\n",
        "    [0,0,0,0,0],\n",
        "    [0,0,0,0,0],\n",
        "    [0,0,1,0,0],\n",
        "    [0,0,0,0,1],\n",
        "    [0,0,0,0,0],\n",
        "    [0,0,0,0,0],\n",
        "    [0,0,1,0,0]])"
      ],
      "execution_count": 0,
      "outputs": []
    },
    {
      "cell_type": "code",
      "metadata": {
        "id": "q0k3pm9d3EH-",
        "colab_type": "code",
        "colab": {
          "base_uri": "https://localhost:8080/",
          "height": 34
        },
        "outputId": "063dd372-0887-44b0-c096-bcab1791e4dd"
      },
      "source": [
        "# It seems to work! L R U D\n",
        "maxOffsets(splitKernel(kernel_7x5))"
      ],
      "execution_count": 126,
      "outputs": [
        {
          "output_type": "execute_result",
          "data": {
            "text/plain": [
              "(0, 2, 1, 3)"
            ]
          },
          "metadata": {
            "tags": []
          },
          "execution_count": 126
        }
      ]
    },
    {
      "cell_type": "code",
      "metadata": {
        "id": "iDNXpGuQ2xXw",
        "colab_type": "code",
        "colab": {}
      },
      "source": [
        "def dilate(image, kernel):\n",
        "  \"\"\"Dilate the given image using the given kernel.\n",
        "  Note: Only uses binary images/kernel.\"\"\"\n",
        "  \n",
        "  # Split the kernel into individual offset coordinates.\n",
        "  kernel_parts = splitKernel(kernel)\n",
        "  \n",
        "  # Fetch the maximum offsets from any input pixel in our kernel.\n",
        "  left,right,up,down = maxOffsets(kernel_parts)\n",
        "  \n",
        "  output = np.zeros(image.shape)\n",
        "  \n",
        "  # Main part of image checking, no if statements needed:\n",
        "  for r in range(0 + up, image.shape[0] - down):\n",
        "    for c in range(0 + left, image.shape[1] - right):\n",
        "      for k in kernel_parts:\n",
        "        curr_r = r + k[0]\n",
        "        curr_c = c + k[1]\n",
        "        if image[curr_r][curr_c] == 1:\n",
        "          output[r][c] = 1\n",
        "          \n",
        "  # Now cover four sides and corners:\n",
        "  \n",
        "  # Left side:\n",
        "  for r in range(0 + up, image.shape[0] - down):\n",
        "    for c in range(0, left):\n",
        "      for k in kernel_parts:\n",
        "        curr_r = r + k[0]\n",
        "        curr_c = c + k[1]\n",
        "        if curr_c >= 0:\n",
        "          if image[curr_r][curr_c] == 1:\n",
        "            output[r][c] = 1\n",
        "            \n",
        "  # Right side:\n",
        "  for r in range(0 + up, image.shape[0] - down):\n",
        "    for c in range(image.shape[1] - right, image.shape[1]):\n",
        "      for k in kernel_parts:\n",
        "        curr_r = r + k[0]\n",
        "        curr_c = c + k[1]\n",
        "        if curr_c < image.shape[1]:\n",
        "          if image[curr_r][curr_c] == 1:\n",
        "            output[r][c] = 1\n",
        "  \n",
        "  # Top side:\n",
        "  for r in range(0, up):\n",
        "    for c in range(0 + left, image.shape[1] - right):\n",
        "      for k in kernel_parts:\n",
        "        curr_r = r + k[0]\n",
        "        curr_c = c + k[1]\n",
        "        if curr_r >= 0:\n",
        "          if image[curr_r][curr_c] == 1:\n",
        "            output[r][c] = 1\n",
        "            \n",
        "  # Bottom side:\n",
        "  for r in range(image.shape[0] - down, image.shape[0]):\n",
        "    for c in range(0 + left, image.shape[1] - right):\n",
        "      for k in kernel_parts:\n",
        "        curr_r = r + k[0]\n",
        "        curr_c = c + k[1]\n",
        "        if curr_r < image.shape[0]:\n",
        "          if image[curr_r][curr_c] == 1:\n",
        "            output[r][c] = 1\n",
        "  \n",
        "  # Left top corner:\n",
        "  for r in range(0, up):\n",
        "    for c in range(0, left):\n",
        "      for k in kernel_parts:\n",
        "        curr_r = r + k[0]\n",
        "        curr_c = c + k[1]\n",
        "        if curr_r >= 0 and curr_c >= 0:\n",
        "          if image[curr_r][curr_c] == 1:\n",
        "            output[r][c] = 1\n",
        "          \n",
        "  # Right top corner:\n",
        "  for r in range(0, up):\n",
        "    for c in range(image.shape[1] - right, image.shape[1]):\n",
        "      for k in kernel_parts:\n",
        "        curr_r = r + k[0]\n",
        "        curr_c = c + k[1]\n",
        "        if curr_r >= 0 and curr_c < image.shape[1]:\n",
        "          if image[curr_r][curr_c] == 1:\n",
        "            output[r][c] = 1\n",
        "            \n",
        "  # Left bottom corner:\n",
        "  for r in range(image.shape[0] - down, image.shape[0]):\n",
        "    for c in range(0, left):\n",
        "      for k in kernel_parts:\n",
        "        curr_r = r + k[0]\n",
        "        curr_c = c + k[1]\n",
        "        if curr_r < image.shape[0] and curr_c >= 0:\n",
        "          if image[curr_r][curr_c] == 1:\n",
        "            output[r][c] = 1\n",
        "            \n",
        "  # Right bottom corner:\n",
        "  for r in range(image.shape[0] - down, image.shape[0]):\n",
        "    for c in range(image.shape[1] - right, image.shape[1]):\n",
        "      for k in kernel_parts:\n",
        "        curr_r = r + k[0]\n",
        "        curr_c = c + k[1]\n",
        "        if curr_r < image.shape[0] and curr_c < image.shape[1]:\n",
        "          if image[curr_r][curr_c] == 1:\n",
        "            output[r][c] = 1\n",
        "            \n",
        "  return output"
      ],
      "execution_count": 0,
      "outputs": []
    },
    {
      "cell_type": "code",
      "metadata": {
        "id": "pxJSrUXN7n7x",
        "colab_type": "code",
        "colab": {
          "base_uri": "https://localhost:8080/",
          "height": 187
        },
        "outputId": "b4238bfb-e9fc-42c9-b59d-4957c679ebb9"
      },
      "source": [
        "dilate(image,kernel_1x1)"
      ],
      "execution_count": 128,
      "outputs": [
        {
          "output_type": "execute_result",
          "data": {
            "text/plain": [
              "array([[1., 0., 0., 0., 0., 0., 0., 0., 0., 0.],\n",
              "       [0., 1., 0., 0., 0., 0., 0., 0., 0., 0.],\n",
              "       [0., 0., 1., 0., 0., 0., 0., 0., 0., 0.],\n",
              "       [0., 0., 0., 1., 0., 0., 0., 0., 0., 0.],\n",
              "       [0., 0., 0., 0., 1., 0., 0., 0., 0., 0.],\n",
              "       [0., 0., 0., 0., 0., 1., 0., 0., 0., 0.],\n",
              "       [0., 0., 0., 0., 0., 0., 1., 0., 0., 0.],\n",
              "       [0., 0., 0., 0., 0., 0., 0., 1., 0., 0.],\n",
              "       [0., 0., 0., 0., 0., 0., 0., 0., 1., 0.],\n",
              "       [0., 0., 0., 0., 0., 0., 0., 0., 0., 1.]])"
            ]
          },
          "metadata": {
            "tags": []
          },
          "execution_count": 128
        }
      ]
    },
    {
      "cell_type": "code",
      "metadata": {
        "id": "x6T4fBhbXaYw",
        "colab_type": "code",
        "colab": {
          "base_uri": "https://localhost:8080/",
          "height": 286
        },
        "outputId": "4c7aea7f-8c25-4291-9585-4576ec245998"
      },
      "source": [
        "plt.imshow(dilate(image,kernel_3x3), cmap = 'Greys')"
      ],
      "execution_count": 129,
      "outputs": [
        {
          "output_type": "execute_result",
          "data": {
            "text/plain": [
              "<matplotlib.image.AxesImage at 0x7feaaa87f860>"
            ]
          },
          "metadata": {
            "tags": []
          },
          "execution_count": 129
        },
        {
          "output_type": "display_data",
          "data": {
            "image/png": "[encoded data removed]",
            "text/plain": [
              "<Figure size 432x288 with 1 Axes>"
            ]
          },
          "metadata": {
            "tags": []
          }
        }
      ]
    },
    {
      "cell_type": "code",
      "metadata": {
        "id": "DOwZEyUwXuV6",
        "colab_type": "code",
        "colab": {
          "base_uri": "https://localhost:8080/",
          "height": 286
        },
        "outputId": "df2bc538-05c5-4430-ffe9-c9da76522acd"
      },
      "source": [
        "image2 = np.array([\n",
        "    [1,0,0,0,0,0,0,0,0,1],\n",
        "    [0,0,0,0,0,0,0,0,0,0],\n",
        "    [0,0,0,0,0,0,0,0,0,0],\n",
        "    [0,0,0,0,0,0,0,0,0,0],\n",
        "    [0,0,0,0,0,0,0,0,0,0],\n",
        "    [0,0,0,0,0,0,0,0,0,0],\n",
        "    [0,0,0,0,0,0,0,0,0,0],\n",
        "    [0,0,0,0,0,0,0,0,0,0],\n",
        "    [0,0,0,0,0,0,0,0,0,0],\n",
        "    [1,0,0,0,0,0,0,0,0,1]\n",
        "               ])\n",
        "plt.imshow(image2, cmap = 'Greys')"
      ],
      "execution_count": 130,
      "outputs": [
        {
          "output_type": "execute_result",
          "data": {
            "text/plain": [
              "<matplotlib.image.AxesImage at 0x7feaaa853d68>"
            ]
          },
          "metadata": {
            "tags": []
          },
          "execution_count": 130
        },
        {
          "output_type": "display_data",
          "data": {
            "image/png": "[encoded data removed]",
            "text/plain": [
              "<Figure size 432x288 with 1 Axes>"
            ]
          },
          "metadata": {
            "tags": []
          }
        }
      ]
    },
    {
      "cell_type": "code",
      "metadata": {
        "id": "R5mWjS8PYDkJ",
        "colab_type": "code",
        "colab": {
          "base_uri": "https://localhost:8080/",
          "height": 286
        },
        "outputId": "9affed91-a96e-4c9e-f2c6-7cd6eb20fd50"
      },
      "source": [
        "plt.imshow(dilate(image2,kernel_3x3), cmap = 'Greys')"
      ],
      "execution_count": 131,
      "outputs": [
        {
          "output_type": "execute_result",
          "data": {
            "text/plain": [
              "<matplotlib.image.AxesImage at 0x7feaaa824550>"
            ]
          },
          "metadata": {
            "tags": []
          },
          "execution_count": 131
        },
        {
          "output_type": "display_data",
          "data": {
            "image/png": "[encoded data removed]",
            "text/plain": [
              "<Figure size 432x288 with 1 Axes>"
            ]
          },
          "metadata": {
            "tags": []
          }
        }
      ]
    },
    {
      "cell_type": "code",
      "metadata": {
        "id": "BNOvotvmadue",
        "colab_type": "code",
        "colab": {
          "base_uri": "https://localhost:8080/",
          "height": 286
        },
        "outputId": "798eaa72-49cc-4cc0-ccc0-3a30e30f44d3"
      },
      "source": [
        "plt.imshow(dilate(image2,kernel_5x3), cmap = 'Greys')"
      ],
      "execution_count": 132,
      "outputs": [
        {
          "output_type": "execute_result",
          "data": {
            "text/plain": [
              "<matplotlib.image.AxesImage at 0x7feaaa8be320>"
            ]
          },
          "metadata": {
            "tags": []
          },
          "execution_count": 132
        },
        {
          "output_type": "display_data",
          "data": {
            "image/png": "[encoded data removed]",
            "text/plain": [
              "<Figure size 432x288 with 1 Axes>"
            ]
          },
          "metadata": {
            "tags": []
          }
        }
      ]
    },
    {
      "cell_type": "code",
      "metadata": {
        "id": "8beOl1QagolH",
        "colab_type": "code",
        "colab": {
          "base_uri": "https://localhost:8080/",
          "height": 255
        },
        "outputId": "e8fae51d-7582-4651-daad-36c950786f19"
      },
      "source": [
        "plotKernel(kernel_5x3)"
      ],
      "execution_count": 133,
      "outputs": [
        {
          "output_type": "display_data",
          "data": {
            "image/png": "[encoded data removed]",
            "text/plain": [
              "<Figure size 432x288 with 1 Axes>"
            ]
          },
          "metadata": {
            "tags": []
          }
        }
      ]
    },
    {
      "cell_type": "code",
      "metadata": {
        "id": "BZLG7dAHin1R",
        "colab_type": "code",
        "colab": {
          "base_uri": "https://localhost:8080/",
          "height": 286
        },
        "outputId": "dbf2e38e-b0ae-4964-f1d6-e25eef114063"
      },
      "source": [
        "image3 = np.array([\n",
        "    [0,0,0,0,0,0,0,0,0,0,0,0,0,0,0,0],\n",
        "    [0,0,0,0,0,0,0,0,0,0,0,0,0,0,0,0],\n",
        "    [0,0,0,1,1,1,0,0,0,0,0,0,0,0,0,0],\n",
        "    [0,0,1,1,1,1,1,0,0,0,0,0,0,0,0,0],\n",
        "    [0,0,1,1,1,1,1,0,0,0,0,1,1,1,0,0],\n",
        "    [0,0,1,1,1,1,0,0,0,0,1,1,1,1,0,0],\n",
        "    [0,0,0,1,1,0,0,0,0,1,1,1,1,1,0,0],\n",
        "    [0,0,0,0,0,0,0,0,1,1,1,1,1,0,0,0],\n",
        "    [0,0,0,0,0,0,0,1,1,1,1,1,0,0,0,0],\n",
        "    [0,0,0,0,0,0,1,1,1,1,1,0,0,0,0,0],\n",
        "    [0,0,0,0,0,1,1,1,1,1,0,0,0,0,0,0],\n",
        "    [0,0,0,0,1,1,1,1,1,0,0,0,0,0,0,0],\n",
        "    [0,0,0,1,1,1,1,1,1,1,1,0,0,0,0,0],\n",
        "    [0,0,0,1,1,1,1,1,1,1,1,0,0,0,0,0],\n",
        "    [0,0,0,0,1,1,1,1,1,1,0,0,0,0,0,0],\n",
        "    [0,0,0,0,0,0,0,0,0,0,0,0,0,0,0,0],\n",
        "               ])\n",
        "plt.imshow(image3, cmap = 'Greys')"
      ],
      "execution_count": 134,
      "outputs": [
        {
          "output_type": "execute_result",
          "data": {
            "text/plain": [
              "<matplotlib.image.AxesImage at 0x7feaaae71588>"
            ]
          },
          "metadata": {
            "tags": []
          },
          "execution_count": 134
        },
        {
          "output_type": "display_data",
          "data": {
            "image/png": "[encoded data removed]",
            "text/plain": [
              "<Figure size 432x288 with 1 Axes>"
            ]
          },
          "metadata": {
            "tags": []
          }
        }
      ]
    },
    {
      "cell_type": "code",
      "metadata": {
        "id": "3JoG-OVxjaeC",
        "colab_type": "code",
        "colab": {
          "base_uri": "https://localhost:8080/",
          "height": 286
        },
        "outputId": "6e44c844-c0f7-4307-dc3a-48edd04a39fa"
      },
      "source": [
        "# This was the example given and my code matches it.\n",
        "plt.imshow(dilate(image3,kernel_3x3), cmap = 'Greys')"
      ],
      "execution_count": 135,
      "outputs": [
        {
          "output_type": "execute_result",
          "data": {
            "text/plain": [
              "<matplotlib.image.AxesImage at 0x7feaaacfa470>"
            ]
          },
          "metadata": {
            "tags": []
          },
          "execution_count": 135
        },
        {
          "output_type": "display_data",
          "data": {
            "image/png": "[encoded data removed]",
            "text/plain": [
              "<Figure size 432x288 with 1 Axes>"
            ]
          },
          "metadata": {
            "tags": []
          }
        }
      ]
    },
    {
      "cell_type": "code",
      "metadata": {
        "id": "u14rgKBfjsWk",
        "colab_type": "code",
        "colab": {}
      },
      "source": [
        ""
      ],
      "execution_count": 0,
      "outputs": []
    }
  ]
}