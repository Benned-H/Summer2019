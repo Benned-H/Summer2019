{
  "nbformat": 4,
  "nbformat_minor": 0,
  "metadata": {
    "colab": {
      "name": "Simple Reinforcement Learning with Tensorflow",
      "version": "0.3.2",
      "provenance": [],
      "collapsed_sections": [],
      "include_colab_link": true
    },
    "kernelspec": {
      "name": "python3",
      "display_name": "Python 3"
    },
    "accelerator": "GPU"
  },
  "cells": [
    {
      "cell_type": "markdown",
      "metadata": {
        "id": "view-in-github",
        "colab_type": "text"
      },
      "source": [
        "<a href=\"https://colab.research.google.com/github/Benned-H/Summer2019/blob/master/Simple_Reinforcement_Learning_with_Tensorflow.ipynb\" target=\"_parent\"><img src=\"https://colab.research.google.com/assets/colab-badge.svg\" alt=\"Open In Colab\"/></a>"
      ]
    },
    {
      "cell_type": "markdown",
      "metadata": {
        "id": "f6jsPJyBwBX7",
        "colab_type": "text"
      },
      "source": [
        "# Part 0: Q-Learning with Tables and Neural Networks [[Link]](https://medium.com/emergent-future/simple-reinforcement-learning-with-tensorflow-part-0-q-learning-with-tables-and-neural-networks-d195264329d0)"
      ]
    },
    {
      "cell_type": "markdown",
      "metadata": {
        "id": "VyrhLtG7wFK9",
        "colab_type": "text"
      },
      "source": [
        "We begin with a simpler algorithm than we'll see in the next few tutorials. **Policy gradients** attempt to learn functions which map observations to actions, whereas **Q-Learning** attempts to learn the value of being in a given state, and taking an action there. Even DeepQ networks are just larger and more complex versions of the algorithm we'll discuss here."
      ]
    },
    {
      "cell_type": "markdown",
      "metadata": {
        "id": "MmtylpYywreN",
        "colab_type": "text"
      },
      "source": [
        "We'll be working in the [FrozenLake](https://gym.openai.com/envs/FrozenLake-v0/) environment from OpenAI Gym. This environment is a 4x4 grid of blocks, with blocks being one of the start block, goal block, a safe block, or dangerous hole. We want our agent to navigate to the goal without falling down a hole, but the ice is slippery and we might not move exactly as the agent attempts to."
      ]
    },
    {
      "cell_type": "code",
      "metadata": {
        "id": "-K4bkqAuyGUd",
        "colab_type": "code",
        "outputId": "be70781b-453d-4e33-831e-e7e11b88a3f0",
        "colab": {
          "base_uri": "https://localhost:8080/",
          "height": 102
        }
      },
      "source": [
        "# Import Gym, create and view environment\n",
        "import gym\n",
        "env = gym.make('FrozenLake-v0')\n",
        "env.render()"
      ],
      "execution_count": 1,
      "outputs": [
        {
          "output_type": "stream",
          "text": [
            "\n",
            "\u001b[41mS\u001b[0mFFF\n",
            "FHFH\n",
            "FFFH\n",
            "HFFG\n"
          ],
          "name": "stdout"
        }
      ]
    },
    {
      "cell_type": "code",
      "metadata": {
        "id": "9QpbmQY8zhgn",
        "colab_type": "code",
        "outputId": "1bd4859a-51c2-4ad6-b11e-920016c29c2a",
        "colab": {
          "base_uri": "https://localhost:8080/",
          "height": 51
        }
      },
      "source": [
        "# View actions/observations\n",
        "print(env.action_space)\n",
        "print(env.observation_space)"
      ],
      "execution_count": 2,
      "outputs": [
        {
          "output_type": "stream",
          "text": [
            "Discrete(4)\n",
            "Discrete(16)\n"
          ],
          "name": "stdout"
        }
      ]
    },
    {
      "cell_type": "markdown",
      "metadata": {
        "id": "LYYoefwSzkCb",
        "colab_type": "text"
      },
      "source": [
        "Discrete spaces allow a fixed range of non-negative numbers. Thus we have 4 possible actions, 0 to 3, and 16 possible observations for which of the 16 squares our agent is on."
      ]
    },
    {
      "cell_type": "code",
      "metadata": {
        "id": "pbwswcGw2Ba0",
        "colab_type": "code",
        "outputId": "8febb9f0-4250-47a5-efbc-8bcdbb3975d9",
        "colab": {
          "base_uri": "https://localhost:8080/",
          "height": 102
        }
      },
      "source": [
        "# Note: The environment isn't randomized.\n",
        "# It's the same each time.\n",
        "env.reset()\n",
        "env.render()"
      ],
      "execution_count": 3,
      "outputs": [
        {
          "output_type": "stream",
          "text": [
            "\n",
            "\u001b[41mS\u001b[0mFFF\n",
            "FHFH\n",
            "FFFH\n",
            "HFFG\n"
          ],
          "name": "stdout"
        }
      ]
    },
    {
      "cell_type": "markdown",
      "metadata": {
        "id": "CWwFV0231xPh",
        "colab_type": "text"
      },
      "source": [
        "Our reward at every step is 0, except when we enter the goal, where we receive a reward of 1. This means we need an algorithm that can learn with long-term expected rewards, which Q-Learning can. The simplest implementation of Q-Learning is a table of values for each state (row) and action (column) possible. We learn a value for how good it is to take a given action within a given state for each combination. First, initialize all $16\\times4=64$ cells to 0."
      ]
    },
    {
      "cell_type": "markdown",
      "metadata": {
        "id": "RtIzyvbO3I3F",
        "colab_type": "text"
      },
      "source": [
        "To update our table, we'll use the Bellman equation. This states that \"the expected long-term reward for a given action is equal to the immediate reward from the current action combined with the expected reward from the best future action taken at the following state.\" Put differently (in my words), we want to figure out how valuable some choice is in the future. We can break this question into two parts:\n",
        "1. How valuable is this decision immediately? This is easy to answer, because we immediately see the next step following our decision.\n",
        "2. How valuable is the best choice we can then make? We've now recursively broken the question down into a simpler problem."
      ]
    },
    {
      "cell_type": "markdown",
      "metadata": {
        "id": "iZSPXffF4bW0",
        "colab_type": "text"
      },
      "source": [
        "This approach allows us to reuse the Q-table when estimating how to update the table for some current decision. Formally, we could write:\n",
        "\n",
        "$Q(s,a)=r + \\gamma(\\text{max}\\{Q(s',a')\\})$, where the Q-value for some given state $s$ and action $a$ is the current reward $r$ plus the maximum discounted reward $\\gamma$ according the the next state $s'$ our decision results in. The discount function $\\gamma$ allows us to vary how important possible future rewards are compared to the present reward. Thus we slowly develop an accurate table of expected rewards for given actions in given states."
      ]
    },
    {
      "cell_type": "markdown",
      "metadata": {
        "id": "MHM-9oz061ag",
        "colab_type": "text"
      },
      "source": [
        "From [A Beginner's Guide to Deep Reinforcement Learning](https://skymind.ai/wiki/deep-reinforcement-learning#define):\n",
        "\n",
        "We multiply future rewards by a **discount factor** in order to lessen the impact they have on present decisions. This makes future rewards worth less than present rewards, but the gamma $\\gamma$ parameter lets us pick exactly how much. As an example, with $\\gamma=0.8$, and a reward of 10 in 3 time steps, the present value of the reward is $0.8^3*10$. A gamma of 1 thus treats future rewards as just as valuable as immediate rewards."
      ]
    },
    {
      "cell_type": "code",
      "metadata": {
        "id": "vrX-6NnX7nKS",
        "colab_type": "code",
        "colab": {}
      },
      "source": [
        "import random\n",
        "\n",
        "def discount(arr, gamma):\n",
        "  \"\"\" Discounts a given list of rewards using the given gamma.\n",
        "      Gives the same results as an example from a workshop, so I trust my code here. \"\"\"\n",
        "  \n",
        "  for r in range(len(arr)): # Loop over all rewards\n",
        "    for i in range(r + 1, len(arr)): # For all future rewards...\n",
        "      arr[r] += gamma ** (i-r) * arr[i] # Add discounted future rewards\n",
        "    \n",
        "  return arr"
      ],
      "execution_count": 0,
      "outputs": []
    },
    {
      "cell_type": "code",
      "metadata": {
        "id": "WElBBIKJ72Mo",
        "colab_type": "code",
        "outputId": "f5865e35-a4f9-4eed-f09e-6a87e2b3e71e",
        "colab": {
          "base_uri": "https://localhost:8080/",
          "height": 136
        }
      },
      "source": [
        "discount([1,2,3,1,2,3,50], 0.56)"
      ],
      "execution_count": 5,
      "outputs": [
        {
          "output_type": "execute_result",
          "data": {
            "text/plain": [
              "[5.140374425600002,\n",
              " 7.393525760000001,\n",
              " 9.631296000000003,\n",
              " 11.841600000000003,\n",
              " 19.360000000000003,\n",
              " 31.000000000000004,\n",
              " 50]"
            ]
          },
          "metadata": {
            "tags": []
          },
          "execution_count": 5
        }
      ]
    },
    {
      "cell_type": "markdown",
      "metadata": {
        "id": "KfeP2kKM6C8N",
        "colab_type": "text"
      },
      "source": [
        "At this point, I'll attempt to code this out myself. These were helpful:\n",
        "* Gym Discrete Space code [here](https://github.com/openai/gym/blob/master/gym/spaces/discrete.py)\n",
        "* For [sampling a list](https://www.geeksforgeeks.org/python-random-sample-function/)"
      ]
    },
    {
      "cell_type": "code",
      "metadata": {
        "id": "8g9s6QI0fVnI",
        "colab_type": "code",
        "colab": {}
      },
      "source": [
        "import numpy as np\n",
        "\n",
        "class Q_Table_Agent:\n",
        "\n",
        "    # Initializer\n",
        "    def __init__(self, states, actions, gamma, learning_rate):\n",
        "      self.Q_t = np.zeros((states, actions)) # Table dimension is: states by possible actions.\n",
        "      self.g = gamma # The discount factor for this agent.\n",
        "      self.lr = learning_rate # The learning rate for our Q-table updates.\n",
        "      \n",
        "    def max_col(self, row):\n",
        "      \"\"\" Returns one of the columns with the max value in a given numpy row. \"\"\"\n",
        "      maximum = np.amax(row) # Find the maximum value in the row.\n",
        "      winners = []\n",
        "  \n",
        "      for c in range(len(row)): # Loop over all values in the row.\n",
        "        if (row[c] == maximum):\n",
        "          winners.append(c) # Append columns containing the maximum value to list.\n",
        "  \n",
        "      return random.sample(winners, 1)[0] # Return a random one of these columns.\n",
        "        \n",
        "    def act(self, state):\n",
        "      \"\"\" Chooses an action given some state. \"\"\"\n",
        "      row = self.Q_t[state] # Choose the maximum column for this state.\n",
        "      return self.max_col(row) # This will be the action yielding the highest expected reward.\n",
        "    \n",
        "    def setTable(self, r, c, value):\n",
        "      \"\"\" Sets Q_t[r][c] to the given value. \"\"\"\n",
        "      self.Q_t[r][c] = value\n",
        "    \n",
        "    def learn(self, s, a, new_s, reward):\n",
        "      \"\"\" Learn based on action <a> we took in given state <s>. \"\"\"\n",
        "      \n",
        "      max_exp = np.amax(self.Q_t[new_s]) # Find the maximum reward we can expect in the future.\n",
        "      set_to = reward + self.g * max_exp # If our learning rate was 1, we'd set Q_t[s][a] to this.\n",
        "      delta = self.lr * (set_to - self.Q_t[s][a]) # Change the reward by this much.\n",
        "      \n",
        "      self.Q_t[s][a] += delta\n",
        "      \n",
        "    def reset(self):\n",
        "      \"\"\"Resets the agent as if it was just created.\"\"\"\n",
        "      self.Q_t = np.zeros((len(self.Q_t), len(self.Q_t[0])))"
      ],
      "execution_count": 0,
      "outputs": []
    },
    {
      "cell_type": "code",
      "metadata": {
        "colab_type": "code",
        "id": "8VfyJE_6lpIS",
        "colab": {}
      },
      "source": [
        "# Create an agent for a few tests.\n",
        "\n",
        "agent = Q_Table_Agent(env.observation_space.n, env.action_space.n, 0.95, 0.8)\n",
        "agent.setTable(0,0,1)\n",
        "agent.setTable(0,1,2)\n",
        "agent.setTable(1,0,3)\n",
        "agent.setTable(1,2,3)"
      ],
      "execution_count": 0,
      "outputs": []
    },
    {
      "cell_type": "code",
      "metadata": {
        "id": "jQEg3sy-iXsO",
        "colab_type": "code",
        "outputId": "c339fbdd-a8d8-4c2d-b7f1-f59a2448c43d",
        "colab": {
          "base_uri": "https://localhost:8080/",
          "height": 34
        }
      },
      "source": [
        "# Pretend we're in this state, which action should we take? Seems to work.\n",
        "agent.act(1)"
      ],
      "execution_count": 8,
      "outputs": [
        {
          "output_type": "execute_result",
          "data": {
            "text/plain": [
              "0"
            ]
          },
          "metadata": {
            "tags": []
          },
          "execution_count": 8
        }
      ]
    },
    {
      "cell_type": "code",
      "metadata": {
        "id": "gImff4yn6BqW",
        "colab_type": "code",
        "colab": {}
      },
      "source": [
        "# Q-Table Implementation on OpenAI Gym FrozenLake\n",
        "\n",
        "episodes = 2000 # Number of episodes to train for.\n",
        "timesteps = 500 # Cut the agent off after this many timesteps in any one episode.\n",
        "\n",
        "agent = Q_Table_Agent(env.observation_space.n, env.action_space.n, 0.9, 0.8)\n",
        "\n",
        "records = [] # To store our scores over all episodes.\n",
        "\n",
        "for ep in range(episodes):\n",
        "  state = env.reset() # Gets the state we start in, which is 0.\n",
        "  \n",
        "  for t in range(timesteps):\n",
        "    action = agent.act(state)\n",
        "    \n",
        "    new_state, reward, done, info = env.step(action) # Try our action in the environment.\n",
        "    \n",
        "    if (done and reward == 0):\n",
        "      agent.learn(state, action, new_state, -1) # Death case.\n",
        "    else:\n",
        "      agent.learn(state, action, new_state, reward) # Learn from what we did.\n",
        "    \n",
        "    state = new_state\n",
        "    \n",
        "    if done:\n",
        "      records.append(reward) # Record if we won.\n",
        "      break"
      ],
      "execution_count": 0,
      "outputs": []
    },
    {
      "cell_type": "code",
      "metadata": {
        "id": "P2isNy3gNG-p",
        "colab_type": "code",
        "outputId": "9f09639f-c32c-48d7-8cd8-ec88a9a371f3",
        "colab": {
          "base_uri": "https://localhost:8080/",
          "height": 286
        }
      },
      "source": [
        "from matplotlib import pyplot as plt\n",
        "plt.plot(records)\n",
        "\n",
        "# We succeeded this % of the time.\n",
        "sum(records)/episodes"
      ],
      "execution_count": 10,
      "outputs": [
        {
          "output_type": "execute_result",
          "data": {
            "text/plain": [
              "0.2855"
            ]
          },
          "metadata": {
            "tags": []
          },
          "execution_count": 10
        },
        {
          "output_type": "display_data",
          "data": {
            "image/png": "[encoded data removed]",
            "text/plain": [
              "<Figure size 432x288 with 1 Axes>"
            ]
          },
          "metadata": {
            "tags": []
          }
        }
      ]
    },
    {
      "cell_type": "code",
      "metadata": {
        "id": "iWLtSFxKmsQJ",
        "colab_type": "code",
        "outputId": "64414052-9e79-4a28-deea-fd725d6016d5",
        "colab": {
          "base_uri": "https://localhost:8080/",
          "height": 289
        }
      },
      "source": [
        "print(agent.Q_t)"
      ],
      "execution_count": 11,
      "outputs": [
        {
          "output_type": "stream",
          "text": [
            "[[-0.59400663 -0.89133055 -0.89565769 -0.89434908]\n",
            " [-0.98377372 -0.99985577 -0.99992534 -1.10878463]\n",
            " [-1.33617503 -1.01649646 -0.23933175 -0.98423717]\n",
            " [-0.98944    -0.98716147 -0.97665723 -0.09681584]\n",
            " [-0.840275   -0.95408504 -0.96       -0.89841121]\n",
            " [ 0.          0.          0.          0.        ]\n",
            " [-0.99997764 -0.99999161 -0.99406814 -0.99998464]\n",
            " [ 0.          0.          0.          0.        ]\n",
            " [-0.99732671 -0.98218179 -0.9977372  -0.99601884]\n",
            " [-0.99937871 -1.12948531 -0.24391722 -0.99912146]\n",
            " [-0.11355975 -0.94933234 -0.96       -0.89720792]\n",
            " [ 0.          0.          0.          0.        ]\n",
            " [ 0.          0.          0.          0.        ]\n",
            " [-0.96       -0.935424    0.57002357 -0.85703964]\n",
            " [-0.89510277 -0.61039844 -0.53253066  0.96259454]\n",
            " [ 0.          0.          0.          0.        ]]\n"
          ],
          "name": "stdout"
        }
      ]
    },
    {
      "cell_type": "markdown",
      "metadata": {
        "id": "D7S7LHwY2p6u",
        "colab_type": "text"
      },
      "source": [
        "As we can see, the agent is pretty terrible. The article tangentially mentions $\\epsilon$-greedy agents, so I'd like to look into that."
      ]
    },
    {
      "cell_type": "markdown",
      "metadata": {
        "id": "OFRsQLJu2-YD",
        "colab_type": "text"
      },
      "source": [
        "## The Epsilon-Greedy Algorithm [[Link]](https://jamesmccaffrey.wordpress.com/2017/11/30/the-epsilon-greedy-algorithm/)"
      ]
    },
    {
      "cell_type": "markdown",
      "metadata": {
        "id": "VTBMQtiR3JAY",
        "colab_type": "text"
      },
      "source": [
        "This simple algorithm is used in several areas of ML. A common use is the multi-armed bandit problem: Say we have $k=3$ slot machines. Each pays out with a different distribution, and we can only play 100 times. We want to simultaneously:\n",
        "1. Experiment with each machine to get an idea of which pays out the most.\n",
        "2. Get as much money as possible.\n",
        "\n",
        "These options, often called \"explore\" and \"exploit,\" represent the fundamental tradeoff we wish to solve. Epsilon-greedy does this extremely simply:"
      ]
    },
    {
      "cell_type": "markdown",
      "metadata": {
        "id": "1GiCp5eI5tHJ",
        "colab_type": "text"
      },
      "source": [
        "As we play, we track the average payout of each machine. We default to always selecting the machine with the highest current average payout. Let $\\epsilon=$ some small value, say 0.1. We'll select this machine with probability $(1-\\epsilon) + (\\epsilon-k)$, and all other machines with probability $(\\epsilon-k)$."
      ]
    },
    {
      "cell_type": "markdown",
      "metadata": {
        "id": "Bc_7NvS27Wrm",
        "colab_type": "text"
      },
      "source": [
        "More conceretely, on each attempt:\n",
        "1. Generate a random number  $p$ between 0 and 1.\n",
        "2. If $p>\\epsilon$, select the highest-paying machine. If not, select a random machine.\n",
        "\n",
        "Over time, we'll tend towards the highest-paying machine while still randomly gathering data on the other machines. As a final summary, we greedily pick the best current option most of the time, but pick a random option with small $\\epsilon$ probability. That's it.\n",
        "\n",
        "*--Fin 5/28/2019--*"
      ]
    },
    {
      "cell_type": "markdown",
      "metadata": {
        "id": "EpQUgXLi7efn",
        "colab_type": "text"
      },
      "source": [
        "Now to add that into our code:"
      ]
    },
    {
      "cell_type": "code",
      "metadata": {
        "id": "NDpuOoFN7gYU",
        "colab_type": "code",
        "colab": {}
      },
      "source": [
        "class Q_Table_Agent_ep(Q_Table_Agent):\n",
        "\n",
        "    # Initializer, overrides parent's init.\n",
        "    def __init__(self, states, actions, gamma, learning_rate, epsilon):\n",
        "      self.Q_t = np.zeros((states, actions)) # Table dimension is: states by possible actions.\n",
        "      self.g = gamma # The discount factor for this agent.\n",
        "      self.lr = learning_rate # The learning rate for our Q-table updates.\n",
        "      self.ep = epsilon # For epsilon-greedy searching of options.\n",
        "      \n",
        "    def act(self, state):\n",
        "      \"\"\" Chooses an action given some state. \"\"\"\n",
        "      p = random.random() # Generate random number 0 to 1.\n",
        "      \n",
        "      if p < self.ep: # Explore.\n",
        "        return random.randint(0, self.Q_t.shape[1]-1)\n",
        "      \n",
        "      # Else case, exploit.\n",
        "      row = self.Q_t[state] # Choose the maximum column for this state.\n",
        "      return self.max_col(row) # This will be the action yielding the highest expected reward."
      ],
      "execution_count": 0,
      "outputs": []
    },
    {
      "cell_type": "code",
      "metadata": {
        "id": "2yt4aJpE9Qpi",
        "colab_type": "code",
        "colab": {}
      },
      "source": [
        "# Epsilon-greedy Q-Table Implementation on OpenAI Gym FrozenLake\n",
        "\n",
        "episodes = 2000 # Number of episodes to train for.\n",
        "timesteps = 500 # Cut the agent off after this many timesteps in any one episode.\n",
        "\n",
        "ep_agent = Q_Table_Agent_ep(env.observation_space.n, env.action_space.n, 0.9, 0.8, 0.01)\n",
        "\n",
        "ep_records = [] # To store our scores over all episodes.\n",
        "\n",
        "for ep in range(episodes):\n",
        "  state = env.reset() # Gets the state we start in, which is 0.\n",
        "  \n",
        "  for t in range(timesteps):\n",
        "    action = ep_agent.act(state)\n",
        "    \n",
        "    new_state, reward, done, info = env.step(action) # Try our action in the environment.\n",
        "    \n",
        "    if (done and reward == 0):\n",
        "      ep_agent.learn(state, action, new_state, -1) # Death case.\n",
        "    else:\n",
        "      ep_agent.learn(state, action, new_state, reward) # Learn from what we did.\n",
        "    \n",
        "    state = new_state\n",
        "    \n",
        "    if done:\n",
        "      ep_records.append(reward) # Record if we won.\n",
        "      break"
      ],
      "execution_count": 0,
      "outputs": []
    },
    {
      "cell_type": "code",
      "metadata": {
        "id": "h6-82zKn9xQB",
        "colab_type": "code",
        "outputId": "e69fff97-232b-4c89-beef-68c3a31b4a07",
        "colab": {
          "base_uri": "https://localhost:8080/",
          "height": 286
        }
      },
      "source": [
        "plt.plot(ep_records)\n",
        "\n",
        "# We succeeded this % of the time.\n",
        "sum(ep_records)/episodes"
      ],
      "execution_count": 14,
      "outputs": [
        {
          "output_type": "execute_result",
          "data": {
            "text/plain": [
              "0.3605"
            ]
          },
          "metadata": {
            "tags": []
          },
          "execution_count": 14
        },
        {
          "output_type": "display_data",
          "data": {
            "image/png": "[encoded data removed]",
            "text/plain": [
              "<Figure size 432x288 with 1 Axes>"
            ]
          },
          "metadata": {
            "tags": []
          }
        }
      ]
    },
    {
      "cell_type": "code",
      "metadata": {
        "id": "oRKiSFLH98Ag",
        "colab_type": "code",
        "outputId": "9d842f9c-6234-41d1-c84b-9de2aca4ae11",
        "colab": {
          "base_uri": "https://localhost:8080/",
          "height": 289
        }
      },
      "source": [
        "print(ep_agent.Q_t)"
      ],
      "execution_count": 15,
      "outputs": [
        {
          "output_type": "stream",
          "text": [
            "[[-0.19715727 -0.54285415 -0.04843547 -0.16943268]\n",
            " [-0.9720719  -0.92833557 -0.96900057 -0.1184625 ]\n",
            " [-0.38136943 -0.17165466 -0.85307302 -0.80299819]\n",
            " [-0.84018832 -0.37766928 -0.86347835 -0.04626952]\n",
            " [-0.099901   -0.99314439 -0.85790868 -0.2868971 ]\n",
            " [ 0.          0.          0.          0.        ]\n",
            " [-0.68862593 -0.99999858 -0.99986174 -0.999237  ]\n",
            " [ 0.          0.          0.          0.        ]\n",
            " [-0.79605784 -0.94818437 -0.75003461 -0.24679802]\n",
            " [-0.94072281 -0.39642032 -0.93275263 -0.89456228]\n",
            " [-1.3377369  -0.99796627 -0.99161519 -0.97897071]\n",
            " [ 0.          0.          0.          0.        ]\n",
            " [ 0.          0.          0.          0.        ]\n",
            " [-0.79922216 -0.94278081 -0.00265286 -0.98999812]\n",
            " [-0.50154901  0.93482316 -0.42247918 -0.510846  ]\n",
            " [ 0.          0.          0.          0.        ]]\n"
          ],
          "name": "stdout"
        }
      ]
    },
    {
      "cell_type": "code",
      "metadata": {
        "id": "2zVsxVvr0PnR",
        "colab_type": "code",
        "colab": {}
      },
      "source": [
        "# Close the previous FrozenLake environment.\n",
        "env.close()"
      ],
      "execution_count": 0,
      "outputs": []
    },
    {
      "cell_type": "code",
      "metadata": {
        "id": "2Nai0GITTpoc",
        "colab_type": "code",
        "colab": {}
      },
      "source": [
        "import copy\n",
        "\n",
        "class EnvRunner:\n",
        "    # Initializer\n",
        "    def __init__(self, env_name):\n",
        "      self.env = gym.make(env_name) # Create environment of given type.\n",
        "      \n",
        "    def runEnv(self, ag, episodes, timesteps):\n",
        "      \"\"\"Trains the given agent with given conditions.\n",
        "         Returns the average reward over these episodes.\"\"\"\n",
        "      \n",
        "      agent = copy.deepcopy(ag)\n",
        "      \n",
        "      scores = [] # To store our scores over all episodes.\n",
        "      \n",
        "      for ep in range(episodes):\n",
        "        state = self.env.reset()\n",
        "  \n",
        "        for t in range(timesteps):\n",
        "          action = agent.act(state)\n",
        "    \n",
        "          # Try our action in the environment.\n",
        "          new_state, reward, done, info = self.env.step(action)\n",
        "          \n",
        "          # Learn from what we did.\n",
        "          agent.learn(state, action, new_state, reward)\n",
        "    \n",
        "          state = new_state\n",
        "    \n",
        "          if done:\n",
        "            scores.append(reward) # Record if we won.\n",
        "            break\n",
        "            \n",
        "      return sum(scores) / episodes\n",
        "    \n",
        "    def getEnvParams(self):\n",
        "      return self.env.observation_space.n, self.env.action_space.n"
      ],
      "execution_count": 0,
      "outputs": []
    },
    {
      "cell_type": "code",
      "metadata": {
        "id": "NyMq3d8iyCoV",
        "colab_type": "code",
        "colab": {}
      },
      "source": [
        "class GridSearch:\n",
        "  # Tests an agent of a given type with varying hyperparameters.\n",
        "  \n",
        "  def __init__(self, runner, eps):\n",
        "    self.runner = runner\n",
        "    self.episodes = eps\n",
        "    \n",
        "  def search(self, agent, attrs, vals, keep_num):\n",
        "    \"\"\"Searches over all combinations of the given attribute values.\"\"\"\n",
        "    if len(attrs) != len(vals):\n",
        "      print(\"ERROR:\", len(attrs), \"attributes and\", len(vals), \"values given.\")\n",
        "      return\n",
        "    \n",
        "    for attr in attrs:\n",
        "      if hasattr(agent, attr) == False:\n",
        "        print(\"ERROR: Agent does not have attribute\", attr)\n",
        "        return\n",
        "      \n",
        "    combinations = 1\n",
        "    for val_list in vals:\n",
        "      combinations *= len(val_list)\n",
        "      \n",
        "    winners = [float(\"-inf\")] * keep_num\n",
        "    \n",
        "    curr_indices = [0] * len(attrs)\n",
        "    curr_indices[len(attrs)-1] = -1 # Account for initial while loop increment.\n",
        "    curr_attr = len(attrs) - 1 # The attribute we're currently iterating over. Start at the 'rightmost' attribute.\n",
        "    \n",
        "    counter = 0\n",
        "    while True: # Loop until all combinations exhausted.\n",
        "      curr_attr = len(attrs) - 1\n",
        "      curr_indices[curr_attr] += 1 # Increment the current attribute by 1.\n",
        "        \n",
        "      while(curr_indices[curr_attr] > len(vals[curr_attr]) - 1): # Overflow case.\n",
        "        curr_indices[curr_attr] = 0\n",
        "        curr_attr -= 1\n",
        "        curr_indices[curr_attr] += 1 # Increment the current attribute by 1.\n",
        "        if curr_attr == -1:\n",
        "          return winners\n",
        "          \n",
        "      # When we reach here, we hopefully have a new combination of parameters.\n",
        "      # Set the agent to have each of these parameters.\n",
        "      counter += 1\n",
        "      print(\"Testing combination\", counter, \"of\", combinations)\n",
        "      \n",
        "      output = \"\"\n",
        "      \n",
        "      for i, attr in enumerate(attrs):\n",
        "        attr_index = curr_indices[i]\n",
        "        val = vals[i][attr_index]\n",
        "        setattr(agent, attr, val)\n",
        "        output = output + str(val) + \" \"\n",
        "        \n",
        "      print(output)\n",
        "      \n",
        "      average = self.runner.runEnv(agent, self.episodes, 100)\n",
        "      print(average)\n",
        "      \n",
        "      # Track the best combinations\n",
        "      if average > winners[0]:\n",
        "        winners[0] = average\n",
        "        winners.sort()"
      ],
      "execution_count": 0,
      "outputs": []
    },
    {
      "cell_type": "code",
      "metadata": {
        "id": "dOd8yabUVwE-",
        "colab_type": "code",
        "colab": {}
      },
      "source": [
        "env = gym.make('FrozenLake-v0')"
      ],
      "execution_count": 0,
      "outputs": []
    },
    {
      "cell_type": "code",
      "metadata": {
        "id": "9zO7Sxr0t8DV",
        "colab_type": "code",
        "colab": {}
      },
      "source": [
        "runner = EnvRunner('FrozenLake-v0')\n",
        "searcher = GridSearch(runner, 2000)\n",
        "\n",
        "agent = Q_Table_Agent_ep(env.observation_space.n, env.action_space.n, 0.9, 0.8, 0.01)"
      ],
      "execution_count": 0,
      "outputs": []
    },
    {
      "cell_type": "code",
      "metadata": {
        "id": "ZI1UjM7L3b2U",
        "colab_type": "code",
        "colab": {
          "base_uri": "https://localhost:8080/",
          "height": 1394
        },
        "outputId": "0aea1cfa-e1d2-4646-c572-9a4318dc87fb"
      },
      "source": [
        "results = searcher.search(agent, [\"g\", \"lr\", \"ep\"], [[0.6,0.8,1],[0.75,0.85,0.95],[0.01,0.05,0.1]], 10)"
      ],
      "execution_count": 21,
      "outputs": [
        {
          "output_type": "stream",
          "text": [
            "Testing combination 1 of 27\n",
            "0.6 0.75 0.01 \n",
            "0.082\n",
            "Testing combination 2 of 27\n",
            "0.6 0.75 0.05 \n",
            "0.0875\n",
            "Testing combination 3 of 27\n",
            "0.6 0.75 0.1 \n",
            "0.0675\n",
            "Testing combination 4 of 27\n",
            "0.6 0.85 0.01 \n",
            "0.0935\n",
            "Testing combination 5 of 27\n",
            "0.6 0.85 0.05 \n",
            "0.0835\n",
            "Testing combination 6 of 27\n",
            "0.6 0.85 0.1 \n",
            "0.0915\n",
            "Testing combination 7 of 27\n",
            "0.6 0.95 0.01 \n",
            "0.23\n",
            "Testing combination 8 of 27\n",
            "0.6 0.95 0.05 \n",
            "0.0965\n",
            "Testing combination 9 of 27\n",
            "0.6 0.95 0.1 \n",
            "0.0685\n",
            "Testing combination 10 of 27\n",
            "0.8 0.75 0.01 \n",
            "0.1715\n",
            "Testing combination 11 of 27\n",
            "0.8 0.75 0.05 \n",
            "0.1375\n",
            "Testing combination 12 of 27\n",
            "0.8 0.75 0.1 \n",
            "0.1085\n",
            "Testing combination 13 of 27\n",
            "0.8 0.85 0.01 \n",
            "0.114\n",
            "Testing combination 14 of 27\n",
            "0.8 0.85 0.05 \n",
            "0.184\n",
            "Testing combination 15 of 27\n",
            "0.8 0.85 0.1 \n",
            "0.1165\n",
            "Testing combination 16 of 27\n",
            "0.8 0.95 0.01 \n",
            "0.3385\n",
            "Testing combination 17 of 27\n",
            "0.8 0.95 0.05 \n",
            "0.139\n",
            "Testing combination 18 of 27\n",
            "0.8 0.95 0.1 \n",
            "0.0885\n",
            "Testing combination 19 of 27\n",
            "1 0.75 0.01 \n",
            "0.019\n",
            "Testing combination 20 of 27\n",
            "1 0.75 0.05 \n",
            "0.0775\n",
            "Testing combination 21 of 27\n",
            "1 0.75 0.1 \n",
            "0.0705\n",
            "Testing combination 22 of 27\n",
            "1 0.85 0.01 \n",
            "0.0215\n",
            "Testing combination 23 of 27\n",
            "1 0.85 0.05 \n",
            "0.0685\n",
            "Testing combination 24 of 27\n",
            "1 0.85 0.1 \n",
            "0.076\n",
            "Testing combination 25 of 27\n",
            "1 0.95 0.01 \n",
            "0.3625\n",
            "Testing combination 26 of 27\n",
            "1 0.95 0.05 \n",
            "0.059\n",
            "Testing combination 27 of 27\n",
            "1 0.95 0.1 \n",
            "0.085\n"
          ],
          "name": "stdout"
        }
      ]
    },
    {
      "cell_type": "code",
      "metadata": {
        "id": "biOHqB5614Me",
        "colab_type": "code",
        "colab": {
          "base_uri": "https://localhost:8080/",
          "height": 34
        },
        "outputId": "eb8ce8a7-a847-4067-a9ec-93600520bc03"
      },
      "source": [
        "results"
      ],
      "execution_count": 22,
      "outputs": [
        {
          "output_type": "execute_result",
          "data": {
            "text/plain": [
              "[0.1085, 0.114, 0.1165, 0.1375, 0.139, 0.1715, 0.184, 0.23, 0.3385, 0.3625]"
            ]
          },
          "metadata": {
            "tags": []
          },
          "execution_count": 22
        }
      ]
    },
    {
      "cell_type": "markdown",
      "metadata": {
        "id": "BUIV0q7v-ykJ",
        "colab_type": "text"
      },
      "source": [
        "# TO DO\n",
        "* Experiment with gamma, learning rate, and epsilon values (grid search could be automated, read articles?)\n"
      ]
    }
  ]
}