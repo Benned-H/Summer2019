{
  "nbformat": 4,
  "nbformat_minor": 0,
  "metadata": {
    "colab": {
      "name": "Simple Reinforcement Learning with Tensorflow",
      "version": "0.3.2",
      "provenance": [],
      "collapsed_sections": [],
      "include_colab_link": true
    },
    "kernelspec": {
      "name": "python3",
      "display_name": "Python 3"
    }
  },
  "cells": [
    {
      "cell_type": "markdown",
      "metadata": {
        "id": "view-in-github",
        "colab_type": "text"
      },
      "source": [
        "<a href=\"https://colab.research.google.com/github/Benned-H/Summer2019/blob/master/Simple_Reinforcement_Learning_with_Tensorflow.ipynb\" target=\"_parent\"><img src=\"https://colab.research.google.com/assets/colab-badge.svg\" alt=\"Open In Colab\"/></a>"
      ]
    },
    {
      "cell_type": "markdown",
      "metadata": {
        "id": "f6jsPJyBwBX7",
        "colab_type": "text"
      },
      "source": [
        "# Part 0: Q-Learning with Tables and Neural Networks [[Link]](https://medium.com/emergent-future/simple-reinforcement-learning-with-tensorflow-part-0-q-learning-with-tables-and-neural-networks-d195264329d0)"
      ]
    },
    {
      "cell_type": "markdown",
      "metadata": {
        "id": "VyrhLtG7wFK9",
        "colab_type": "text"
      },
      "source": [
        "We begin with a simpler algorithm than we'll see in the next few tutorials. **Policy gradients** attempt to learn functions which map observations to actions, whereas **Q-Learning** attempts to learn the value of being in a given state, and taking an action there. Even DeepQ networks are just larger and more complex versions of the algorithm we'll discuss here."
      ]
    },
    {
      "cell_type": "markdown",
      "metadata": {
        "id": "MmtylpYywreN",
        "colab_type": "text"
      },
      "source": [
        "We'll be working in the [FrozenLake](https://gym.openai.com/envs/FrozenLake-v0/) environment from OpenAI Gym. This environment is a 4x4 grid of blocks, with blocks being one of the start block, goal block, a safe block, or dangerous hole. We want our agent to navigate to the goal without falling down a hole, but the ice is slippery and we might not move exactly as the agent attempts to."
      ]
    },
    {
      "cell_type": "code",
      "metadata": {
        "id": "-K4bkqAuyGUd",
        "colab_type": "code",
        "colab": {
          "base_uri": "https://localhost:8080/",
          "height": 102
        },
        "outputId": "92eec623-6310-4f4c-a438-b09960b3fdde"
      },
      "source": [
        "# Import Gym, create and view environment\n",
        "import gym\n",
        "env = gym.make('FrozenLake-v0')\n",
        "env.render()"
      ],
      "execution_count": 1,
      "outputs": [
        {
          "output_type": "stream",
          "text": [
            "\n",
            "\u001b[41mS\u001b[0mFFF\n",
            "FHFH\n",
            "FFFH\n",
            "HFFG\n"
          ],
          "name": "stdout"
        }
      ]
    },
    {
      "cell_type": "code",
      "metadata": {
        "id": "9QpbmQY8zhgn",
        "colab_type": "code",
        "colab": {
          "base_uri": "https://localhost:8080/",
          "height": 51
        },
        "outputId": "63d2b416-44be-4d8c-a215-64acb58741a2"
      },
      "source": [
        "# View actions/observations\n",
        "print(env.action_space)\n",
        "print(env.observation_space)"
      ],
      "execution_count": 2,
      "outputs": [
        {
          "output_type": "stream",
          "text": [
            "Discrete(4)\n",
            "Discrete(16)\n"
          ],
          "name": "stdout"
        }
      ]
    },
    {
      "cell_type": "markdown",
      "metadata": {
        "id": "LYYoefwSzkCb",
        "colab_type": "text"
      },
      "source": [
        "Discrete spaces allow a fixed range of non-negative numbers. Thus we have 4 possible actions, 0 to 3, and 16 possible observations for which of the 16 squares our agent is on."
      ]
    },
    {
      "cell_type": "code",
      "metadata": {
        "id": "pbwswcGw2Ba0",
        "colab_type": "code",
        "colab": {
          "base_uri": "https://localhost:8080/",
          "height": 102
        },
        "outputId": "107a6d43-7878-4e4f-cf09-498709ef0639"
      },
      "source": [
        "# Note: The environment isn't randomized.\n",
        "# It's the same each time.\n",
        "env.reset()\n",
        "env.render()"
      ],
      "execution_count": 31,
      "outputs": [
        {
          "output_type": "stream",
          "text": [
            "\n",
            "\u001b[41mS\u001b[0mFFF\n",
            "FHFH\n",
            "FFFH\n",
            "HFFG\n"
          ],
          "name": "stdout"
        }
      ]
    },
    {
      "cell_type": "markdown",
      "metadata": {
        "id": "CWwFV0231xPh",
        "colab_type": "text"
      },
      "source": [
        "Our reward at every step is 0, except when we enter the goal, where we receive a reward of 1. This means we need an algorithm that can learn with long-term expected rewards, which Q-Learning can. The simplest implementation of Q-Learning is a table of values for each state (row) and action (column) possible. We learn a value for how good it is to take a given action within a given state for each combination. First, initialize all $16\\times4=64$ cells to 0."
      ]
    },
    {
      "cell_type": "markdown",
      "metadata": {
        "id": "RtIzyvbO3I3F",
        "colab_type": "text"
      },
      "source": [
        "To update our table, we'll use the Bellman equation. This states that \"the expected long-term reward for a given action is equal to the immediate reward from the current action combined with the expected reward from the best future action taken at the following state.\" Put differently (in my words), we want to figure out how valuable some choice is in the future. We can break this question into two parts:\n",
        "1. How valuable is this decision immediately? This is easy to answer, because we immediately see the next step following our decision.\n",
        "2. How valuable is the best choice we can then make? We've now recursively broken the question down into a simpler problem."
      ]
    },
    {
      "cell_type": "markdown",
      "metadata": {
        "id": "iZSPXffF4bW0",
        "colab_type": "text"
      },
      "source": [
        "This approach allows us to reuse the Q-table when estimating how to update the table for some current decision. Formally, we could write:\n",
        "\n",
        "$Q(s,a)=r + \\gamma(\\text{max}\\{Q(s',a')\\})$, where the Q-value for some given state $s$ and action $a$ is the current reward $r$ plus the maximum discounted reward $\\gamma$ according the the next state $s'$ our decision results in. The discount function $\\gamma$ allows us to vary how important possible future rewards are compared to the present reward. Thus we slowly develop an accurate table of expected rewards for given actions in given states."
      ]
    },
    {
      "cell_type": "markdown",
      "metadata": {
        "id": "MHM-9oz061ag",
        "colab_type": "text"
      },
      "source": [
        "From [A Beginner's Guide to Deep Reinforcement Learning](https://skymind.ai/wiki/deep-reinforcement-learning#define):\n",
        "\n",
        "We multiply future rewards by a **discount factor** in order to lessen the impact they have on present decisions. This makes future rewards worth less than present rewards, but the gamma $\\gamma$ parameter lets us pick exactly how much. As an example, with $\\gamma=0.8$, and a reward of 10 in 3 time steps, the present value of the reward is $0.8^3*10$. A gamma of 1 thus treats future rewards as just as valuable as immediate rewards."
      ]
    },
    {
      "cell_type": "code",
      "metadata": {
        "id": "vrX-6NnX7nKS",
        "colab_type": "code",
        "colab": {}
      },
      "source": [
        "import random\n",
        "\n",
        "def discount(arr, gamma):\n",
        "  \"\"\" Discounts a given list of rewards using the given gamma.\n",
        "      Gives the same results as an example from a workshop, so I trust my code here. \"\"\"\n",
        "  \n",
        "  for r in range(len(arr)): # Loop over all rewards\n",
        "    for i in range(r + 1, len(arr)): # For all future rewards...\n",
        "      arr[r] += gamma ** (i-r) * arr[i] # Add discounted future rewards\n",
        "    \n",
        "  return arr"
      ],
      "execution_count": 0,
      "outputs": []
    },
    {
      "cell_type": "code",
      "metadata": {
        "id": "WElBBIKJ72Mo",
        "colab_type": "code",
        "colab": {
          "base_uri": "https://localhost:8080/",
          "height": 136
        },
        "outputId": "dabc1078-d7f3-449d-a7f9-57d860043375"
      },
      "source": [
        "discount([1,2,3,1,2,3,50], 0.56)"
      ],
      "execution_count": 59,
      "outputs": [
        {
          "output_type": "execute_result",
          "data": {
            "text/plain": [
              "[5.140374425600002,\n",
              " 7.393525760000001,\n",
              " 9.631296000000003,\n",
              " 11.841600000000003,\n",
              " 19.360000000000003,\n",
              " 31.000000000000004,\n",
              " 50]"
            ]
          },
          "metadata": {
            "tags": []
          },
          "execution_count": 59
        }
      ]
    },
    {
      "cell_type": "markdown",
      "metadata": {
        "id": "KfeP2kKM6C8N",
        "colab_type": "text"
      },
      "source": [
        "At this point, I'll attempt to code this out myself:"
      ]
    },
    {
      "cell_type": "code",
      "metadata": {
        "id": "05SVroeZIFyF",
        "colab_type": "code",
        "colab": {}
      },
      "source": [
        "def max_col_in_row(row):\n",
        "  \"\"\" Returns one of the columns with the max value in a given numpy row. \"\"\"\n",
        "  maximum = np.amax(row) # Find the maximum value in the row.\n",
        "  winners = []\n",
        "  \n",
        "  for c in range(len(row)):\n",
        "    if (row[c] == maximum):\n",
        "      winners.append(c) # Create list of columns containing the maximum value.\n",
        "  \n",
        "  return random.sample(winners, 1)[0]\n",
        "\n",
        "def act(Q_table, obs):\n",
        "  \"\"\" Chooses an action given an observation and our Q-table. \"\"\"\n",
        "  row = Q_table[obs] # Choose the maximum column for this state\n",
        "  return max_col_in_row(row) # This will be the action yielding the highest expected reward.\n",
        "\n",
        "def learn(Q_t, s, a, new_obs, r, lr, g):\n",
        "  \"\"\" Learn based on action <a> we took in given state <s>. \"\"\"\n",
        "  max_exp = np.amax(Q_t[new_obs]) # Find the maximum reward we can expect in the future.\n",
        "  delta = r + (g * max_exp) - Q_t[s][a] # Change the reward by this much.\n",
        "  Q_t[s][a] += lr * delta\n",
        "  \n",
        "  return Q_t"
      ],
      "execution_count": 0,
      "outputs": []
    },
    {
      "cell_type": "code",
      "metadata": {
        "id": "gImff4yn6BqW",
        "colab_type": "code",
        "colab": {}
      },
      "source": [
        "# Q-Table Implementation on OpenAI Gym FrozenLake\n",
        "\n",
        "import numpy as np\n",
        "\n",
        "episodes = 2000 # Number of episodes to train for.\n",
        "timesteps = 1000 # Cut the agent off after this many timesteps.\n",
        "gamma = 0.95\n",
        "learning_rate = 0.8 # Avoid overcommitting to any one lesson.\n",
        "\n",
        "Q_table = np.zeros((env.observation_space.n, env.action_space.n)) # States by possible actions, 16 x 4.\n",
        "\n",
        "records = [] # To store our scores over all episodes.\n",
        "\n",
        "for ep in range(episodes):\n",
        "  obs = env.reset() # Gets the current state we start in, which is 0.\n",
        "  \n",
        "  for t in range(timesteps):\n",
        "    action = act(Q_table, obs) # Get our action.\n",
        "\n",
        "    new_obs, reward, done, info = env.step(action) # Try our action in the environment.\n",
        "    \n",
        "    Q_table = learn(Q_table, obs, action, new_obs, reward, learning_rate, gamma) # Learn from what we did.\n",
        "    \n",
        "    obs = new_obs\n",
        "    \n",
        "    if done:\n",
        "      records.append(reward) # Record if we won.\n",
        "      break"
      ],
      "execution_count": 0,
      "outputs": []
    },
    {
      "cell_type": "markdown",
      "metadata": {
        "id": "hdAV72ULQLOO",
        "colab_type": "text"
      },
      "source": [
        "### Debugging time"
      ]
    },
    {
      "cell_type": "code",
      "metadata": {
        "id": "kX2TlnpKPn-I",
        "colab_type": "code",
        "colab": {
          "base_uri": "https://localhost:8080/",
          "height": 289
        },
        "outputId": "dcd0e897-8dfa-4d8e-a0fd-03f9c601b830"
      },
      "source": [
        "Q_table = np.zeros((env.observation_space.n, env.action_space.n)) # States by possible actions, 16 x 4.\n",
        "Q_table[0][0] = 1\n",
        "Q_table[0][1] = 2\n",
        "Q_table[1][0] = 3\n",
        "Q_table[1][2] = 3\n",
        "print(Q_table)"
      ],
      "execution_count": 253,
      "outputs": [
        {
          "output_type": "stream",
          "text": [
            "[[1. 2. 0. 0.]\n",
            " [3. 0. 3. 0.]\n",
            " [0. 0. 0. 0.]\n",
            " [0. 0. 0. 0.]\n",
            " [0. 0. 0. 0.]\n",
            " [0. 0. 0. 0.]\n",
            " [0. 0. 0. 0.]\n",
            " [0. 0. 0. 0.]\n",
            " [0. 0. 0. 0.]\n",
            " [0. 0. 0. 0.]\n",
            " [0. 0. 0. 0.]\n",
            " [0. 0. 0. 0.]\n",
            " [0. 0. 0. 0.]\n",
            " [0. 0. 0. 0.]\n",
            " [0. 0. 0. 0.]\n",
            " [0. 0. 0. 0.]]\n"
          ],
          "name": "stdout"
        }
      ]
    },
    {
      "cell_type": "code",
      "metadata": {
        "id": "cMTsH-Q9P4P7",
        "colab_type": "code",
        "colab": {
          "base_uri": "https://localhost:8080/",
          "height": 34
        },
        "outputId": "162e7d9b-0310-4f5f-dc0d-a14a8e87221b"
      },
      "source": [
        "# The act method seems to work as intended.\n",
        "act(Q_table, 1)"
      ],
      "execution_count": 287,
      "outputs": [
        {
          "output_type": "execute_result",
          "data": {
            "text/plain": [
              "0"
            ]
          },
          "metadata": {
            "tags": []
          },
          "execution_count": 287
        }
      ]
    },
    {
      "cell_type": "code",
      "metadata": {
        "id": "P2isNy3gNG-p",
        "colab_type": "code",
        "colab": {
          "base_uri": "https://localhost:8080/",
          "height": 286
        },
        "outputId": "5d0f25ce-b1c0-4f6e-83be-c7132b5626ec"
      },
      "source": [
        "from matplotlib import pyplot as plt\n",
        "plt.plot(records)"
      ],
      "execution_count": 243,
      "outputs": [
        {
          "output_type": "execute_result",
          "data": {
            "text/plain": [
              "[<matplotlib.lines.Line2D at 0x7f359c6026a0>]"
            ]
          },
          "metadata": {
            "tags": []
          },
          "execution_count": 243
        },
        {
          "output_type": "display_data",
          "data": {
            "image/png": "[encoded data removed]",
            "text/plain": [
              "<Figure size 432x288 with 1 Axes>"
            ]
          },
          "metadata": {
            "tags": []
          }
        }
      ]
    },
    {
      "cell_type": "code",
      "metadata": {
        "id": "E2AUP00mIthw",
        "colab_type": "code",
        "colab": {
          "base_uri": "https://localhost:8080/",
          "height": 102
        },
        "outputId": "1107ad39-5cf9-43a3-c641-cbe8c4f7c8b7"
      },
      "source": [
        "env.render()"
      ],
      "execution_count": 137,
      "outputs": [
        {
          "output_type": "stream",
          "text": [
            "  (Right)\n",
            "\u001b[41mS\u001b[0mFFF\n",
            "FHFH\n",
            "FFFH\n",
            "HFFG\n"
          ],
          "name": "stdout"
        }
      ]
    },
    {
      "cell_type": "markdown",
      "metadata": {
        "id": "1a0iNjzMBgs8",
        "colab_type": "text"
      },
      "source": [
        "These were helpful:\n",
        "* Gym Discrete Space code [here](https://github.com/openai/gym/blob/master/gym/spaces/discrete.py)\n",
        "* For [sampling a list](https://www.geeksforgeeks.org/python-random-sample-function/)"
      ]
    },
    {
      "cell_type": "code",
      "metadata": {
        "id": "_QiUT-Y-BK1s",
        "colab_type": "code",
        "colab": {
          "base_uri": "https://localhost:8080/",
          "height": 34
        },
        "outputId": "69794cdc-8683-431e-e249-98d795adaa27"
      },
      "source": [
        "env.action_space.n"
      ],
      "execution_count": 62,
      "outputs": [
        {
          "output_type": "execute_result",
          "data": {
            "text/plain": [
              "4"
            ]
          },
          "metadata": {
            "tags": []
          },
          "execution_count": 62
        }
      ]
    },
    {
      "cell_type": "code",
      "metadata": {
        "id": "2zVsxVvr0PnR",
        "colab_type": "code",
        "colab": {}
      },
      "source": [
        "# Close the FrozenLake environment.\n",
        "env.close()"
      ],
      "execution_count": 0,
      "outputs": []
    }
  ]
}