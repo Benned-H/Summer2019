{
  "nbformat": 4,
  "nbformat_minor": 0,
  "metadata": {
    "colab": {
      "name": "Simple Reinforcement Learning with Tensorflow",
      "version": "0.3.2",
      "provenance": [],
      "collapsed_sections": [],
      "include_colab_link": true
    },
    "kernelspec": {
      "name": "python3",
      "display_name": "Python 3"
    },
    "accelerator": "GPU"
  },
  "cells": [
    {
      "cell_type": "markdown",
      "metadata": {
        "id": "view-in-github",
        "colab_type": "text"
      },
      "source": [
        "<a href=\"https://colab.research.google.com/github/Benned-H/Summer2019/blob/master/Simple_Reinforcement_Learning_with_Tensorflow.ipynb\" target=\"_parent\"><img src=\"https://colab.research.google.com/assets/colab-badge.svg\" alt=\"Open In Colab\"/></a>"
      ]
    },
    {
      "cell_type": "markdown",
      "metadata": {
        "id": "f6jsPJyBwBX7",
        "colab_type": "text"
      },
      "source": [
        "# Part 0: Q-Learning with Tables and Neural Networks [[Link]](https://medium.com/emergent-future/simple-reinforcement-learning-with-tensorflow-part-0-q-learning-with-tables-and-neural-networks-d195264329d0)"
      ]
    },
    {
      "cell_type": "markdown",
      "metadata": {
        "id": "VyrhLtG7wFK9",
        "colab_type": "text"
      },
      "source": [
        "We begin with a simpler algorithm than we'll see in the next few tutorials. **Policy gradients** attempt to learn functions which map observations to actions, whereas **Q-Learning** attempts to learn the value of being in a given state, and taking an action there. Even DeepQ networks are just larger and more complex versions of the algorithm we'll discuss here."
      ]
    },
    {
      "cell_type": "markdown",
      "metadata": {
        "id": "MmtylpYywreN",
        "colab_type": "text"
      },
      "source": [
        "We'll be working in the [FrozenLake](https://gym.openai.com/envs/FrozenLake-v0/) environment from OpenAI Gym. This environment is a 4x4 grid of blocks, with blocks being one of the start block, goal block, a safe block, or dangerous hole. We want our agent to navigate to the goal without falling down a hole, but the ice is slippery and we might not move exactly as the agent attempts to."
      ]
    },
    {
      "cell_type": "code",
      "metadata": {
        "id": "-K4bkqAuyGUd",
        "colab_type": "code",
        "colab": {
          "base_uri": "https://localhost:8080/",
          "height": 102
        },
        "outputId": "1af2e678-85d4-4758-db4b-ea096c3bac21"
      },
      "source": [
        "# Import Gym, create and view environment\n",
        "import gym\n",
        "env = gym.make('FrozenLake-v0')\n",
        "env.render()"
      ],
      "execution_count": 2,
      "outputs": [
        {
          "output_type": "stream",
          "text": [
            "\n",
            "\u001b[41mS\u001b[0mFFF\n",
            "FHFH\n",
            "FFFH\n",
            "HFFG\n"
          ],
          "name": "stdout"
        }
      ]
    },
    {
      "cell_type": "code",
      "metadata": {
        "id": "9QpbmQY8zhgn",
        "colab_type": "code",
        "colab": {
          "base_uri": "https://localhost:8080/",
          "height": 51
        },
        "outputId": "05001c75-edf3-466b-e09c-a793633b170f"
      },
      "source": [
        "# View actions/observations\n",
        "print(env.action_space)\n",
        "print(env.observation_space)"
      ],
      "execution_count": 3,
      "outputs": [
        {
          "output_type": "stream",
          "text": [
            "Discrete(4)\n",
            "Discrete(16)\n"
          ],
          "name": "stdout"
        }
      ]
    },
    {
      "cell_type": "markdown",
      "metadata": {
        "id": "LYYoefwSzkCb",
        "colab_type": "text"
      },
      "source": [
        "Discrete spaces allow a fixed range of non-negative numbers. Thus we have 4 possible actions, 0 to 3, and 16 possible observations for which of the 16 squares our agent is on."
      ]
    },
    {
      "cell_type": "code",
      "metadata": {
        "id": "pbwswcGw2Ba0",
        "colab_type": "code",
        "colab": {
          "base_uri": "https://localhost:8080/",
          "height": 102
        },
        "outputId": "cbc615e0-3afc-4de8-8ee7-f424366eecba"
      },
      "source": [
        "# Note: The environment isn't randomized.\n",
        "# It's the same each time.\n",
        "env.reset()\n",
        "env.render()"
      ],
      "execution_count": 4,
      "outputs": [
        {
          "output_type": "stream",
          "text": [
            "\n",
            "\u001b[41mS\u001b[0mFFF\n",
            "FHFH\n",
            "FFFH\n",
            "HFFG\n"
          ],
          "name": "stdout"
        }
      ]
    },
    {
      "cell_type": "markdown",
      "metadata": {
        "id": "CWwFV0231xPh",
        "colab_type": "text"
      },
      "source": [
        "Our reward at every step is 0, except when we enter the goal, where we receive a reward of 1. This means we need an algorithm that can learn with long-term expected rewards, which Q-Learning can. The simplest implementation of Q-Learning is a table of values for each state (row) and action (column) possible. We learn a value for how good it is to take a given action within a given state for each combination. First, initialize all $16\\times4=64$ cells to 0."
      ]
    },
    {
      "cell_type": "markdown",
      "metadata": {
        "id": "RtIzyvbO3I3F",
        "colab_type": "text"
      },
      "source": [
        "To update our table, we'll use the Bellman equation. This states that \"the expected long-term reward for a given action is equal to the immediate reward from the current action combined with the expected reward from the best future action taken at the following state.\" Put differently (in my words), we want to figure out how valuable some choice is in the future. We can break this question into two parts:\n",
        "1. How valuable is this decision immediately? This is easy to answer, because we immediately see the next step following our decision.\n",
        "2. How valuable is the best choice we can then make? We've now recursively broken the question down into a simpler problem."
      ]
    },
    {
      "cell_type": "markdown",
      "metadata": {
        "id": "iZSPXffF4bW0",
        "colab_type": "text"
      },
      "source": [
        "This approach allows us to reuse the Q-table when estimating how to update the table for some current decision. Formally, we could write:\n",
        "\n",
        "$Q(s,a)=r + \\gamma(\\text{max}\\{Q(s',a')\\})$, where the Q-value for some given state $s$ and action $a$ is the current reward $r$ plus the maximum discounted reward $\\gamma$ according the the next state $s'$ our decision results in. The discount function $\\gamma$ allows us to vary how important possible future rewards are compared to the present reward. Thus we slowly develop an accurate table of expected rewards for given actions in given states."
      ]
    },
    {
      "cell_type": "markdown",
      "metadata": {
        "id": "MHM-9oz061ag",
        "colab_type": "text"
      },
      "source": [
        "From [A Beginner's Guide to Deep Reinforcement Learning](https://skymind.ai/wiki/deep-reinforcement-learning#define):\n",
        "\n",
        "We multiply future rewards by a **discount factor** in order to lessen the impact they have on present decisions. This makes future rewards worth less than present rewards, but the gamma $\\gamma$ parameter lets us pick exactly how much. As an example, with $\\gamma=0.8$, and a reward of 10 in 3 time steps, the present value of the reward is $0.8^3*10$. A gamma of 1 thus treats future rewards as just as valuable as immediate rewards."
      ]
    },
    {
      "cell_type": "code",
      "metadata": {
        "id": "vrX-6NnX7nKS",
        "colab_type": "code",
        "colab": {}
      },
      "source": [
        "import random\n",
        "\n",
        "def discount(arr, gamma):\n",
        "  \"\"\" Discounts a given list of rewards using the given gamma.\n",
        "      Gives the same results as an example from a workshop, so I trust my code here. \"\"\"\n",
        "  \n",
        "  for r in range(len(arr)): # Loop over all rewards\n",
        "    for i in range(r + 1, len(arr)): # For all future rewards...\n",
        "      arr[r] += gamma ** (i-r) * arr[i] # Add discounted future rewards\n",
        "    \n",
        "  return arr"
      ],
      "execution_count": 0,
      "outputs": []
    },
    {
      "cell_type": "code",
      "metadata": {
        "id": "WElBBIKJ72Mo",
        "colab_type": "code",
        "colab": {
          "base_uri": "https://localhost:8080/",
          "height": 136
        },
        "outputId": "9f8b0daa-9500-4724-9223-445e57e6cd44"
      },
      "source": [
        "discount([1,2,3,1,2,3,50], 0.56)"
      ],
      "execution_count": 6,
      "outputs": [
        {
          "output_type": "execute_result",
          "data": {
            "text/plain": [
              "[5.140374425600002,\n",
              " 7.393525760000001,\n",
              " 9.631296000000003,\n",
              " 11.841600000000003,\n",
              " 19.360000000000003,\n",
              " 31.000000000000004,\n",
              " 50]"
            ]
          },
          "metadata": {
            "tags": []
          },
          "execution_count": 6
        }
      ]
    },
    {
      "cell_type": "markdown",
      "metadata": {
        "id": "KfeP2kKM6C8N",
        "colab_type": "text"
      },
      "source": [
        "At this point, I'll attempt to code this out myself. These were helpful:\n",
        "* Gym Discrete Space code [here](https://github.com/openai/gym/blob/master/gym/spaces/discrete.py)\n",
        "* For [sampling a list](https://www.geeksforgeeks.org/python-random-sample-function/)"
      ]
    },
    {
      "cell_type": "code",
      "metadata": {
        "id": "8g9s6QI0fVnI",
        "colab_type": "code",
        "colab": {}
      },
      "source": [
        "import numpy as np\n",
        "\n",
        "class Q_Table_Agent:\n",
        "\n",
        "    # Initializer\n",
        "    def __init__(self, states, actions, gamma, learning_rate):\n",
        "      self.Q_t = np.zeros((states, actions)) # Table dimension is: states by possible actions.\n",
        "      self.g = gamma # The discount factor for this agent.\n",
        "      self.lr = learning_rate # The learning rate for our Q-table updates.\n",
        "      \n",
        "    def max_col(self, row):\n",
        "      \"\"\" Returns one of the columns with the max value in a given numpy row. \"\"\"\n",
        "      maximum = np.amax(row) # Find the maximum value in the row.\n",
        "      winners = []\n",
        "  \n",
        "      for c in range(len(row)): # Loop over all values in the row.\n",
        "        if (row[c] == maximum):\n",
        "          winners.append(c) # Append columns containing the maximum value to list.\n",
        "  \n",
        "      return random.sample(winners, 1)[0] # Return a random one of these columns.\n",
        "        \n",
        "    def act(self, state):\n",
        "      \"\"\" Chooses an action given some state. \"\"\"\n",
        "      row = self.Q_t[state] # Choose the maximum column for this state.\n",
        "      return self.max_col(row) # This will be the action yielding the highest expected reward.\n",
        "    \n",
        "    def setTable(self, r, c, value):\n",
        "      \"\"\" Sets Q_t[r][c] to the given value. \"\"\"\n",
        "      self.Q_t[r][c] = value\n",
        "      return\n",
        "    \n",
        "    def learn(self, s, a, new_s, reward):\n",
        "      \"\"\" Learn based on action <a> we took in given state <s>. \"\"\"\n",
        "      \n",
        "      max_exp = np.amax(self.Q_t[new_s]) # Find the maximum reward we can expect in the future.\n",
        "      set_to = reward + self.g * max_exp # If our learning rate was 1, we'd set Q_t[s][a] to this.\n",
        "      delta = self.lr * (set_to - self.Q_t[s][a]) # Change the reward by this much.\n",
        "      \n",
        "      self.Q_t[s][a] += delta"
      ],
      "execution_count": 0,
      "outputs": []
    },
    {
      "cell_type": "code",
      "metadata": {
        "colab_type": "code",
        "id": "8VfyJE_6lpIS",
        "colab": {}
      },
      "source": [
        "# Create an agent for a few tests.\n",
        "\n",
        "agent = Q_Table_Agent(env.observation_space.n, env.action_space.n, 0.95, 0.8)\n",
        "agent.setTable(0,0,1)\n",
        "agent.setTable(0,1,2)\n",
        "agent.setTable(1,0,3)\n",
        "agent.setTable(1,2,3)"
      ],
      "execution_count": 0,
      "outputs": []
    },
    {
      "cell_type": "code",
      "metadata": {
        "id": "jQEg3sy-iXsO",
        "colab_type": "code",
        "colab": {
          "base_uri": "https://localhost:8080/",
          "height": 34
        },
        "outputId": "37ac1750-2e0e-43c0-9fb2-5832b5dc975c"
      },
      "source": [
        "# Pretend we're in this state, which action should we take? Seems to work.\n",
        "agent.act(1)"
      ],
      "execution_count": 9,
      "outputs": [
        {
          "output_type": "execute_result",
          "data": {
            "text/plain": [
              "2"
            ]
          },
          "metadata": {
            "tags": []
          },
          "execution_count": 9
        }
      ]
    },
    {
      "cell_type": "code",
      "metadata": {
        "id": "wpIh_v5MixU6",
        "colab_type": "code",
        "colab": {}
      },
      "source": [
        "# Seems to work now.\n",
        "agent.learn(0,1,1,1)"
      ],
      "execution_count": 0,
      "outputs": []
    },
    {
      "cell_type": "code",
      "metadata": {
        "id": "gImff4yn6BqW",
        "colab_type": "code",
        "colab": {}
      },
      "source": [
        "# Q-Table Implementation on OpenAI Gym FrozenLake\n",
        "\n",
        "episodes = 2000 # Number of episodes to train for.\n",
        "timesteps = 500 # Cut the agent off after this many timesteps in any one episode.\n",
        "\n",
        "agent = Q_Table_Agent(env.observation_space.n, env.action_space.n, 0.9, 0.8)\n",
        "\n",
        "records = [] # To store our scores over all episodes.\n",
        "\n",
        "for ep in range(episodes):\n",
        "  state = env.reset() # Gets the state we start in, which is 0.\n",
        "  \n",
        "  for t in range(timesteps):\n",
        "    action = agent.act(state)\n",
        "    \n",
        "    new_state, reward, done, info = env.step(action) # Try our action in the environment.\n",
        "    \n",
        "    if (done and reward == 0):\n",
        "      agent.learn(state, action, new_state, -1) # Death case.\n",
        "    else:\n",
        "      agent.learn(state, action, new_state, reward) # Learn from what we did.\n",
        "    \n",
        "    state = new_state\n",
        "    \n",
        "    if done:\n",
        "      records.append(reward) # Record if we won.\n",
        "      break"
      ],
      "execution_count": 0,
      "outputs": []
    },
    {
      "cell_type": "code",
      "metadata": {
        "id": "P2isNy3gNG-p",
        "colab_type": "code",
        "colab": {
          "base_uri": "https://localhost:8080/",
          "height": 286
        },
        "outputId": "2c1dd2f3-c90d-468d-b94b-bf54100c1aad"
      },
      "source": [
        "from matplotlib import pyplot as plt\n",
        "plt.plot(records)\n",
        "\n",
        "# We succeeded this % of the time.\n",
        "sum(records)/episodes"
      ],
      "execution_count": 12,
      "outputs": [
        {
          "output_type": "execute_result",
          "data": {
            "text/plain": [
              "0.634"
            ]
          },
          "metadata": {
            "tags": []
          },
          "execution_count": 12
        },
        {
          "output_type": "display_data",
          "data": {
            "image/png": "[encoded data removed]",
            "text/plain": [
              "<Figure size 432x288 with 1 Axes>"
            ]
          },
          "metadata": {
            "tags": []
          }
        }
      ]
    },
    {
      "cell_type": "code",
      "metadata": {
        "id": "iWLtSFxKmsQJ",
        "colab_type": "code",
        "colab": {
          "base_uri": "https://localhost:8080/",
          "height": 289
        },
        "outputId": "ca82c8bd-4241-4433-9762-0d3a5e0d8aff"
      },
      "source": [
        "print(agent.Q_t)"
      ],
      "execution_count": 13,
      "outputs": [
        {
          "output_type": "stream",
          "text": [
            "[[ 0.01542035 -0.89835935 -0.90741265 -1.1547276 ]\n",
            " [-0.91767068 -0.96       -0.96       -0.05607854]\n",
            " [-0.88024984 -0.88929667 -0.9793099  -0.07867158]\n",
            " [-0.935424   -0.96       -0.91388164 -0.01632576]\n",
            " [-0.06552167 -0.97878657 -0.96358483 -0.95902119]\n",
            " [ 0.          0.          0.          0.        ]\n",
            " [-0.49100832 -0.99989329 -0.99975662 -0.99971119]\n",
            " [ 0.          0.          0.          0.        ]\n",
            " [-0.98941255 -0.99259818 -0.9828448  -0.41516293]\n",
            " [-0.97592666 -0.80189301 -0.97634562 -0.91472902]\n",
            " [-1.22356903 -0.99775396 -0.99982263 -0.99972893]\n",
            " [ 0.          0.          0.          0.        ]\n",
            " [ 0.          0.          0.          0.        ]\n",
            " [-0.8        -0.8         0.34179364 -0.80980722]\n",
            " [-0.83638939  0.78116704 -0.97729412 -0.7906082 ]\n",
            " [ 0.          0.          0.          0.        ]]\n"
          ],
          "name": "stdout"
        }
      ]
    },
    {
      "cell_type": "markdown",
      "metadata": {
        "id": "D7S7LHwY2p6u",
        "colab_type": "text"
      },
      "source": [
        "As we can see, the agent is pretty terrible. The article tangentially mentions $\\epsilon$-greedy agents, so I'd like to look into that."
      ]
    },
    {
      "cell_type": "markdown",
      "metadata": {
        "id": "OFRsQLJu2-YD",
        "colab_type": "text"
      },
      "source": [
        "## The Epsilon-Greedy Algorithm [[Link]](https://jamesmccaffrey.wordpress.com/2017/11/30/the-epsilon-greedy-algorithm/)"
      ]
    },
    {
      "cell_type": "markdown",
      "metadata": {
        "id": "VTBMQtiR3JAY",
        "colab_type": "text"
      },
      "source": [
        "This simple algorithm is used in several areas of ML. A common use is the multi-armed bandit problem: Say we have $k=3$ slot machines. Each pays out with a different distribution, and we can only play 100 times. We want to simultaneously:\n",
        "1. Experiment with each machine to get an idea of which pays out the most.\n",
        "2. Get as much money as possible.\n",
        "\n",
        "These options, often called \"explore\" and \"exploit,\" represent the fundamental tradeoff we wish to solve. Epsilon-greedy does this extremely simply:"
      ]
    },
    {
      "cell_type": "markdown",
      "metadata": {
        "id": "1GiCp5eI5tHJ",
        "colab_type": "text"
      },
      "source": [
        "As we play, we track the average payout of each machine. We default to always selecting the machine with the highest current average payout. Let $\\epsilon=$ some small value, say 0.1. We'll select this machine with probability $(1-\\epsilon) + (\\epsilon-k)$, and all other machines with probability $(\\epsilon-k)$."
      ]
    },
    {
      "cell_type": "markdown",
      "metadata": {
        "id": "Bc_7NvS27Wrm",
        "colab_type": "text"
      },
      "source": [
        "More conceretely, on each attempt:\n",
        "1. Generate a random number  $p$ between 0 and 1.\n",
        "2. If $p>\\epsilon$, select the highest-paying machine. If not, select a random machine.\n",
        "\n",
        "Over time, we'll tend towards the highest-paying machine while still randomly gathering data on the other machines. As a final summary, we greedily pick the best current option most of the time, but pick a random option with small $\\epsilon$ probability. That's it.\n",
        "\n",
        "*--Fin 5/28/2019--*"
      ]
    },
    {
      "cell_type": "markdown",
      "metadata": {
        "id": "EpQUgXLi7efn",
        "colab_type": "text"
      },
      "source": [
        "Now to add that into our code:"
      ]
    },
    {
      "cell_type": "code",
      "metadata": {
        "id": "NDpuOoFN7gYU",
        "colab_type": "code",
        "colab": {}
      },
      "source": [
        "class Q_Table_Agent_ep(Q_Table_Agent):\n",
        "\n",
        "    # Initializer, overrides parent's init.\n",
        "    def __init__(self, states, actions, gamma, learning_rate, epsilon):\n",
        "      self.Q_t = np.zeros((states, actions)) # Table dimension is: states by possible actions.\n",
        "      self.g = gamma # The discount factor for this agent.\n",
        "      self.lr = learning_rate # The learning rate for our Q-table updates.\n",
        "      self.ep = epsilon # For epsilon-greedy searching of options.\n",
        "      \n",
        "    def act(self, state):\n",
        "      \"\"\" Chooses an action given some state. \"\"\"\n",
        "      p = random.random() # Generate random number 0 to 1.\n",
        "      \n",
        "      if p < self.ep: # Explore.\n",
        "        return random.randint(0, self.Q_t.shape[1]-1)\n",
        "      \n",
        "      # Else case, exploit.\n",
        "      row = self.Q_t[state] # Choose the maximum column for this state.\n",
        "      return self.max_col(row) # This will be the action yielding the highest expected reward."
      ],
      "execution_count": 0,
      "outputs": []
    },
    {
      "cell_type": "code",
      "metadata": {
        "id": "2yt4aJpE9Qpi",
        "colab_type": "code",
        "colab": {}
      },
      "source": [
        "# Epsilon-greedy Q-Table Implementation on OpenAI Gym FrozenLake\n",
        "\n",
        "episodes = 2000 # Number of episodes to train for.\n",
        "timesteps = 500 # Cut the agent off after this many timesteps in any one episode.\n",
        "\n",
        "ep_agent = Q_Table_Agent_ep(env.observation_space.n, env.action_space.n, 0.9, 0.8, 0.01)\n",
        "\n",
        "ep_records = [] # To store our scores over all episodes.\n",
        "\n",
        "for ep in range(episodes):\n",
        "  state = env.reset() # Gets the state we start in, which is 0.\n",
        "  \n",
        "  for t in range(timesteps):\n",
        "    action = ep_agent.act(state)\n",
        "    \n",
        "    new_state, reward, done, info = env.step(action) # Try our action in the environment.\n",
        "    \n",
        "    if (done and reward == 0):\n",
        "      ep_agent.learn(state, action, new_state, -1) # Death case.\n",
        "    else:\n",
        "      ep_agent.learn(state, action, new_state, reward) # Learn from what we did.\n",
        "    \n",
        "    state = new_state\n",
        "    \n",
        "    if done:\n",
        "      ep_records.append(reward) # Record if we won.\n",
        "      break"
      ],
      "execution_count": 0,
      "outputs": []
    },
    {
      "cell_type": "code",
      "metadata": {
        "id": "h6-82zKn9xQB",
        "colab_type": "code",
        "colab": {
          "base_uri": "https://localhost:8080/",
          "height": 286
        },
        "outputId": "bf5dd210-7854-490f-862b-f6dcce4e6b36"
      },
      "source": [
        "plt.plot(ep_records)\n",
        "\n",
        "# We succeeded this % of the time.\n",
        "sum(ep_records)/episodes"
      ],
      "execution_count": 16,
      "outputs": [
        {
          "output_type": "execute_result",
          "data": {
            "text/plain": [
              "0.452"
            ]
          },
          "metadata": {
            "tags": []
          },
          "execution_count": 16
        },
        {
          "output_type": "display_data",
          "data": {
            "image/png": "[encoded data removed]",
            "text/plain": [
              "<Figure size 432x288 with 1 Axes>"
            ]
          },
          "metadata": {
            "tags": []
          }
        }
      ]
    },
    {
      "cell_type": "code",
      "metadata": {
        "id": "oRKiSFLH98Ag",
        "colab_type": "code",
        "colab": {
          "base_uri": "https://localhost:8080/",
          "height": 289
        },
        "outputId": "0dffe437-3698-4c79-97bf-9b1ac504d8eb"
      },
      "source": [
        "print(ep_agent.Q_t)"
      ],
      "execution_count": 17,
      "outputs": [
        {
          "output_type": "stream",
          "text": [
            "[[-7.56423732e-01 -5.72660083e-01  4.27722326e-02 -7.77090519e-02]\n",
            " [-9.73868486e-01 -9.99755532e-01 -9.96580872e-01  3.09299879e-03]\n",
            " [-8.74229550e-01 -5.90279765e-01 -1.47026874e-01 -5.91645839e-04]\n",
            " [-8.55879405e-01 -2.01490043e-01 -9.76789687e-01 -1.91573036e-03]\n",
            " [ 9.16504384e-02 -9.67247959e-01 -9.61383448e-01 -8.19202486e-01]\n",
            " [ 0.00000000e+00  0.00000000e+00  0.00000000e+00  0.00000000e+00]\n",
            " [-7.98057703e-01 -9.99975899e-01 -9.99083878e-01 -9.99773960e-01]\n",
            " [ 0.00000000e+00  0.00000000e+00  0.00000000e+00  0.00000000e+00]\n",
            " [-9.92630649e-01 -9.62872648e-01 -1.23280014e-01 -6.85252985e-01]\n",
            " [-9.97781155e-01  1.30668662e-01 -9.45482898e-01 -7.84242026e-01]\n",
            " [ 1.04966500e-02 -9.99417296e-01 -9.78524862e-01 -9.82073224e-01]\n",
            " [ 0.00000000e+00  0.00000000e+00  0.00000000e+00  0.00000000e+00]\n",
            " [ 0.00000000e+00  0.00000000e+00  0.00000000e+00  0.00000000e+00]\n",
            " [ 1.76042931e-01 -8.00211368e-01  6.32949115e-01 -9.37965228e-01]\n",
            " [-3.11642037e-01 -4.13809900e-01 -4.42352161e-02  2.64582594e-01]\n",
            " [ 0.00000000e+00  0.00000000e+00  0.00000000e+00  0.00000000e+00]]\n"
          ],
          "name": "stdout"
        }
      ]
    },
    {
      "cell_type": "code",
      "metadata": {
        "id": "2zVsxVvr0PnR",
        "colab_type": "code",
        "colab": {}
      },
      "source": [
        "# Close the FrozenLake environment.\n",
        "env.close()"
      ],
      "execution_count": 0,
      "outputs": []
    },
    {
      "cell_type": "markdown",
      "metadata": {
        "id": "BUIV0q7v-ykJ",
        "colab_type": "text"
      },
      "source": [
        "# TO DO\n",
        "* Code out a runner class where we only give the environment name and an agent and it abstracts away all the loops and returns the results list.\n",
        "* Experiment with gamma, learning rate, and epsilon values."
      ]
    }
  ]
}