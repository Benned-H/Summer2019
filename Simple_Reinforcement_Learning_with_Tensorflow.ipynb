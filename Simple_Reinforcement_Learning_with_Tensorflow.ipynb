{
  "nbformat": 4,
  "nbformat_minor": 0,
  "metadata": {
    "colab": {
      "name": "Simple Reinforcement Learning with Tensorflow",
      "version": "0.3.2",
      "provenance": [],
      "collapsed_sections": [],
      "include_colab_link": true
    },
    "kernelspec": {
      "name": "python3",
      "display_name": "Python 3"
    },
    "accelerator": "GPU"
  },
  "cells": [
    {
      "cell_type": "markdown",
      "metadata": {
        "id": "view-in-github",
        "colab_type": "text"
      },
      "source": [
        "<a href=\"https://colab.research.google.com/github/Benned-H/Summer2019/blob/master/Simple_Reinforcement_Learning_with_Tensorflow.ipynb\" target=\"_parent\"><img src=\"https://colab.research.google.com/assets/colab-badge.svg\" alt=\"Open In Colab\"/></a>"
      ]
    },
    {
      "cell_type": "markdown",
      "metadata": {
        "id": "f6jsPJyBwBX7",
        "colab_type": "text"
      },
      "source": [
        "# Part 0: Q-Learning with Tables and Neural Networks [[Link]](https://medium.com/emergent-future/simple-reinforcement-learning-with-tensorflow-part-0-q-learning-with-tables-and-neural-networks-d195264329d0)"
      ]
    },
    {
      "cell_type": "markdown",
      "metadata": {
        "id": "VyrhLtG7wFK9",
        "colab_type": "text"
      },
      "source": [
        "We begin with a simpler algorithm than we'll see in the next few tutorials. **Policy gradients** attempt to learn functions which map observations to actions, whereas **Q-Learning** attempts to learn the value of being in a given state, and taking an action there. Even DeepQ networks are just larger and more complex versions of the algorithm we'll discuss here."
      ]
    },
    {
      "cell_type": "markdown",
      "metadata": {
        "id": "MmtylpYywreN",
        "colab_type": "text"
      },
      "source": [
        "We'll be working in the [FrozenLake](https://gym.openai.com/envs/FrozenLake-v0/) environment from OpenAI Gym. This environment is a 4x4 grid of blocks, with blocks being one of the start block, goal block, a safe block, or dangerous hole. We want our agent to navigate to the goal without falling down a hole, but the ice is slippery and we might not move exactly as the agent attempts to."
      ]
    },
    {
      "cell_type": "code",
      "metadata": {
        "id": "-K4bkqAuyGUd",
        "colab_type": "code",
        "outputId": "8cfd6158-5049-416b-cdfa-0710e0a8bfff",
        "colab": {
          "base_uri": "https://localhost:8080/",
          "height": 102
        }
      },
      "source": [
        "# Import Gym, create and view environment\n",
        "import gym\n",
        "env = gym.make('FrozenLake-v0')\n",
        "env.render()"
      ],
      "execution_count": 1,
      "outputs": [
        {
          "output_type": "stream",
          "text": [
            "\n",
            "\u001b[41mS\u001b[0mFFF\n",
            "FHFH\n",
            "FFFH\n",
            "HFFG\n"
          ],
          "name": "stdout"
        }
      ]
    },
    {
      "cell_type": "code",
      "metadata": {
        "id": "9QpbmQY8zhgn",
        "colab_type": "code",
        "outputId": "206f2d91-714f-4f40-bb86-fc945dbc12ea",
        "colab": {
          "base_uri": "https://localhost:8080/",
          "height": 51
        }
      },
      "source": [
        "# View actions/observations\n",
        "print(env.action_space)\n",
        "print(env.observation_space)"
      ],
      "execution_count": 2,
      "outputs": [
        {
          "output_type": "stream",
          "text": [
            "Discrete(4)\n",
            "Discrete(16)\n"
          ],
          "name": "stdout"
        }
      ]
    },
    {
      "cell_type": "markdown",
      "metadata": {
        "id": "LYYoefwSzkCb",
        "colab_type": "text"
      },
      "source": [
        "Discrete spaces allow a fixed range of non-negative numbers. Thus we have 4 possible actions, 0 to 3, and 16 possible observations for which of the 16 squares our agent is on."
      ]
    },
    {
      "cell_type": "code",
      "metadata": {
        "id": "pbwswcGw2Ba0",
        "colab_type": "code",
        "outputId": "f4a16c6d-fa01-41cc-e131-5df0758d31d4",
        "colab": {
          "base_uri": "https://localhost:8080/",
          "height": 102
        }
      },
      "source": [
        "# Note: The environment isn't randomized.\n",
        "# It's the same each time.\n",
        "env.reset()\n",
        "env.render()"
      ],
      "execution_count": 3,
      "outputs": [
        {
          "output_type": "stream",
          "text": [
            "\n",
            "\u001b[41mS\u001b[0mFFF\n",
            "FHFH\n",
            "FFFH\n",
            "HFFG\n"
          ],
          "name": "stdout"
        }
      ]
    },
    {
      "cell_type": "markdown",
      "metadata": {
        "id": "CWwFV0231xPh",
        "colab_type": "text"
      },
      "source": [
        "Our reward at every step is 0, except when we enter the goal, where we receive a reward of 1. This means we need an algorithm that can learn with long-term expected rewards, which Q-Learning can. The simplest implementation of Q-Learning is a table of values for each state (row) and action (column) possible. We learn a value for how good it is to take a given action within a given state for each combination. First, initialize all $16\\times4=64$ cells to 0."
      ]
    },
    {
      "cell_type": "markdown",
      "metadata": {
        "id": "RtIzyvbO3I3F",
        "colab_type": "text"
      },
      "source": [
        "To update our table, we'll use the Bellman equation. This states that \"the expected long-term reward for a given action is equal to the immediate reward from the current action combined with the expected reward from the best future action taken at the following state.\" Put differently (in my words), we want to figure out how valuable some choice is in the future. We can break this question into two parts:\n",
        "1. How valuable is this decision immediately? This is easy to answer, because we immediately see the next step following our decision.\n",
        "2. How valuable is the best choice we can then make? We've now recursively broken the question down into a simpler problem."
      ]
    },
    {
      "cell_type": "markdown",
      "metadata": {
        "id": "iZSPXffF4bW0",
        "colab_type": "text"
      },
      "source": [
        "This approach allows us to reuse the Q-table when estimating how to update the table for some current decision. Formally, we could write:\n",
        "\n",
        "$Q(s,a)=r + \\gamma(\\text{max}\\{Q(s',a')\\})$, where the Q-value for some given state $s$ and action $a$ is the current reward $r$ plus the maximum discounted reward $\\gamma$ according the the next state $s'$ our decision results in. The discount function $\\gamma$ allows us to vary how important possible future rewards are compared to the present reward. Thus we slowly develop an accurate table of expected rewards for given actions in given states."
      ]
    },
    {
      "cell_type": "markdown",
      "metadata": {
        "id": "MHM-9oz061ag",
        "colab_type": "text"
      },
      "source": [
        "From [A Beginner's Guide to Deep Reinforcement Learning](https://skymind.ai/wiki/deep-reinforcement-learning#define):\n",
        "\n",
        "We multiply future rewards by a **discount factor** in order to lessen the impact they have on present decisions. This makes future rewards worth less than present rewards, but the gamma $\\gamma$ parameter lets us pick exactly how much. As an example, with $\\gamma=0.8$, and a reward of 10 in 3 time steps, the present value of the reward is $0.8^3*10$. A gamma of 1 thus treats future rewards as just as valuable as immediate rewards."
      ]
    },
    {
      "cell_type": "code",
      "metadata": {
        "id": "vrX-6NnX7nKS",
        "colab_type": "code",
        "colab": {}
      },
      "source": [
        "import random\n",
        "\n",
        "def discount(arr, gamma):\n",
        "  \"\"\" Discounts a given list of rewards using the given gamma.\n",
        "      Gives the same results as an example from a workshop, so I trust my code here. \"\"\"\n",
        "  \n",
        "  for r in range(len(arr)): # Loop over all rewards\n",
        "    for i in range(r + 1, len(arr)): # For all future rewards...\n",
        "      arr[r] += gamma ** (i-r) * arr[i] # Add discounted future rewards\n",
        "    \n",
        "  return arr"
      ],
      "execution_count": 0,
      "outputs": []
    },
    {
      "cell_type": "code",
      "metadata": {
        "id": "WElBBIKJ72Mo",
        "colab_type": "code",
        "outputId": "6ecd3afe-273d-4c42-e281-5a8ed3d72a9f",
        "colab": {
          "base_uri": "https://localhost:8080/",
          "height": 136
        }
      },
      "source": [
        "discount([1,2,3,1,2,3,50], 0.56)"
      ],
      "execution_count": 5,
      "outputs": [
        {
          "output_type": "execute_result",
          "data": {
            "text/plain": [
              "[5.140374425600002,\n",
              " 7.393525760000001,\n",
              " 9.631296000000003,\n",
              " 11.841600000000003,\n",
              " 19.360000000000003,\n",
              " 31.000000000000004,\n",
              " 50]"
            ]
          },
          "metadata": {
            "tags": []
          },
          "execution_count": 5
        }
      ]
    },
    {
      "cell_type": "markdown",
      "metadata": {
        "id": "KfeP2kKM6C8N",
        "colab_type": "text"
      },
      "source": [
        "At this point, I'll attempt to code this out myself. These were helpful:\n",
        "* Gym Discrete Space code [here](https://github.com/openai/gym/blob/master/gym/spaces/discrete.py)\n",
        "* For [sampling a list](https://www.geeksforgeeks.org/python-random-sample-function/)"
      ]
    },
    {
      "cell_type": "code",
      "metadata": {
        "id": "8g9s6QI0fVnI",
        "colab_type": "code",
        "colab": {}
      },
      "source": [
        "import numpy as np\n",
        "\n",
        "class Q_Table_Agent:\n",
        "\n",
        "    # Initializer\n",
        "    def __init__(self, states, actions, gamma, learning_rate):\n",
        "      self.Q_t = np.zeros((states, actions)) # Table dimension is: states by possible actions.\n",
        "      self.g = gamma # The discount factor for this agent.\n",
        "      self.lr = learning_rate # The learning rate for our Q-table updates.\n",
        "      self.times_learned = 0\n",
        "      \n",
        "    def max_col(self, row):\n",
        "      \"\"\" Returns one of the columns with the max value in a given numpy row. \"\"\"\n",
        "      maximum = np.amax(row) # Find the maximum value in the row.\n",
        "      winners = []\n",
        "  \n",
        "      for c in range(len(row)): # Loop over all values in the row.\n",
        "        if (row[c] == maximum):\n",
        "          winners.append(c) # Append columns containing the maximum value to list.\n",
        "  \n",
        "      return random.sample(winners, 1)[0] # Return a random one of these columns.\n",
        "        \n",
        "    def act(self, state):\n",
        "      \"\"\" Chooses an action given some state. \"\"\"\n",
        "      row = self.Q_t[state] # Choose the maximum column for this state.\n",
        "      return self.max_col(row) # This will be the action yielding the highest expected reward.\n",
        "    \n",
        "    def setTable(self, r, c, value):\n",
        "      \"\"\" Sets Q_t[r][c] to the given value. \"\"\"\n",
        "      self.Q_t[r][c] = value\n",
        "      return\n",
        "    \n",
        "    def learn(self, s, a, new_s, reward):\n",
        "      \"\"\" Learn based on action <a> we took in given state <s>. \"\"\"\n",
        "      \n",
        "      max_exp = np.amax(self.Q_t[new_s]) # Find the maximum reward we can expect in the future.\n",
        "      set_to = reward + self.g * max_exp # If our learning rate was 1, we'd set Q_t[s][a] to this.\n",
        "      delta = self.lr * (set_to - self.Q_t[s][a]) # Change the reward by this much.\n",
        "      \n",
        "      self.Q_t[s][a] += delta\n",
        "      \n",
        "      self.times_learned += 1"
      ],
      "execution_count": 0,
      "outputs": []
    },
    {
      "cell_type": "code",
      "metadata": {
        "colab_type": "code",
        "id": "8VfyJE_6lpIS",
        "colab": {}
      },
      "source": [
        "# Create an agent for a few tests.\n",
        "\n",
        "agent = Q_Table_Agent(env.observation_space.n, env.action_space.n, 0.95, 0.8)\n",
        "agent.setTable(0,0,1)\n",
        "agent.setTable(0,1,2)\n",
        "agent.setTable(1,0,3)\n",
        "agent.setTable(1,2,3)"
      ],
      "execution_count": 0,
      "outputs": []
    },
    {
      "cell_type": "code",
      "metadata": {
        "id": "jQEg3sy-iXsO",
        "colab_type": "code",
        "outputId": "e342afc1-923f-46a2-c46c-bd06f534e8f3",
        "colab": {
          "base_uri": "https://localhost:8080/",
          "height": 34
        }
      },
      "source": [
        "# Pretend we're in this state, which action should we take? Seems to work.\n",
        "agent.act(1)"
      ],
      "execution_count": 8,
      "outputs": [
        {
          "output_type": "execute_result",
          "data": {
            "text/plain": [
              "2"
            ]
          },
          "metadata": {
            "tags": []
          },
          "execution_count": 8
        }
      ]
    },
    {
      "cell_type": "code",
      "metadata": {
        "id": "gImff4yn6BqW",
        "colab_type": "code",
        "colab": {}
      },
      "source": [
        "# Q-Table Implementation on OpenAI Gym FrozenLake\n",
        "\n",
        "episodes = 2000 # Number of episodes to train for.\n",
        "timesteps = 500 # Cut the agent off after this many timesteps in any one episode.\n",
        "\n",
        "agent = Q_Table_Agent(env.observation_space.n, env.action_space.n, 0.9, 0.8)\n",
        "\n",
        "records = [] # To store our scores over all episodes.\n",
        "\n",
        "for ep in range(episodes):\n",
        "  state = env.reset() # Gets the state we start in, which is 0.\n",
        "  \n",
        "  for t in range(timesteps):\n",
        "    action = agent.act(state)\n",
        "    \n",
        "    new_state, reward, done, info = env.step(action) # Try our action in the environment.\n",
        "    \n",
        "    if (done and reward == 0):\n",
        "      agent.learn(state, action, new_state, -1) # Death case.\n",
        "    else:\n",
        "      agent.learn(state, action, new_state, reward) # Learn from what we did.\n",
        "    \n",
        "    state = new_state\n",
        "    \n",
        "    if done:\n",
        "      records.append(reward) # Record if we won.\n",
        "      break"
      ],
      "execution_count": 0,
      "outputs": []
    },
    {
      "cell_type": "code",
      "metadata": {
        "id": "P2isNy3gNG-p",
        "colab_type": "code",
        "outputId": "5f1639f5-51bb-40bc-c430-f611c66984ca",
        "colab": {
          "base_uri": "https://localhost:8080/",
          "height": 286
        }
      },
      "source": [
        "from matplotlib import pyplot as plt\n",
        "plt.plot(records)\n",
        "\n",
        "# We succeeded this % of the time.\n",
        "sum(records)/episodes"
      ],
      "execution_count": 10,
      "outputs": [
        {
          "output_type": "execute_result",
          "data": {
            "text/plain": [
              "0.177"
            ]
          },
          "metadata": {
            "tags": []
          },
          "execution_count": 10
        },
        {
          "output_type": "display_data",
          "data": {
            "image/png": "[encoded data removed]",
            "text/plain": [
              "<Figure size 432x288 with 1 Axes>"
            ]
          },
          "metadata": {
            "tags": []
          }
        }
      ]
    },
    {
      "cell_type": "code",
      "metadata": {
        "id": "iWLtSFxKmsQJ",
        "colab_type": "code",
        "outputId": "b3bc225e-3ea1-470b-edbb-ab96f7518424",
        "colab": {
          "base_uri": "https://localhost:8080/",
          "height": 289
        }
      },
      "source": [
        "print(agent.Q_t)"
      ],
      "execution_count": 11,
      "outputs": [
        {
          "output_type": "stream",
          "text": [
            "[[-0.43311865 -0.89094315 -0.89174126 -0.91485651]\n",
            " [-0.99992962 -0.42047978 -0.99983098 -1.02966914]\n",
            " [-0.86508727 -0.88314144 -0.38299561 -0.85002113]\n",
            " [-0.96       -0.935424   -0.9472     -0.14234011]\n",
            " [-0.58507156 -0.9472     -0.96693599 -0.96      ]\n",
            " [ 0.          0.          0.          0.        ]\n",
            " [-0.97806113 -0.99770302 -0.99877067 -0.99877965]\n",
            " [ 0.          0.          0.          0.        ]\n",
            " [-0.99999475 -0.99999392 -0.93327693 -1.22728261]\n",
            " [-0.99994795 -1.29990828  0.0222859  -0.99997297]\n",
            " [-1.3722776  -0.99981157 -1.22321339 -0.99854317]\n",
            " [ 0.          0.          0.          0.        ]\n",
            " [ 0.          0.          0.          0.        ]\n",
            " [-0.8        -0.8         0.53497596 -0.6848    ]\n",
            " [-0.78207548  0.93501842 -0.76832769 -0.83577607]\n",
            " [ 0.          0.          0.          0.        ]]\n"
          ],
          "name": "stdout"
        }
      ]
    },
    {
      "cell_type": "markdown",
      "metadata": {
        "id": "D7S7LHwY2p6u",
        "colab_type": "text"
      },
      "source": [
        "As we can see, the agent is pretty terrible. The article tangentially mentions $\\epsilon$-greedy agents, so I'd like to look into that."
      ]
    },
    {
      "cell_type": "markdown",
      "metadata": {
        "id": "OFRsQLJu2-YD",
        "colab_type": "text"
      },
      "source": [
        "## The Epsilon-Greedy Algorithm [[Link]](https://jamesmccaffrey.wordpress.com/2017/11/30/the-epsilon-greedy-algorithm/)"
      ]
    },
    {
      "cell_type": "markdown",
      "metadata": {
        "id": "VTBMQtiR3JAY",
        "colab_type": "text"
      },
      "source": [
        "This simple algorithm is used in several areas of ML. A common use is the multi-armed bandit problem: Say we have $k=3$ slot machines. Each pays out with a different distribution, and we can only play 100 times. We want to simultaneously:\n",
        "1. Experiment with each machine to get an idea of which pays out the most.\n",
        "2. Get as much money as possible.\n",
        "\n",
        "These options, often called \"explore\" and \"exploit,\" represent the fundamental tradeoff we wish to solve. Epsilon-greedy does this extremely simply:"
      ]
    },
    {
      "cell_type": "markdown",
      "metadata": {
        "id": "1GiCp5eI5tHJ",
        "colab_type": "text"
      },
      "source": [
        "As we play, we track the average payout of each machine. We default to always selecting the machine with the highest current average payout. Let $\\epsilon=$ some small value, say 0.1. We'll select this machine with probability $(1-\\epsilon) + (\\epsilon-k)$, and all other machines with probability $(\\epsilon-k)$."
      ]
    },
    {
      "cell_type": "markdown",
      "metadata": {
        "id": "Bc_7NvS27Wrm",
        "colab_type": "text"
      },
      "source": [
        "More conceretely, on each attempt:\n",
        "1. Generate a random number  $p$ between 0 and 1.\n",
        "2. If $p>\\epsilon$, select the highest-paying machine. If not, select a random machine.\n",
        "\n",
        "Over time, we'll tend towards the highest-paying machine while still randomly gathering data on the other machines. As a final summary, we greedily pick the best current option most of the time, but pick a random option with small $\\epsilon$ probability. That's it.\n",
        "\n",
        "*--Fin 5/28/2019--*"
      ]
    },
    {
      "cell_type": "markdown",
      "metadata": {
        "id": "EpQUgXLi7efn",
        "colab_type": "text"
      },
      "source": [
        "Now to add that into our code:"
      ]
    },
    {
      "cell_type": "code",
      "metadata": {
        "id": "NDpuOoFN7gYU",
        "colab_type": "code",
        "colab": {}
      },
      "source": [
        "class Q_Table_Agent_ep(Q_Table_Agent):\n",
        "\n",
        "    # Initializer, overrides parent's init.\n",
        "    def __init__(self, states, actions, gamma, learning_rate, epsilon):\n",
        "      self.Q_t = np.zeros((states, actions)) # Table dimension is: states by possible actions.\n",
        "      self.g = gamma # The discount factor for this agent.\n",
        "      self.lr = learning_rate # The learning rate for our Q-table updates.\n",
        "      self.ep = epsilon # For epsilon-greedy searching of options.\n",
        "      self.times_learned = 0\n",
        "      \n",
        "    def act(self, state):\n",
        "      \"\"\" Chooses an action given some state. \"\"\"\n",
        "      p = random.random() # Generate random number 0 to 1.\n",
        "      \n",
        "      if p < self.ep: # Explore.\n",
        "        return random.randint(0, self.Q_t.shape[1]-1)\n",
        "      \n",
        "      # Else case, exploit.\n",
        "      row = self.Q_t[state] # Choose the maximum column for this state.\n",
        "      return self.max_col(row) # This will be the action yielding the highest expected reward."
      ],
      "execution_count": 0,
      "outputs": []
    },
    {
      "cell_type": "code",
      "metadata": {
        "id": "2yt4aJpE9Qpi",
        "colab_type": "code",
        "colab": {}
      },
      "source": [
        "# Epsilon-greedy Q-Table Implementation on OpenAI Gym FrozenLake\n",
        "\n",
        "episodes = 2000 # Number of episodes to train for.\n",
        "timesteps = 500 # Cut the agent off after this many timesteps in any one episode.\n",
        "\n",
        "ep_agent = Q_Table_Agent_ep(env.observation_space.n, env.action_space.n, 0.9, 0.8, 0.01)\n",
        "\n",
        "ep_records = [] # To store our scores over all episodes.\n",
        "\n",
        "for ep in range(episodes):\n",
        "  state = env.reset() # Gets the state we start in, which is 0.\n",
        "  \n",
        "  for t in range(timesteps):\n",
        "    action = ep_agent.act(state)\n",
        "    \n",
        "    new_state, reward, done, info = env.step(action) # Try our action in the environment.\n",
        "    \n",
        "    if (done and reward == 0):\n",
        "      ep_agent.learn(state, action, new_state, -1) # Death case.\n",
        "    else:\n",
        "      ep_agent.learn(state, action, new_state, reward) # Learn from what we did.\n",
        "    \n",
        "    state = new_state\n",
        "    \n",
        "    if done:\n",
        "      ep_records.append(reward) # Record if we won.\n",
        "      break"
      ],
      "execution_count": 0,
      "outputs": []
    },
    {
      "cell_type": "code",
      "metadata": {
        "id": "h6-82zKn9xQB",
        "colab_type": "code",
        "outputId": "ab0f6334-3964-4998-c933-64b029cf44ad",
        "colab": {
          "base_uri": "https://localhost:8080/",
          "height": 286
        }
      },
      "source": [
        "plt.plot(ep_records)\n",
        "\n",
        "# We succeeded this % of the time.\n",
        "sum(ep_records)/episodes"
      ],
      "execution_count": 14,
      "outputs": [
        {
          "output_type": "execute_result",
          "data": {
            "text/plain": [
              "0.2665"
            ]
          },
          "metadata": {
            "tags": []
          },
          "execution_count": 14
        },
        {
          "output_type": "display_data",
          "data": {
            "image/png": "[encoded data removed]",
            "text/plain": [
              "<Figure size 432x288 with 1 Axes>"
            ]
          },
          "metadata": {
            "tags": []
          }
        }
      ]
    },
    {
      "cell_type": "code",
      "metadata": {
        "id": "oRKiSFLH98Ag",
        "colab_type": "code",
        "outputId": "dd1e350c-1811-41b5-9b50-b0c49d9ebd60",
        "colab": {
          "base_uri": "https://localhost:8080/",
          "height": 289
        }
      },
      "source": [
        "print(ep_agent.Q_t)"
      ],
      "execution_count": 15,
      "outputs": [
        {
          "output_type": "stream",
          "text": [
            "[[-0.58370572 -0.76436123 -0.73662194 -0.71570942]\n",
            " [-0.99533188 -0.94288075 -0.99272367 -0.20044139]\n",
            " [-0.8819141  -0.87062832 -0.8900739  -0.160391  ]\n",
            " [-0.96831885 -0.96684614 -0.9995478  -0.07103889]\n",
            " [-0.69964671 -0.89400131 -0.98781938 -0.93047844]\n",
            " [ 0.          0.          0.          0.        ]\n",
            " [-1.12076826 -0.99999028 -0.36576924 -0.99997847]\n",
            " [ 0.          0.          0.          0.        ]\n",
            " [-0.99972521 -0.95767431 -0.99488376 -1.10873908]\n",
            " [-0.99996682  0.06106634 -0.86099982 -0.99630596]\n",
            " [-0.04949529 -0.99241159 -0.95689284 -0.99073829]\n",
            " [ 0.          0.          0.          0.        ]\n",
            " [ 0.          0.          0.          0.        ]\n",
            " [-0.99320388  0.47079666 -1.08643703 -0.992     ]\n",
            " [-0.53214485 -0.60953165  0.98140727 -0.25862525]\n",
            " [ 0.          0.          0.          0.        ]]\n"
          ],
          "name": "stdout"
        }
      ]
    },
    {
      "cell_type": "code",
      "metadata": {
        "id": "2zVsxVvr0PnR",
        "colab_type": "code",
        "colab": {}
      },
      "source": [
        "# Close the previous FrozenLake environment.\n",
        "env.close()"
      ],
      "execution_count": 0,
      "outputs": []
    },
    {
      "cell_type": "code",
      "metadata": {
        "id": "2Nai0GITTpoc",
        "colab_type": "code",
        "colab": {}
      },
      "source": [
        "import copy\n",
        "\n",
        "class EnvRunner:\n",
        "    # Initializer\n",
        "    def __init__(self, env_name):\n",
        "      self.env = gym.make(env_name) # Create environment of given type.\n",
        "      \n",
        "    def runEnv(self, ag, episodes, timesteps):\n",
        "      \"\"\"Trains the given agent with given conditions.\n",
        "         Returns the average reward over these episodes.\"\"\"\n",
        "      \n",
        "      agent = copy.deepcopy(ag)\n",
        "      \n",
        "      scores = [] # To store our scores over all episodes.\n",
        "      \n",
        "      for ep in range(episodes):\n",
        "        state = self.env.reset()\n",
        "  \n",
        "        for t in range(timesteps):\n",
        "          action = agent.act(state)\n",
        "    \n",
        "          # Try our action in the environment.\n",
        "          new_state, reward, done, info = self.env.step(action)\n",
        "          \n",
        "          # Learn from what we did.\n",
        "          agent.learn(state, action, new_state, reward)\n",
        "    \n",
        "          state = new_state\n",
        "    \n",
        "          if done:\n",
        "            scores.append(reward) # Record if we won.\n",
        "            break\n",
        "            \n",
        "      return sum(scores) / episodes\n",
        "    \n",
        "    def getEnvParams(self):\n",
        "      return self.env.observation_space.n, self.env.action_space.n\n",
        "    \n",
        "    \n",
        "class GridSearch:\n",
        "  # Tests an agent of a given type with varying hyperparameters.\n",
        "  \n",
        "  def __init__(self, runner):\n",
        "    self.runner = runner\n",
        "    \n",
        "  def search(self, agent_type)"
      ],
      "execution_count": 0,
      "outputs": []
    },
    {
      "cell_type": "code",
      "metadata": {
        "id": "dOd8yabUVwE-",
        "colab_type": "code",
        "colab": {}
      },
      "source": [
        "runner = EnvRunner('FrozenLake-v0')"
      ],
      "execution_count": 0,
      "outputs": []
    },
    {
      "cell_type": "code",
      "metadata": {
        "id": "sw9fURbDW8N_",
        "colab_type": "code",
        "colab": {}
      },
      "source": [
        "obs_n, act_n = runner.getEnvParams()\n",
        "agent = Q_Table_Agent_ep(obs_n, act_n, 0.9, 0.8, 0.01)"
      ],
      "execution_count": 0,
      "outputs": []
    },
    {
      "cell_type": "code",
      "metadata": {
        "id": "8-3ObxjPXifS",
        "colab_type": "code",
        "colab": {
          "base_uri": "https://localhost:8080/",
          "height": 34
        },
        "outputId": "83c9475c-4b79-44a5-966a-fcee196a7063"
      },
      "source": [
        "runner.runEnv(agent, 2000, 500)"
      ],
      "execution_count": 84,
      "outputs": [
        {
          "output_type": "execute_result",
          "data": {
            "text/plain": [
              "0.18"
            ]
          },
          "metadata": {
            "tags": []
          },
          "execution_count": 84
        }
      ]
    },
    {
      "cell_type": "code",
      "metadata": {
        "id": "Yv9EzKjwXt1M",
        "colab_type": "code",
        "colab": {
          "base_uri": "https://localhost:8080/",
          "height": 34
        },
        "outputId": "2aa1036a-040d-4db6-d387-40741276b184"
      },
      "source": [
        "agent.times_learned"
      ],
      "execution_count": 79,
      "outputs": [
        {
          "output_type": "execute_result",
          "data": {
            "text/plain": [
              "0"
            ]
          },
          "metadata": {
            "tags": []
          },
          "execution_count": 79
        }
      ]
    },
    {
      "cell_type": "code",
      "metadata": {
        "id": "1iMG02bdYIWy",
        "colab_type": "code",
        "colab": {
          "base_uri": "https://localhost:8080/",
          "height": 34
        },
        "outputId": "9897568b-b4b9-4689-b3c1-c87e5dbef091"
      },
      "source": [
        "agent.times_learned"
      ],
      "execution_count": 63,
      "outputs": [
        {
          "output_type": "execute_result",
          "data": {
            "text/plain": [
              "94443"
            ]
          },
          "metadata": {
            "tags": []
          },
          "execution_count": 63
        }
      ]
    },
    {
      "cell_type": "code",
      "metadata": {
        "id": "79TqYVKLYgF8",
        "colab_type": "code",
        "colab": {
          "base_uri": "https://localhost:8080/",
          "height": 34
        },
        "outputId": "2ccd8262-92d7-4bf6-c192-38488de4b5ed"
      },
      "source": [
        "agent.times_learned"
      ],
      "execution_count": 65,
      "outputs": [
        {
          "output_type": "execute_result",
          "data": {
            "text/plain": [
              "163879"
            ]
          },
          "metadata": {
            "tags": []
          },
          "execution_count": 65
        }
      ]
    },
    {
      "cell_type": "markdown",
      "metadata": {
        "id": "BUIV0q7v-ykJ",
        "colab_type": "text"
      },
      "source": [
        "# TO DO\n",
        "* Code out a runner class where we only give the environment name and an agent and it abstracts away all the loops and returns the results list. DONE\n",
        "* Refactor classes so they take lists of parameters so that each can behave in the same way. (Duck typing makes this valid)\n",
        "* Experiment with gamma, learning rate, and epsilon values.\n"
      ]
    }
  ]
}