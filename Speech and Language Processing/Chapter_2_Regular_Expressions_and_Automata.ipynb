{
  "nbformat": 4,
  "nbformat_minor": 0,
  "metadata": {
    "colab": {
      "name": "Chapter 2: Regular Expressions and Automata",
      "version": "0.3.2",
      "provenance": [],
      "collapsed_sections": [],
      "include_colab_link": true
    },
    "kernelspec": {
      "name": "python3",
      "display_name": "Python 3"
    }
  },
  "cells": [
    {
      "cell_type": "markdown",
      "metadata": {
        "id": "view-in-github",
        "colab_type": "text"
      },
      "source": [
        "<a href=\"https://colab.research.google.com/github/Benned-H/Summer2019/blob/master/Speech%20and%20Language%20Processing/Chapter_2_Regular_Expressions_and_Automata.ipynb\" target=\"_parent\"><img src=\"https://colab.research.google.com/assets/colab-badge.svg\" alt=\"Open In Colab\"/></a>"
      ]
    },
    {
      "cell_type": "markdown",
      "metadata": {
        "id": "O36A8UxzbqUg",
        "colab_type": "text"
      },
      "source": [
        "# Regular Expressions and Automata (p. 20)"
      ]
    },
    {
      "cell_type": "markdown",
      "metadata": {
        "id": "bhev2yRccEw4",
        "colab_type": "text"
      },
      "source": [
        "**Regular expression** - The standard notation for characterizing text sequences.\n",
        "\n",
        "**Finite-state automaton** - The mathematical device used to implement RegEx as well as the basis for variants such as the finite-state transducer, Hidden Markov Models, and *N*-gram grammars."
      ]
    },
    {
      "cell_type": "markdown",
      "metadata": {
        "id": "41rWoyEGdLVg",
        "colab_type": "text"
      },
      "source": [
        "## 2.1 Regular Expressions (p. 21)"
      ]
    },
    {
      "cell_type": "markdown",
      "metadata": {
        "id": "ANmLECR6dPUJ",
        "colab_type": "text"
      },
      "source": [
        "**Regular expression** (RE) is the standard for searching texts in UNIX, Microsoft Word, and various web search engines. It's used to writes formula for specifying certain classes of strings. **Strings** are sequences of symbols, typically alphanumeric. A space is a character like any other, represented by ␣."
      ]
    },
    {
      "cell_type": "markdown",
      "metadata": {
        "id": "tY6PU69zePM4",
        "colab_type": "text"
      },
      "source": [
        "Regular expressions are an algebraic notation for characterizing sets of strings; it thus has operands and operators. Only three operators are necessary, but we'll use the syntax of the Perl language because it's more convenient. A RE search needs a *pattern* and a *corpus* of texts to search through. Depending on the medium, a search might return entire documents, web pages, single words, or entire lines of text. ```grep``` does this last one."
      ]
    },
    {
      "cell_type": "markdown",
      "metadata": {
        "id": "8kh5Q3nVfD3Y",
        "colab_type": "text"
      },
      "source": [
        "### Basic RegEx Patterns"
      ]
    },
    {
      "cell_type": "markdown",
      "metadata": {
        "id": "yJUZngiUfD02",
        "colab_type": "text"
      },
      "source": [
        "The simplest search is a sequence of characters. We type ```/text/``` to return all instances of the substring *text* from our corpus. These slashes are Perl notation, not part of the regular expression. RegEx is *case sensitive*, so ```/m/``` will return different results than ```/M/```. We could use square braces to specify a disjunction: ```/[mM]/``` matches patterns containing *m* or *M*."
      ]
    },
    {
      "cell_type": "markdown",
      "metadata": {
        "id": "DCWtRQuigxQE",
        "colab_type": "text"
      },
      "source": [
        "Extending this disjunction, we can specify any single digit using ```/[0123456789]/```. But this gets awkward for the entire alphabet, so we introduce the **dash** to specify any character in a range, e.g. ```/[0-4]/``` matches any of *0*, *1*, *2*, *3*, or *4*. Also, ```/[A-Z]/``` matches an uppercase letter, ```/[a-z]/``` matches any lowercase letter, or ```/[0-9]/``` any single digit."
      ]
    },
    {
      "cell_type": "markdown",
      "metadata": {
        "id": "4OvPa1OChtPJ",
        "colab_type": "text"
      },
      "source": [
        "Also inside square brackets, the **caret** can negate what a single character can be. If the carat is the first symbol after the open bracket ```[```, the pattern is negated. Thus ```/[^a]/``` matches any character except *a*, but ```/[a^]/``` matches *a* or *^*. We can use the **question-mark** to say 'the preceding character or nothing,' e.g. ```/colou?r/``` matches *color* or *colour*."
      ]
    },
    {
      "cell_type": "markdown",
      "metadata": {
        "id": "J5q1UDDSj3Qd",
        "colab_type": "text"
      },
      "source": [
        "As for zero or more of some pattern, we can use the **Kleene star**, \\* (also closure). For example, ```/0*/``` will match any string with zero or more 0s. More complex patterns can be repeated, where ```/[me]*/``` will match \"zero or more *m*s or *e*s,\" like *mmmm* or *meme* or *memeemem*. As added help, sometimes we want one or more of some pattern, and we can use the **Kleene +** for this. Thus ```/[0-9]+/``` means any sequence of digits."
      ]
    },
    {
      "cell_type": "markdown",
      "metadata": {
        "id": "oJ8aj87Smg3B",
        "colab_type": "text"
      },
      "source": [
        "The **wildcard** character is the period (```/./```). This matches any single character except a carriage return (newline). This can be used to find any string of characters when combined with the Kleene star, e.g. ```/apple.*apple/``` will find any lines where the word *apple* appears twice."
      ]
    },
    {
      "cell_type": "markdown",
      "metadata": {
        "id": "s5B7g5OknTsG",
        "colab_type": "text"
      },
      "source": [
        "**Anchors** are characters that anchor regular expressions to certain places in a string. The most common are the caret, ```/^/```, and dollar sign. The caret matches the start of a line, so ```/^The/``` will match lines starting with the word *The*. Similarly, a dollar sign matches the end of a line. We can use a backslash to make a ```/./``` mean 'period' and not the wildcard."
      ]
    },
    {
      "cell_type": "markdown",
      "metadata": {
        "id": "27w-cbthos7a",
        "colab_type": "text"
      },
      "source": [
        "Two other anchors are ```\\b```, which matches word boundaries, and ```\\B```, which matches non-boundaries. Thus ```/\\bbro\\b/``` matches the word *bro*, but not *brother*. Perl defines words as any sequence of digits, underscores, or letters. Thus ```/\\b99\\b/``` matches *99* or *\\$99*."
      ]
    },
    {
      "cell_type": "markdown",
      "metadata": {
        "id": "jFWdTtnepwQo",
        "colab_type": "text"
      },
      "source": [
        "### Disjunction, Grouping, and Precedence (p. 25)"
      ]
    },
    {
      "cell_type": "markdown",
      "metadata": {
        "id": "goRgcosqp5Tq",
        "colab_type": "text"
      },
      "source": [
        "We need a way to search for two alternative words, which the **disjunction** (also union) operator ```|``` does. ```/cat|dog/``` matches *cat* or *dog*. We can use the **parentheses** operator to group strings with a higher precedence than union. This allows us to creates searches like ```/pupp(y|ies)/```, so that disjunction applies to only the suffixes. We can also use ```()```s to apply closure on an entire string."
      ]
    },
    {
      "cell_type": "markdown",
      "metadata": {
        "id": "UyVZogSU29-O",
        "colab_type": "text"
      },
      "source": [
        "Now that we've introduced some precedence into our operators, we should fully define this **operator precedence hierarchy**:\n",
        "1. Parenthesis: ```/()/```\n",
        "2. Counters: ```/* + ? {}/```\n",
        "3. Sequences and anchors ```/the ^ $/```\n",
        "4. Disjunction: ```/|/```"
      ]
    },
    {
      "cell_type": "markdown",
      "metadata": {
        "id": "XCNhEb3L5aBK",
        "colab_type": "text"
      },
      "source": [
        "We also find ambiguity in how patterns might match strings: consider ```/[a-z]*/``` on *once upon a time*. Will it match zero, one, all the letters? We define RegEx to match the largest expressions it can; patterns are greedy, expanding to cover as much of a string as they can."
      ]
    },
    {
      "cell_type": "markdown",
      "metadata": {
        "id": "jNUjfYsY5yt0",
        "colab_type": "text"
      },
      "source": [
        "### A Simple Example"
      ]
    },
    {
      "cell_type": "markdown",
      "metadata": {
        "id": "CRHjZHXc50Pc",
        "colab_type": "text"
      },
      "source": [
        "Suppose we want to find instances of the word *the*. Consider the following evolutions of our query:\n",
        "1. ```/the/```. But capitalization!\n",
        "2. ```/[Tt]he/```. Yet what about occurances inside words? Avoid *theology*.\n",
        "3. ```/\\b[Tt]he\\b/```. Perhaps, though, we want to find *the* in contexts next to numbers or underscores. We could instead specify:\n",
        "4. ```/[^a-zA-Z][Tt]he[^a-zA-Z]```. But this requires some character on either side of the word. Finally, we have:\n",
        "5. ```/(^|[^a-zA-Z])[Tt]he($|[^a-zA-Z])/```."
      ]
    },
    {
      "cell_type": "markdown",
      "metadata": {
        "id": "YyDYcUpl7Fev",
        "colab_type": "text"
      },
      "source": [
        "This process highlights two important considerations in speech and language processing:\n",
        "1. We want to minimize **false positives**, like matching *other* or *there*. By avoiding incorrect matches, we increase **accuracy**.\n",
        "2. We want to minimize **false negatives**, like missing *The*. By catching these cases we increase **coverage**."
      ]
    },
    {
      "cell_type": "markdown",
      "metadata": {
        "id": "a3Oxhlbq7_qq",
        "colab_type": "text"
      },
      "source": [
        "### A More Complex Example"
      ]
    },
    {
      "cell_type": "markdown",
      "metadata": {
        "id": "zxuX4yWh8Bl0",
        "colab_type": "text"
      },
      "source": [
        "This section considers regular expressions helping someone purchase a new computer online. I won't write it fully out, but highlights:\n",
        "* Use ```/\\b$[0-9]+(\\.[0-9][0-9])?\\b/``` to find prices.\n",
        "* Use ```/```␣```*/``` for zero or more spaces."
      ]
    },
    {
      "cell_type": "markdown",
      "metadata": {
        "id": "cjcBkBtQ9Yuc",
        "colab_type": "text"
      },
      "source": [
        "### Advanced Operators"
      ]
    },
    {
      "cell_type": "markdown",
      "metadata": {
        "id": "tT5nZR689ca5",
        "colab_type": "text"
      },
      "source": [
        "Additional options are included in Perl notation:\n",
        "* ```\\d``` denotes any digit.\n",
        "* ```\\D``` denotes any non-digit.\n",
        "* ```\\w``` denotes any alphanumeric or underscore.\n",
        "* ```\\W``` denotes ```[^\\w]```.\n",
        "* ```\\s``` denotes whitespace such as a space or tab.\n",
        "* ```\\S``` denotes ```[^\\s]```.\n",
        "* ```\\n``` is a newline.\n",
        "* ```\\t``` is a tab."
      ]
    },
    {
      "cell_type": "markdown",
      "metadata": {
        "id": "LZwH5BuzdEbR",
        "colab_type": "text"
      },
      "source": [
        "We can also use numbers in brackets to indicate a certain number of the previous expression, e.g. ```/Ben{2}ed/``` will match my name, with exactly two *n*s. A range can be specified, so ```/{n,m}/``` specifies from *n* to *m* occurances of the previous expression, or ```/{n,}/``` means at least *n* copies. Thus:\n",
        "\n",
        "* ```/*/``` acts like ```/{0,}/```.\n",
        "* ```/+/``` acts like ```/{1,}/```.\n",
        "* ```/?/``` acts like ```/{0,1}/```."
      ]
    },
    {
      "cell_type": "markdown",
      "metadata": {
        "id": "a3QQSQNIeYiK",
        "colab_type": "text"
      },
      "source": [
        "### Regular Expression Substitution, Memory, and ELIZA"
      ]
    },
    {
      "cell_type": "markdown",
      "metadata": {
        "id": "n3kpFyx8eeXP",
        "colab_type": "text"
      },
      "source": [
        "The Perl substitution operator lets a string characterized by some RegEx to be replaced by another string: ```s/colour/color/```. If we want to refer back to the subpart matching the first pattern, we can put parentheses around the first pattern and use the **number** operator  ```\\1``` to refer back. Thus ```s/([0-9]+)/<\\1>/``` puts angle brackets around all numbers."
      ]
    },
    {
      "cell_type": "markdown",
      "metadata": {
        "id": "BZeBrXkkfpwr",
        "colab_type": "text"
      },
      "source": [
        "We can also use this notation to require that some string appear twice in our pattern, e.g. ```/the (.*)er they were, the \\1er they will be/``` requires that the ```\\1``` substring be the same thing as the ```(.*)```. A second set of parentheses could be used and then called back to using ```\\2```. These numbered memories are called **registers** and are not necessarily a part of all RegEx languages."
      ]
    },
    {
      "cell_type": "markdown",
      "metadata": {
        "id": "bd3aecY3gnKI",
        "colab_type": "text"
      },
      "source": [
        "This gives us enough tools to understand ELIZA, which just used a cascade of these kinds of substitutions which matched and then changed input lines. The first substitutions changed *my* to *your*, *I'm* to *you're*, and so on. Next, specific phrases or words were targeted and either reused using number operators or given some standard response phrase. These later substitutions were given ranks and applied in order to avoid issues."
      ]
    },
    {
      "cell_type": "markdown",
      "metadata": {
        "id": "oLej3MK-hSmE",
        "colab_type": "text"
      },
      "source": [
        "## 2.2 Finite-State Automata (p. 30)"
      ]
    },
    {
      "cell_type": "markdown",
      "metadata": {
        "id": "5c3BS1yhhXSD",
        "colab_type": "text"
      },
      "source": [
        "Regular expressions are just one way to describe **finite-state automata** (FSA). FSA are the theoretical foundation for a lot of this book, and any non-memory RegEx can be implemented using an FSA. Regular expressions also characterize a kind of formal langauge called a **regular language**. A third equivalent method, the **regular grammar**, will be discussed in Ch. 15."
      ]
    },
    {
      "cell_type": "markdown",
      "metadata": {
        "id": "Grdugn4QiHGr",
        "colab_type": "text"
      },
      "source": [
        "### Using an FSA to Recognize Sheeptalk"
      ]
    },
    {
      "cell_type": "markdown",
      "metadata": {
        "id": "DftWb_31iJoZ",
        "colab_type": "text"
      },
      "source": [
        "Let's say we want to recognize some language for sheep:\n",
        "* $L(sheep)=$ ```/baa+!/```."
      ]
    }
  ]
}