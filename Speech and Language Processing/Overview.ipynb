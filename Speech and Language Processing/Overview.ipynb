{
  "nbformat": 4,
  "nbformat_minor": 0,
  "metadata": {
    "colab": {
      "name": "Overview",
      "version": "0.3.2",
      "provenance": [],
      "collapsed_sections": [],
      "include_colab_link": true
    },
    "kernelspec": {
      "name": "python3",
      "display_name": "Python 3"
    }
  },
  "cells": [
    {
      "cell_type": "markdown",
      "metadata": {
        "id": "view-in-github",
        "colab_type": "text"
      },
      "source": [
        "<a href=\"https://colab.research.google.com/github/Benned-H/Summer2019/blob/master/Speech%20and%20Language%20Processing/Overview.ipynb\" target=\"_parent\"><img src=\"https://colab.research.google.com/assets/colab-badge.svg\" alt=\"Open In Colab\"/></a>"
      ]
    },
    {
      "cell_type": "markdown",
      "metadata": {
        "id": "2lVxh2Vo0_OU",
        "colab_type": "text"
      },
      "source": [
        "# Overview"
      ]
    },
    {
      "cell_type": "markdown",
      "metadata": {
        "id": "WpbVZbca1CMr",
        "colab_type": "text"
      },
      "source": [
        "Over this summer, I plan to read as much as I can of Jurafsky and Martin's *Speech and Language Processing* textbook. The draft I've found of the second edition of the textbook has 25 chapters, and my summer is about 14 weeks long. If I can cover two chapters a week, I'd be set, but we'll see how feasible this is. I'm reading this book to prepare for a course this fall that uses it, and per the course's past syllabus, I should be fine if I cover all chapters before 13 as well as chapter 20. I also have a pdf of the third edition's draft which I'll use to supplement chapters that pique my interest."
      ]
    },
    {
      "cell_type": "markdown",
      "metadata": {
        "id": "0FE2l2zb9pfh",
        "colab_type": "text"
      },
      "source": [
        "Thus my goal is set: cover two chapters a week until further notice. I'll update this document to reflect my progress and include links to all notes and code I take or create during this summer. Here's to learning.\n",
        "\n",
        "*--Updated 5/18/2019--*"
      ]
    }
  ]
}